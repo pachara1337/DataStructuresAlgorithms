{
  "cells": [
    {
      "cell_type": "markdown",
      "metadata": {
        "id": "N5ssqIvqE9pG"
      },
      "source": [
        "# Lab 1: Python Revision and Timing\n",
        "\n",
        "Lecturer: <code>Sirasit Lochanachit</code>\n",
        "\n",
        "Course:\n",
        "\n",
        "<code>01526102 Data Sturctures and Algorithms [SIIE]\n",
        "</code>\n",
        "\n",
        "Term: <code>02/2024</code>\n",
        "\n",
        "---"
      ]
    },
    {
      "cell_type": "markdown",
      "metadata": {
        "id": "zGZ20mXjE9pH"
      },
      "source": [
        "# Lab 1-1\n",
        "Write a Python function **is_multiple(*n*, *m*)** that accepts two integer values (*n* and *m*) and returns a result as *True* or *False*.\n",
        "- Return *True* if *n* is a multiple of *m*, that is, *n* = *m* * *i* for some integer *i*\n",
        "- Return *False* otherwise\n"
      ]
    },
    {
      "cell_type": "code",
      "execution_count": 92,
      "metadata": {
        "id": "tDhipgLvE9pH",
        "colab": {
          "base_uri": "https://localhost:8080/"
        },
        "outputId": "398862cc-9847-4c23-bd93-628718bd176c"
      },
      "outputs": [
        {
          "output_type": "execute_result",
          "data": {
            "text/plain": [
              "True"
            ]
          },
          "metadata": {},
          "execution_count": 92
        }
      ],
      "source": [
        "def is_multiple(n: int, m: int):\n",
        "    if n % m == 0 and m != 0:\n",
        "        return True\n",
        "    else:\n",
        "       return False\n",
        "pass\n",
        "\n",
        "is_multiple(10, 2)\n",
        "\n"
      ]
    },
    {
      "cell_type": "markdown",
      "metadata": {
        "id": "PgYDpx5ZE9pH"
      },
      "source": [
        "---"
      ]
    },
    {
      "cell_type": "markdown",
      "metadata": {
        "id": "eBUqABQuE9pH"
      },
      "source": [
        "# Lab 1-2\n",
        "Write a Python function **is_even(*k*)** that accepts an integer value (*k*) and returns a result as *True* or *False*.\n",
        "- Return *True* if *k* is even\n",
        "- Return *False* otherwise\n",
        "- Multiplication, modulo, or division operators are not allowed.\n"
      ]
    },
    {
      "cell_type": "code",
      "execution_count": 102,
      "metadata": {
        "id": "t6QBTaNZE9pH",
        "colab": {
          "base_uri": "https://localhost:8080/"
        },
        "outputId": "92ea8c52-ce7f-49b2-81e8-63205c6ec121"
      },
      "outputs": [
        {
          "output_type": "execute_result",
          "data": {
            "text/plain": [
              "True"
            ]
          },
          "metadata": {},
          "execution_count": 102
        }
      ],
      "source": [
        "def is_even(k: int):\n",
        "    k = abs(k)\n",
        "    while k >= 2:\n",
        "        k -= 2\n",
        "    if k == 0:\n",
        "        return True\n",
        "    else:\n",
        "        return False\n",
        "pass\n",
        "\n",
        "\n",
        "(is_even(-12))\n"
      ]
    },
    {
      "cell_type": "markdown",
      "metadata": {
        "id": "S5Fmf-7pE9pH"
      },
      "source": [
        "---"
      ]
    },
    {
      "cell_type": "markdown",
      "metadata": {
        "id": "jM41L6RHE9pI"
      },
      "source": [
        "# Lab 1-3\n",
        "\n",
        "## 3.1 Write a Python function `minmax_iter(data)` that accepts a sequence of one or more numbers, and returns the smallest and largest numbers in a sequence using **iteration** (i.e. loop)\n",
        "\n",
        "## Problem Description\n",
        "1. Write a function `minmax_iter(data)` that:\n",
        "- Accepts a list of one or more numeric values\n",
        "- Returns a tuple of length two `(smallest, largest)`.\n",
        "- Uses **iteration** to find the smallest and largest values.\n",
        "\n",
        "2. Your function must:\n",
        "- Handle cases where the list has only one element.\n",
        "- Correctly compute the minimum and maximum for lists with more than one element.\n",
        "\n",
        "## Constraints\n",
        "- Built-in functions `min()` or `max()` are not allowed.\n"
      ]
    },
    {
      "cell_type": "code",
      "execution_count": 105,
      "metadata": {
        "id": "oYMAJyIUE9pI"
      },
      "outputs": [],
      "source": [
        "def minmax_iter(data):\n",
        "    if not data:\n",
        "        raise ValueError(\"Input sequence must contain at least one number.\")\n",
        "\n",
        "    smallest = 0\n",
        "    largest = 0\n",
        "\n",
        "    if len(data) == 1:\n",
        "        smallest = data[0]\n",
        "        largest = data[0]\n",
        "    for i in range(1,len(data)):\n",
        "        if data[i] == 1:\n",
        "            smallest = 1\n",
        "    for i in range(1,len(data)):\n",
        "        if data[i] > largest:\n",
        "            largest = data[i]\n",
        "        elif data[i] < smallest:\n",
        "            smallest = data[i]\n",
        "        else:\n",
        "            continue\n",
        "\n",
        "\n",
        "    return (smallest, largest)"
      ]
    },
    {
      "cell_type": "markdown",
      "metadata": {
        "id": "M-6a1590E9pI"
      },
      "source": [
        "## Example Behavior"
      ]
    },
    {
      "cell_type": "code",
      "execution_count": 106,
      "metadata": {
        "colab": {
          "base_uri": "https://localhost:8080/"
        },
        "id": "dt7K1VZrE9pI",
        "outputId": "42e6b1a7-2df5-40db-da90-b3a6f25abf2c"
      },
      "outputs": [
        {
          "output_type": "stream",
          "name": "stdout",
          "text": [
            "(0, 9)\n",
            "(-10, 0)\n",
            "(42, 42)\n"
          ]
        }
      ],
      "source": [
        "# Example inputs and outputs:\n",
        "print(minmax_iter([3, 1, 4, 1, 5, 9, 2, 6, 5, 3]))  # Output: (1, 9)\n",
        "print(minmax_iter([-7, -2, -5, -10, 0]))            # Output: (-10, 0)\n",
        "print(minmax_iter([42]))                            # Output: (42, 42)\n"
      ]
    },
    {
      "cell_type": "markdown",
      "metadata": {
        "id": "MOZ82F_NE9pI"
      },
      "source": [
        "---"
      ]
    },
    {
      "cell_type": "markdown",
      "source": [],
      "metadata": {
        "id": "PTLirYM-X7iL"
      }
    },
    {
      "cell_type": "markdown",
      "metadata": {
        "id": "dcuE-Mh2E9pI"
      },
      "source": [
        "## 3.2 Write a Python function `minmax_recur(data)` that accepts a sequence of one or more numbers, and returns the smallest and largest numbers in a sequence using **recursion**\n",
        "\n",
        "## Problem Description\n",
        "1. Write a function `minmax_recur(data)` that:\n",
        "- Accepts a list of one or more numeric values\n",
        "- Returns a tuple of length two `(smallest, largest)`.\n",
        "- Uses **recursion** to find the smallest and largest values.\n",
        "\n",
        "2. Your function must:\n",
        "- Handle cases where the list has only one element.\n",
        "- Correctly compute the minimum and maximum for lists with more than one element.\n",
        "\n",
        "## Constraints\n",
        "- Built-in functions `min()` or `max()` are not allowed.\n",
        "- loops (`for` or `while`) are not allowed.\n",
        "- Use `recursion` to traverse the list.\n"
      ]
    },
    {
      "cell_type": "code",
      "execution_count": 84,
      "metadata": {
        "id": "W-ZIm6tQE9pI"
      },
      "outputs": [],
      "source": [
        "def minmax_recur(data):\n",
        "    if len(data) == 1:\n",
        "        return data[0], data[0]\n",
        "\n",
        "    first = data[0]\n",
        "    smallest, largest = minmax_recur(data[1:])\n",
        "\n",
        "    if first < smallest:\n",
        "        smallest = first\n",
        "\n",
        "    if first > largest:\n",
        "        largest = first\n",
        "\n",
        "    return (smallest, largest)\n",
        "\n"
      ]
    },
    {
      "cell_type": "code",
      "execution_count": 85,
      "metadata": {
        "colab": {
          "base_uri": "https://localhost:8080/"
        },
        "id": "w0vbym1hE9pI",
        "outputId": "e79b8f8d-e502-4d90-935e-08295daf7454"
      },
      "outputs": [
        {
          "output_type": "stream",
          "name": "stdout",
          "text": [
            "(1, 9)\n",
            "(-10, 0)\n",
            "(42, 42)\n"
          ]
        }
      ],
      "source": [
        "print(minmax_recur([3, 1, 4, 1, 5, 9, 2, 6, 5, 3]))\n",
        "print(minmax_recur([-7, -2, -5, -10, 0]))\n",
        "print(minmax_recur([42]))"
      ]
    },
    {
      "cell_type": "markdown",
      "metadata": {
        "id": "Zli5YRyBE9pI"
      },
      "source": [
        "---"
      ]
    },
    {
      "cell_type": "markdown",
      "metadata": {
        "id": "XcsLnfQQE9pI"
      },
      "source": [
        "# Timing and timeit Tutorial"
      ]
    },
    {
      "cell_type": "markdown",
      "metadata": {
        "id": "huX9XfLoE9pI"
      },
      "source": [
        "The [`time`](https://docs.python.org/3/library/time.html#module-time) module contains functions for obtaining and interpreting the current system time (in seconds).\n",
        "\n",
        "Technically, it is the time since the **epoch**, where time starts in 1 January 1970.\n",
        "\n",
        "What is the current system time (in seconds)?"
      ]
    },
    {
      "cell_type": "code",
      "execution_count": 77,
      "metadata": {
        "colab": {
          "base_uri": "https://localhost:8080/"
        },
        "id": "H9vyp8wsE9pI",
        "outputId": "e9c5a1f7-b269-44b9-82d4-73b42357fdef"
      },
      "outputs": [
        {
          "output_type": "execute_result",
          "data": {
            "text/plain": [
              "1732528367.931262"
            ]
          },
          "metadata": {},
          "execution_count": 77
        }
      ],
      "source": [
        "import time\n",
        "time.time()"
      ]
    },
    {
      "cell_type": "markdown",
      "metadata": {
        "id": "CoYm05xxE9pI"
      },
      "source": [
        "How many years since the epoch?"
      ]
    },
    {
      "cell_type": "code",
      "execution_count": 78,
      "metadata": {
        "colab": {
          "base_uri": "https://localhost:8080/"
        },
        "id": "FY3inWpmE9pJ",
        "outputId": "fd02a3eb-00df-429e-c7b0-b035270a9490"
      },
      "outputs": [
        {
          "output_type": "execute_result",
          "data": {
            "text/plain": [
              "54.0"
            ]
          },
          "metadata": {},
          "execution_count": 78
        }
      ],
      "source": [
        "time.time() // (365 * 24 * 60 * 60)"
      ]
    },
    {
      "cell_type": "markdown",
      "metadata": {
        "id": "TabzxxG1E9pJ"
      },
      "source": [
        "What is the current local time? (Depends on timezone set in your machine)"
      ]
    },
    {
      "cell_type": "code",
      "execution_count": 79,
      "metadata": {
        "colab": {
          "base_uri": "https://localhost:8080/"
        },
        "id": "EQYzz5ECE9pJ",
        "outputId": "9d607993-a114-43a0-99f7-0bf7b385a23b"
      },
      "outputs": [
        {
          "output_type": "execute_result",
          "data": {
            "text/plain": [
              "time.struct_time(tm_year=2024, tm_mon=11, tm_mday=25, tm_hour=9, tm_min=52, tm_sec=47, tm_wday=0, tm_yday=330, tm_isdst=0)"
            ]
          },
          "metadata": {},
          "execution_count": 79
        }
      ],
      "source": [
        "time.localtime(time.time())"
      ]
    },
    {
      "cell_type": "markdown",
      "metadata": {
        "id": "1J_1pQgdE9pJ"
      },
      "source": [
        "By taking start and stop \"timestamps\", we can measure the runtime of code:"
      ]
    },
    {
      "cell_type": "code",
      "execution_count": 80,
      "metadata": {
        "colab": {
          "base_uri": "https://localhost:8080/"
        },
        "id": "q0ZHV039E9pJ",
        "outputId": "dada4c20-a96b-46e1-e77a-d043e74fe561"
      },
      "outputs": [
        {
          "output_type": "stream",
          "name": "stdout",
          "text": [
            "Time executed: 1.00049 seconds\n"
          ]
        }
      ],
      "source": [
        "start_time = time.time() # Record the starting time\n",
        "########################\n",
        "# Run your algorithm\n",
        "########################\n",
        "time.sleep(1)\n",
        "end_time = time.time() # Record the ending time\n",
        "\n",
        "running_time = end_time - start_time    # Record time executed\n",
        "\n",
        "print(f\"Time executed: {running_time:.5f} seconds\")"
      ]
    },
    {
      "cell_type": "markdown",
      "metadata": {
        "id": "0QH3-6kZE9pJ"
      },
      "source": [
        "---"
      ]
    },
    {
      "cell_type": "markdown",
      "metadata": {
        "id": "CyauxWjwE9pJ"
      },
      "source": [
        "## 1. Building a stopwatch utility\n",
        "\n",
        "We can build a utility function for timing the execution of a passed-in function:"
      ]
    },
    {
      "cell_type": "code",
      "execution_count": 81,
      "metadata": {
        "id": "Uswyg-fmE9pJ"
      },
      "outputs": [],
      "source": [
        "def stopwatch(fn):\n",
        "    start_time = time.time()\n",
        "    fn()\n",
        "    end_time = time.time()\n",
        "    return end_time - start_time"
      ]
    },
    {
      "cell_type": "markdown",
      "metadata": {
        "id": "oDwgtR_VE9pJ"
      },
      "source": [
        "Can you guess what does this code do?"
      ]
    },
    {
      "cell_type": "code",
      "execution_count": 82,
      "metadata": {
        "colab": {
          "base_uri": "https://localhost:8080/"
        },
        "id": "sJeFuOWgE9pJ",
        "outputId": "e52afa1c-4f8c-47c0-97cf-b95fdbb7b3ea"
      },
      "outputs": [
        {
          "output_type": "execute_result",
          "data": {
            "text/plain": [
              "4999950000"
            ]
          },
          "metadata": {},
          "execution_count": 82
        }
      ],
      "source": [
        "sum(range(100000))"
      ]
    },
    {
      "cell_type": "markdown",
      "metadata": {
        "id": "eBst9SscE9pJ"
      },
      "source": [
        "Can you time the execution of this code?"
      ]
    },
    {
      "cell_type": "code",
      "execution_count": 83,
      "metadata": {
        "colab": {
          "base_uri": "https://localhost:8080/",
          "height": 273
        },
        "id": "DHNlR3gWE9pJ",
        "outputId": "28fc11e6-fd08-42b4-f720-6e39428ad499"
      },
      "outputs": [
        {
          "output_type": "error",
          "ename": "TypeError",
          "evalue": "'int' object is not callable",
          "traceback": [
            "\u001b[0;31m---------------------------------------------------------------------------\u001b[0m",
            "\u001b[0;31mTypeError\u001b[0m                                 Traceback (most recent call last)",
            "\u001b[0;32m<ipython-input-83-a5e4f989b322>\u001b[0m in \u001b[0;36m<cell line: 1>\u001b[0;34m()\u001b[0m\n\u001b[0;32m----> 1\u001b[0;31m \u001b[0mstopwatch\u001b[0m\u001b[0;34m(\u001b[0m\u001b[0msum\u001b[0m\u001b[0;34m(\u001b[0m\u001b[0mrange\u001b[0m\u001b[0;34m(\u001b[0m\u001b[0;36m100000\u001b[0m\u001b[0;34m)\u001b[0m\u001b[0;34m)\u001b[0m\u001b[0;34m)\u001b[0m\u001b[0;34m\u001b[0m\u001b[0;34m\u001b[0m\u001b[0m\n\u001b[0m",
            "\u001b[0;32m<ipython-input-81-4feb9bbeb54b>\u001b[0m in \u001b[0;36mstopwatch\u001b[0;34m(fn)\u001b[0m\n\u001b[1;32m      1\u001b[0m \u001b[0;32mdef\u001b[0m \u001b[0mstopwatch\u001b[0m\u001b[0;34m(\u001b[0m\u001b[0mfn\u001b[0m\u001b[0;34m)\u001b[0m\u001b[0;34m:\u001b[0m\u001b[0;34m\u001b[0m\u001b[0;34m\u001b[0m\u001b[0m\n\u001b[1;32m      2\u001b[0m     \u001b[0mstart_time\u001b[0m \u001b[0;34m=\u001b[0m \u001b[0mtime\u001b[0m\u001b[0;34m.\u001b[0m\u001b[0mtime\u001b[0m\u001b[0;34m(\u001b[0m\u001b[0;34m)\u001b[0m\u001b[0;34m\u001b[0m\u001b[0;34m\u001b[0m\u001b[0m\n\u001b[0;32m----> 3\u001b[0;31m     \u001b[0mfn\u001b[0m\u001b[0;34m(\u001b[0m\u001b[0;34m)\u001b[0m\u001b[0;34m\u001b[0m\u001b[0;34m\u001b[0m\u001b[0m\n\u001b[0m\u001b[1;32m      4\u001b[0m     \u001b[0mend_time\u001b[0m \u001b[0;34m=\u001b[0m \u001b[0mtime\u001b[0m\u001b[0;34m.\u001b[0m\u001b[0mtime\u001b[0m\u001b[0;34m(\u001b[0m\u001b[0;34m)\u001b[0m\u001b[0;34m\u001b[0m\u001b[0;34m\u001b[0m\u001b[0m\n\u001b[1;32m      5\u001b[0m     \u001b[0;32mreturn\u001b[0m \u001b[0mend_time\u001b[0m \u001b[0;34m-\u001b[0m \u001b[0mstart_time\u001b[0m\u001b[0;34m\u001b[0m\u001b[0;34m\u001b[0m\u001b[0m\n",
            "\u001b[0;31mTypeError\u001b[0m: 'int' object is not callable"
          ]
        }
      ],
      "source": [
        "stopwatch(sum(range(100000)))"
      ]
    },
    {
      "cell_type": "markdown",
      "metadata": {
        "id": "LZnVW3gjE9pJ"
      },
      "source": [
        "Try again by passing a small anonymous function to another function, which is `lambda` function"
      ]
    },
    {
      "cell_type": "code",
      "execution_count": null,
      "metadata": {
        "id": "2e2Y9qa_E9pJ"
      },
      "outputs": [],
      "source": [
        "stopwatch(lambda: sum(range(100000)))"
      ]
    },
    {
      "cell_type": "markdown",
      "metadata": {
        "id": "dMKTtavVE9pJ"
      },
      "source": [
        "While using a lambda is one possible approach, it limits us to passing in a function that must be called a certain way (e.g., with no arguments).\n",
        "\n",
        "We can make use of the `eval` function to evaluate an arbitrary string of Python code instead."
      ]
    },
    {
      "cell_type": "code",
      "execution_count": null,
      "metadata": {
        "id": "6knKNtA5E9pJ"
      },
      "outputs": [],
      "source": [
        "eval('1 + 2')"
      ]
    },
    {
      "cell_type": "code",
      "execution_count": null,
      "metadata": {
        "id": "5hD7Tk0KE9pJ"
      },
      "outputs": [],
      "source": [
        "eval('sum(range(100000))')"
      ]
    },
    {
      "cell_type": "code",
      "execution_count": null,
      "metadata": {
        "id": "kVfy7ki-E9pJ"
      },
      "outputs": [],
      "source": [
        "def stopwatch(stmt='pass'):\n",
        "    start_time = time.time()\n",
        "    eval(stmt)\n",
        "    end_time = time.time()\n",
        "    return end_time - start_time"
      ]
    },
    {
      "cell_type": "markdown",
      "metadata": {
        "id": "quP6hP0oE9pJ"
      },
      "source": [
        "Total timing of 1 round on function"
      ]
    },
    {
      "cell_type": "code",
      "execution_count": null,
      "metadata": {
        "id": "aHpuiT3EE9pK"
      },
      "outputs": [],
      "source": [
        "stopwatch('sum(range(100000))')"
      ]
    },
    {
      "cell_type": "markdown",
      "metadata": {
        "id": "jQ8tymiPE9pK"
      },
      "source": [
        "To make timings more stable, we can run the passed-in function __multiple times__:"
      ]
    },
    {
      "cell_type": "code",
      "execution_count": null,
      "metadata": {
        "id": "TRTH4bL2E9pK"
      },
      "outputs": [],
      "source": [
        "def stopwatch_rounds(stmt='pass', number=1):\n",
        "    total = 0\n",
        "    for _ in range(number):\n",
        "        start_time = time.time()\n",
        "        eval(stmt)\n",
        "        end_time = time.time()\n",
        "        total += end_time - start_time\n",
        "    return total"
      ]
    },
    {
      "cell_type": "markdown",
      "metadata": {
        "id": "GVeQNDz9E9pK"
      },
      "source": [
        "Total timing of 1000 rounds on the same function"
      ]
    },
    {
      "cell_type": "code",
      "execution_count": null,
      "metadata": {
        "id": "uW8sd9r5E9pK"
      },
      "outputs": [],
      "source": [
        "stopwatch_rounds('sum(range(10000))', number=1000)"
      ]
    },
    {
      "cell_type": "markdown",
      "metadata": {
        "id": "bkX3eOjUE9pK"
      },
      "source": [
        "---"
      ]
    },
    {
      "cell_type": "markdown",
      "metadata": {
        "id": "cQqpgEfyE9pK"
      },
      "source": [
        "## 2. The `timeit` module\n",
        "\n",
        "Instead of writing the custom stopwatch function above, the [`timeit`](https://docs.python.org/3/library/timeit.html) module is a built-in library for measuring the execution of code passed in as a string."
      ]
    },
    {
      "cell_type": "code",
      "execution_count": null,
      "metadata": {
        "id": "ZhAuhIP6E9pK"
      },
      "outputs": [],
      "source": [
        "import timeit\n",
        "timeit.timeit('sum(range(1000))', number=1000)"
      ]
    },
    {
      "cell_type": "markdown",
      "metadata": {
        "id": "7_dGzuuWE9pK"
      },
      "source": [
        "It also supports passing in `setup` code that is not timed.\n",
        "\n",
        "For example, before recording running time, `r` variable is assigned to `range(1000)` and this execution will not be included in the timing."
      ]
    },
    {
      "cell_type": "code",
      "execution_count": null,
      "metadata": {
        "id": "HZb9eFZJE9pL"
      },
      "outputs": [],
      "source": [
        "timeit.timeit('sum(r)',\n",
        "              setup='r = range(1000)',\n",
        "              number=1000)"
      ]
    },
    {
      "cell_type": "markdown",
      "metadata": {
        "id": "SJPVMFiKE9pL"
      },
      "source": [
        "We can easily use this to gather timings for multiple input values:\n",
        "\n",
        "For instance, we would like to record the running times for each input of `n` starting from 1000, 2000, 3000, ... , 10000"
      ]
    },
    {
      "cell_type": "code",
      "execution_count": null,
      "metadata": {
        "id": "FwlhXcGFE9pL"
      },
      "outputs": [],
      "source": [
        "[timeit.timeit('sum(r)',\n",
        "               setup=f'r = range({n})',\n",
        "               number=1000)\n",
        " for n in range(1000, 11000, 1000)]"
      ]
    },
    {
      "cell_type": "markdown",
      "metadata": {
        "id": "so-dFmoRE9pL"
      },
      "source": [
        "Sometimes we might want to make use of functions defined in our notebook in the timed/setup code passed to `timeit`. We need to use the `globals` argument for this:"
      ]
    },
    {
      "cell_type": "code",
      "execution_count": null,
      "metadata": {
        "id": "qx22aYpDE9pL"
      },
      "outputs": [],
      "source": [
        "def fib(n):\n",
        "    if n == 0:\n",
        "        return 0\n",
        "    elif n == 1:\n",
        "        return 1\n",
        "    else:\n",
        "        return fib(n-1) + fib(n-2)"
      ]
    },
    {
      "cell_type": "code",
      "execution_count": null,
      "metadata": {
        "id": "BeFYuk-DE9pL"
      },
      "outputs": [],
      "source": [
        "[fib(n) for n in range(15)]"
      ]
    },
    {
      "cell_type": "markdown",
      "metadata": {
        "id": "mVytV6fcE9pL"
      },
      "source": [
        "### globals()\n",
        "\n",
        "It returns a dictionary of everything defined in this module.\n",
        "\n",
        "For example, in order to call a custom function `fib`, we need to include globals(), otherwise it is not available to use in a `timeit` function.\n",
        "\n",
        "The"
      ]
    },
    {
      "cell_type": "code",
      "execution_count": null,
      "metadata": {
        "id": "mQUCJoefE9pL"
      },
      "outputs": [],
      "source": [
        "[timeit.timeit(f'fib({n})',\n",
        "               number=1000,\n",
        "               globals=globals()) # recall: \"globals()\" returns a dictionary of everything\n",
        "                                  # defined in this module; timeit needs it to access `fib`\n",
        " for n in range(1, 15)]"
      ]
    },
    {
      "cell_type": "markdown",
      "metadata": {
        "id": "Uu9BBbn7E9pL"
      },
      "source": [
        "---"
      ]
    },
    {
      "cell_type": "markdown",
      "metadata": {
        "id": "7M1mHcLnE9pL"
      },
      "source": [
        "# Lab 1-4 Measure and Comparing Execution Time of Iterative and Recursive `minmax` Functions"
      ]
    },
    {
      "cell_type": "markdown",
      "metadata": {
        "id": "ts2uWgoUE9pL"
      },
      "source": [
        "## 4.1 Use the `timeit` module to measure the time taken by each version of the `minmax` function for lists of various sizes (e.g., 100, 1,000, 10,000 elements) and analyze the performance of each approach.\n",
        "\n",
        "## Constraints\n",
        "- Use the `timeit.timeit` function to measure the time taken by each version for lists of increasing sizes.\n",
        "- Write a list comprehension to record the execution times for both versions as the list size increases.\n",
        "- Each size should be executed **100 rounds**\n",
        "\n",
        "Generate the lists using `random` module:"
      ]
    },
    {
      "cell_type": "code",
      "execution_count": 114,
      "metadata": {
        "id": "bd-KMXXuE9pL"
      },
      "outputs": [],
      "source": [
        "list_sizes = [50, 500]\n",
        "\n",
        "import random\n",
        "test_list = [random.randint(1, 1000) for _ in (list_sizes)]"
      ]
    },
    {
      "cell_type": "code",
      "source": [
        "import random\n",
        "import timeit\n",
        "\n",
        "iterative_times = [timeit.timeit(f'minmax_iter({[random.randint(1,1000) for _ in range(size)]})',\n",
        "                    number=100,\n",
        "                    globals=globals()) for size in list_sizes\n",
        "                  ]\n",
        "\n",
        "\n",
        "recursive_times = [timeit.timeit(f'minmax_recur({[random.randint(1,1000) for _ in range(size)]})',\n",
        "                    number =100,\n",
        "                    globals=globals()) for size in list_sizes\n",
        "                   ]\n",
        "print(iterative_times)\n",
        "print(recursive_times)"
      ],
      "metadata": {
        "colab": {
          "base_uri": "https://localhost:8080/"
        },
        "id": "L8KZE0v7plu6",
        "outputId": "b9bb4102-ee7a-4aa3-c9c9-6b7f89d1a825"
      },
      "execution_count": 115,
      "outputs": [
        {
          "output_type": "stream",
          "name": "stdout",
          "text": [
            "[0.0008979060003184713, 0.007010658000581316]\n",
            "[0.002293291001478792, 0.05883542999981728]\n"
          ]
        }
      ]
    },
    {
      "cell_type": "markdown",
      "metadata": {
        "id": "io7aBuDjE9pL"
      },
      "source": [
        "Use a loop to display the execution times for both approaches in a table-like format."
      ]
    },
    {
      "cell_type": "markdown",
      "metadata": {
        "id": "HksAK9quE9pL"
      },
      "source": [
        "### Example Input and Output\n",
        "\n",
        "For lists of size `[10, 100, 1000]`:"
      ]
    },
    {
      "cell_type": "markdown",
      "metadata": {
        "id": "pZBpcuA3E9pL"
      },
      "source": [
        "```Python\n",
        "List size: 10\n",
        "Iterative: 0.000012 seconds\n",
        "Recursive: 0.000045 seconds\n",
        "\n",
        "List size: 100\n",
        "Iterative: 0.000102 seconds\n",
        "Recursive: 0.000875 seconds\n",
        "\n",
        "List size: 1000\n",
        "Iterative: 0.001023 seconds\n",
        "Recursive: Stack Overflow (or longer runtime)\n",
        "```"
      ]
    },
    {
      "cell_type": "markdown",
      "metadata": {
        "id": "QXhyYMpXE9pM"
      },
      "source": [
        "---"
      ]
    },
    {
      "cell_type": "markdown",
      "metadata": {
        "id": "hHY_iuiME9pM"
      },
      "source": []
    }
  ],
  "metadata": {
    "kernelspec": {
      "display_name": "Python 3",
      "language": "python",
      "name": "python3"
    },
    "language_info": {
      "codemirror_mode": {
        "name": "ipython",
        "version": 3
      },
      "file_extension": ".py",
      "mimetype": "text/x-python",
      "name": "python",
      "nbconvert_exporter": "python",
      "pygments_lexer": "ipython3",
      "version": "3.10.2"
    },
    "orig_nbformat": 4,
    "colab": {
      "provenance": []
    }
  },
  "nbformat": 4,
  "nbformat_minor": 0
}