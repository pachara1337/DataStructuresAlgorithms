{
  "cells": [
    {
      "cell_type": "markdown",
      "metadata": {
        "id": "FKiiTjbwZqI2"
      },
      "source": [
        "# Lab 5 Part 2: Array Stack vs Singly Linked List Stack"
      ]
    },
    {
      "cell_type": "markdown",
      "metadata": {
        "id": "z9-TQPKJZqI3"
      },
      "source": [
        "Lecturer: <code>Sirasit Lochanachit</code>\n",
        "\n",
        "Course:\n",
        "\n",
        "<code>01526121 Data Structures and Algorithms [SIIE]\n",
        "</code>\n",
        "\n",
        "Term: <code>02/2024</code>\n",
        "\n",
        "---"
      ]
    },
    {
      "cell_type": "markdown",
      "metadata": {
        "id": "1QhwnYIqZqI3"
      },
      "source": [
        "# Lab 5-3 Implement a LIFO stack using Singly Linked List"
      ]
    },
    {
      "cell_type": "markdown",
      "metadata": {
        "id": "jBtRMfFfZqI3"
      },
      "source": [
        "## Problem Description\n",
        "\n",
        "Your task is to implement a Stack data structure using Singly Linked List data structure in Python.\n",
        "\n",
        "\n",
        "## Requirements\n",
        "\n",
        "1. For this implementation, the __top of stack is the head of the list__.\n",
        "\n",
        "2. Each stack instance maintains two variables.\n",
        "    1.   The `_head` member is a reference to the node at the head of the list (or None, if the stack is empty).\n",
        "    2.   The `_size` instance variable keeps track the current number of elements.\n",
        "      * Otherwise, we need to search through the entire list to count the number of\n",
        "elements when reporting the stack's size.\n",
        "\n",
        "3. Use `NumberNode` class (as defined below) to create a new data node.\n",
        "4. Implement the following methods:\n",
        "    * push()\n",
        "    * top()\n",
        "    * pop()\n",
        "    * printStack()"
      ]
    },
    {
      "cell_type": "code",
      "execution_count": 1,
      "metadata": {
        "id": "I15TzjVWZqI4"
      },
      "outputs": [],
      "source": [
        "class NumberNode:\n",
        "    def __init__(self, element, next):\n",
        "        self._element = element\n",
        "        self._next = next"
      ]
    },
    {
      "cell_type": "code",
      "execution_count": 2,
      "metadata": {
        "id": "qZHdlUkEZqI4"
      },
      "outputs": [],
      "source": [
        "class LinkedStack:\n",
        "    \"\"\"LIFO Stack implementation using a singly linked list for storage.\"\"\"\n",
        "\n",
        "    def __init__(self):\n",
        "        \"\"\" Create an empty stack. \"\"\"\n",
        "        self._head = None                      # reference to the head node\n",
        "        self._size = 0                        # number of stack elements\n",
        "\n",
        "    def __len__(self):\n",
        "        \"\"\" Return the number of elements in the stack. \"\"\"\n",
        "        return self._size\n",
        "\n",
        "    def is_empty(self):\n",
        "        \"\"\" Return True if the stack is empty.\"\"\"\n",
        "        return self._size == 0\n",
        "\n",
        "    def push(self, e):\n",
        "        \"\"\" Add element e to the top of the stack as a new head node. \"\"\"\n",
        "\n",
        "        new_node = NumberNode(e, self._head)\n",
        "        self._head = new_node\n",
        "        self._size += 1\n",
        "\n",
        "\n",
        "\n",
        "        pass\n",
        "\n",
        "    def top(self):\n",
        "        \"\"\" Return (but not remove) the element at the top of the stack.\n",
        "\n",
        "        Raise Empty exception if the stack is empty.\n",
        "        \"\"\"\n",
        "\n",
        "        if self.is_empty():\n",
        "            raise Empty(\"Stack is empty\")\n",
        "        return self._head._element\n",
        "\n",
        "        pass\n",
        "\n",
        "    def pop(self):\n",
        "        \"\"\" Remove and return the element from the top of the stack.\n",
        "\n",
        "        Raise Empty exception if the stack is empty.\n",
        "        \"\"\"\n",
        "\n",
        "        if self.is_empty():\n",
        "            raise Empty(\"Stack is empty\")\n",
        "        result = self._head._element        # Store the top element to return\n",
        "        self._head = self._head._next       # Update the head to the next node\n",
        "        self._size -= 1\n",
        "        return result\n",
        "\n",
        "        pass\n",
        "\n",
        "    def printStack(self):\n",
        "        \"\"\" Print the stack elements starting from the top. \"\"\"\n",
        "\n",
        "        current = self._head\n",
        "        elements = []\n",
        "        while current is not None:           # Traverse through the nodes\n",
        "            elements.append(str(current._element))\n",
        "            current = current._next\n",
        "        print(\"Stack (top to bottom):\", \" -> \".join(elements))\n",
        "\n",
        "        pass"
      ]
    },
    {
      "cell_type": "code",
      "execution_count": 3,
      "metadata": {
        "id": "3-muYGUQZqI4"
      },
      "outputs": [],
      "source": [
        "class Empty(Exception):\n",
        "  \"\"\" Error attempting to access an element from an empty container. \"\"\"\n",
        "  pass"
      ]
    },
    {
      "cell_type": "markdown",
      "metadata": {
        "id": "Y9Ig5V4KZqI5"
      },
      "source": [
        "## Testing Codes"
      ]
    },
    {
      "cell_type": "markdown",
      "metadata": {
        "id": "xctWROKiZqI5"
      },
      "source": [
        "Push 2 elements into the stack."
      ]
    },
    {
      "cell_type": "code",
      "execution_count": 32,
      "metadata": {
        "colab": {
          "base_uri": "https://localhost:8080/"
        },
        "id": "8n5E6ukSZqI5",
        "outputId": "9e8a03e9-40e1-4e66-cd4d-1a73a35a4f8e"
      },
      "outputs": [
        {
          "output_type": "stream",
          "name": "stdout",
          "text": [
            "Number of elements: 2\n"
          ]
        }
      ],
      "source": [
        "S = LinkedStack()  # contents: []\n",
        "S.push(7)         # contents: [7]\n",
        "S.push(5)         # contents: [5, 7]\n",
        "print('Number of elements: {}'.format(len(S)))     # contents: [5, 7]"
      ]
    },
    {
      "cell_type": "code",
      "execution_count": 33,
      "metadata": {
        "colab": {
          "base_uri": "https://localhost:8080/"
        },
        "id": "bZ-0yx-AZqI5",
        "outputId": "d01a8045-7351-462f-b2aa-b56164ca9d73"
      },
      "outputs": [
        {
          "output_type": "stream",
          "name": "stdout",
          "text": [
            "Stack (top to bottom): 5 -> 7\n"
          ]
        }
      ],
      "source": [
        "S.printStack()"
      ]
    },
    {
      "cell_type": "markdown",
      "metadata": {
        "id": "DJJCsgxrZqI5"
      },
      "source": [
        "Pop elements and check whether stack is empty"
      ]
    },
    {
      "cell_type": "code",
      "execution_count": 34,
      "metadata": {
        "colab": {
          "base_uri": "https://localhost:8080/"
        },
        "id": "AIKvNCOoZqI6",
        "outputId": "e3a1f520-8ebe-486c-e8a1-c35d411a108e"
      },
      "outputs": [
        {
          "output_type": "stream",
          "name": "stdout",
          "text": [
            "Remove item: 5\n",
            "Is stack empty?: False\n",
            "Remove item: 7\n",
            "Is stack empty?: True\n"
          ]
        }
      ],
      "source": [
        "print('Remove item: {}'.format(S.pop()))          # contents: [7]\n",
        "print('Is stack empty?: {}'.format(S.is_empty())) # contents: [7]\n",
        "print('Remove item: {}'.format(S.pop()))          # contents: []\n",
        "print('Is stack empty?: {}'.format(S.is_empty())) # contents: []"
      ]
    },
    {
      "cell_type": "code",
      "execution_count": 35,
      "metadata": {
        "colab": {
          "base_uri": "https://localhost:8080/"
        },
        "id": "naLMrCJ3ZqI6",
        "outputId": "b45a764f-31fb-48fd-ac59-0c04f31b6160"
      },
      "outputs": [
        {
          "output_type": "stream",
          "name": "stdout",
          "text": [
            "Stack (top to bottom): \n"
          ]
        }
      ],
      "source": [
        "S.printStack()"
      ]
    },
    {
      "cell_type": "markdown",
      "metadata": {
        "id": "8LIySp5tZqI6"
      },
      "source": [
        "Attempting to remove or retrieve item when stack is empty"
      ]
    },
    {
      "cell_type": "code",
      "execution_count": 37,
      "metadata": {
        "colab": {
          "base_uri": "https://localhost:8080/",
          "height": 263
        },
        "id": "Nd9HcLrcZqI6",
        "outputId": "5b2289d3-d876-4cf2-a48d-a00494e84122"
      },
      "outputs": [
        {
          "output_type": "error",
          "ename": "Empty",
          "evalue": "Stack is empty",
          "traceback": [
            "\u001b[0;31m---------------------------------------------------------------------------\u001b[0m",
            "\u001b[0;31mEmpty\u001b[0m                                     Traceback (most recent call last)",
            "\u001b[0;32m<ipython-input-37-38146dccaabe>\u001b[0m in \u001b[0;36m<cell line: 1>\u001b[0;34m()\u001b[0m\n\u001b[0;32m----> 1\u001b[0;31m \u001b[0mprint\u001b[0m\u001b[0;34m(\u001b[0m\u001b[0mS\u001b[0m\u001b[0;34m.\u001b[0m\u001b[0mpop\u001b[0m\u001b[0;34m(\u001b[0m\u001b[0;34m)\u001b[0m\u001b[0;34m)\u001b[0m    \u001b[0;31m# contents: []\u001b[0m\u001b[0;34m\u001b[0m\u001b[0;34m\u001b[0m\u001b[0m\n\u001b[0m",
            "\u001b[0;32m<ipython-input-2-18e58ad7a84f>\u001b[0m in \u001b[0;36mpop\u001b[0;34m(self)\u001b[0m\n\u001b[1;32m     45\u001b[0m \u001b[0;34m\u001b[0m\u001b[0m\n\u001b[1;32m     46\u001b[0m         \u001b[0;32mif\u001b[0m \u001b[0mself\u001b[0m\u001b[0;34m.\u001b[0m\u001b[0mis_empty\u001b[0m\u001b[0;34m(\u001b[0m\u001b[0;34m)\u001b[0m\u001b[0;34m:\u001b[0m\u001b[0;34m\u001b[0m\u001b[0;34m\u001b[0m\u001b[0m\n\u001b[0;32m---> 47\u001b[0;31m             \u001b[0;32mraise\u001b[0m \u001b[0mEmpty\u001b[0m\u001b[0;34m(\u001b[0m\u001b[0;34m\"Stack is empty\"\u001b[0m\u001b[0;34m)\u001b[0m  \u001b[0;31m# Raise an exception if the stack is empty\u001b[0m\u001b[0;34m\u001b[0m\u001b[0;34m\u001b[0m\u001b[0m\n\u001b[0m\u001b[1;32m     48\u001b[0m         \u001b[0mresult\u001b[0m \u001b[0;34m=\u001b[0m \u001b[0mself\u001b[0m\u001b[0;34m.\u001b[0m\u001b[0m_head\u001b[0m\u001b[0;34m.\u001b[0m\u001b[0m_element\u001b[0m        \u001b[0;31m# Store the top element to return\u001b[0m\u001b[0;34m\u001b[0m\u001b[0;34m\u001b[0m\u001b[0m\n\u001b[1;32m     49\u001b[0m         \u001b[0mself\u001b[0m\u001b[0;34m.\u001b[0m\u001b[0m_head\u001b[0m \u001b[0;34m=\u001b[0m \u001b[0mself\u001b[0m\u001b[0;34m.\u001b[0m\u001b[0m_head\u001b[0m\u001b[0;34m.\u001b[0m\u001b[0m_next\u001b[0m       \u001b[0;31m# Update the head to the next node\u001b[0m\u001b[0;34m\u001b[0m\u001b[0;34m\u001b[0m\u001b[0m\n",
            "\u001b[0;31mEmpty\u001b[0m: Stack is empty"
          ]
        }
      ],
      "source": [
        "print(S.pop())    # contents: []"
      ]
    },
    {
      "cell_type": "code",
      "execution_count": 38,
      "metadata": {
        "colab": {
          "base_uri": "https://localhost:8080/",
          "height": 263
        },
        "id": "7_fAbyAnZqI6",
        "outputId": "959d3e80-01a2-41f5-9fd4-76f1b769a481"
      },
      "outputs": [
        {
          "output_type": "error",
          "ename": "Empty",
          "evalue": "Stack is empty",
          "traceback": [
            "\u001b[0;31m---------------------------------------------------------------------------\u001b[0m",
            "\u001b[0;31mEmpty\u001b[0m                                     Traceback (most recent call last)",
            "\u001b[0;32m<ipython-input-38-5ce965b22df8>\u001b[0m in \u001b[0;36m<cell line: 1>\u001b[0;34m()\u001b[0m\n\u001b[0;32m----> 1\u001b[0;31m \u001b[0mprint\u001b[0m\u001b[0;34m(\u001b[0m\u001b[0mS\u001b[0m\u001b[0;34m.\u001b[0m\u001b[0mtop\u001b[0m\u001b[0;34m(\u001b[0m\u001b[0;34m)\u001b[0m\u001b[0;34m)\u001b[0m    \u001b[0;31m# contents: []\u001b[0m\u001b[0;34m\u001b[0m\u001b[0;34m\u001b[0m\u001b[0m\n\u001b[0m",
            "\u001b[0;32m<ipython-input-2-18e58ad7a84f>\u001b[0m in \u001b[0;36mtop\u001b[0;34m(self)\u001b[0m\n\u001b[1;32m     33\u001b[0m \u001b[0;34m\u001b[0m\u001b[0m\n\u001b[1;32m     34\u001b[0m         \u001b[0;32mif\u001b[0m \u001b[0mself\u001b[0m\u001b[0;34m.\u001b[0m\u001b[0mis_empty\u001b[0m\u001b[0;34m(\u001b[0m\u001b[0;34m)\u001b[0m\u001b[0;34m:\u001b[0m\u001b[0;34m\u001b[0m\u001b[0;34m\u001b[0m\u001b[0m\n\u001b[0;32m---> 35\u001b[0;31m             \u001b[0;32mraise\u001b[0m \u001b[0mEmpty\u001b[0m\u001b[0;34m(\u001b[0m\u001b[0;34m\"Stack is empty\"\u001b[0m\u001b[0;34m)\u001b[0m  \u001b[0;31m# Raise an exception if the stack is empty\u001b[0m\u001b[0;34m\u001b[0m\u001b[0;34m\u001b[0m\u001b[0m\n\u001b[0m\u001b[1;32m     36\u001b[0m         \u001b[0;32mreturn\u001b[0m \u001b[0mself\u001b[0m\u001b[0;34m.\u001b[0m\u001b[0m_head\u001b[0m\u001b[0;34m.\u001b[0m\u001b[0m_element\u001b[0m\u001b[0;34m\u001b[0m\u001b[0;34m\u001b[0m\u001b[0m\n\u001b[1;32m     37\u001b[0m                 \u001b[0;31m# Return the element at the head node\u001b[0m\u001b[0;34m\u001b[0m\u001b[0;34m\u001b[0m\u001b[0m\n",
            "\u001b[0;31mEmpty\u001b[0m: Stack is empty"
          ]
        }
      ],
      "source": [
        "print(S.top())    # contents: []"
      ]
    },
    {
      "cell_type": "markdown",
      "metadata": {
        "id": "s4WN9eKtZqI6"
      },
      "source": [
        "Push more elements into stack, then pop one element"
      ]
    },
    {
      "cell_type": "code",
      "execution_count": 39,
      "metadata": {
        "colab": {
          "base_uri": "https://localhost:8080/"
        },
        "id": "MF7u5DIbZqI7",
        "outputId": "67d7f5a8-e602-4930-be8e-5110987a0483"
      },
      "outputs": [
        {
          "output_type": "stream",
          "name": "stdout",
          "text": [
            "Retrieve top item: 4\n",
            "Number of elements: 3\n",
            "Remove item: 6\n"
          ]
        }
      ],
      "source": [
        "S.push(2)         # contents = [2]\n",
        "S.push(4)         # contents = [4, 2]\n",
        "print('Retrieve top item: {}'.format(S.top()))    # contents = [4, 2]\n",
        "S.push(6)                                         # contents = [6, 4, 2]\n",
        "print('Number of elements: {}'.format(len(S)))    # contents = [6, 4, 2]\n",
        "print('Remove item: {}'.format(S.pop()))          # contents = [4, 2]\n",
        "S.push(1)         # contents = [1, 4, 2]"
      ]
    },
    {
      "cell_type": "code",
      "execution_count": 40,
      "metadata": {
        "colab": {
          "base_uri": "https://localhost:8080/"
        },
        "id": "V1tK-pM8ZqI7",
        "outputId": "398441db-eec8-4027-ba60-177681491064"
      },
      "outputs": [
        {
          "output_type": "stream",
          "name": "stdout",
          "text": [
            "Stack (top to bottom): 1 -> 4 -> 2\n"
          ]
        }
      ],
      "source": [
        "S.printStack()"
      ]
    },
    {
      "cell_type": "markdown",
      "metadata": {
        "id": "B973HcbwZqI7"
      },
      "source": [
        "## Structured Test Case"
      ]
    },
    {
      "cell_type": "markdown",
      "metadata": {
        "id": "tSqUfe4eZqI7"
      },
      "source": [
        "We will use `assert` statements to verify that our stack operations are producing the expected results.\n",
        "\n",
        "This is a common practice in software development to ensure code correctness.\n",
        "\n",
        "Here is a test case structure with `assert` statements:"
      ]
    },
    {
      "cell_type": "code",
      "execution_count": 41,
      "metadata": {
        "colab": {
          "base_uri": "https://localhost:8080/"
        },
        "id": "zbA1pjU-ZqI7",
        "outputId": "ff0b3e74-ac8c-439e-9221-cccccc3f02b4"
      },
      "outputs": [
        {
          "output_type": "stream",
          "name": "stdout",
          "text": [
            "Stack after popping one element:\n",
            "Stack (top to bottom): 20 -> 10\n",
            "Pop and top on empty stack raised Empty exception as expected\n",
            "All test cases passed!\n"
          ]
        }
      ],
      "source": [
        "def test_linked_stack():\n",
        "    my_stack = LinkedStack()\n",
        "\n",
        "    # Test 1: Push operations and size\n",
        "    my_stack.push(10)\n",
        "    my_stack.push(20)\n",
        "    my_stack.push(30)\n",
        "    assert my_stack._size == 3, \"Stack size should be 3 after pushing 3 elements\"\n",
        "\n",
        "    # Test 2: Top operation\n",
        "    assert my_stack.top() == 30, \"Top element should be 30\"\n",
        "\n",
        "    # Test 3: Pop operation and size\n",
        "    popped_element = my_stack.pop()\n",
        "    assert popped_element == 30, \"Popped element should be 30\"\n",
        "    assert my_stack._size == 2, \"Stack size should be 2 after popping 1 element\"\n",
        "\n",
        "    # Test 4: Display operation (You can add visual checks or capture output for verification)\n",
        "    print(\"Stack after popping one element:\")\n",
        "    my_stack.printStack()  # Expected output: 20 -> 10 -> None\n",
        "\n",
        "    # Test 5: Multiple pops and is_empty\n",
        "    my_stack.pop()\n",
        "    my_stack.pop()\n",
        "    assert my_stack.is_empty(), \"Stack should be empty after popping all elements\"\n",
        "\n",
        "    # Test 6: Pop and top on empty stack\n",
        "    try:\n",
        "        my_stack.pop()\n",
        "        my_stack.top()\n",
        "    except Empty:\n",
        "        print(\"Pop and top on empty stack raised Empty exception as expected\")\n",
        "\n",
        "    #ssert my_stack.pop() is None, \"Pop on empty stack should return None\"\n",
        "    #assert my_stack.top() is None, \"Top on empty stack should return None\"\n",
        "\n",
        "    print(\"All test cases passed!\")\n",
        "\n",
        "if __name__ == \"__main__\":\n",
        "    test_linked_stack()"
      ]
    },
    {
      "cell_type": "markdown",
      "metadata": {
        "id": "esSH3kGCZqI7"
      },
      "source": [
        "Simply run the code above and if your code is all correct, the result should display 'All test cases passed'"
      ]
    },
    {
      "cell_type": "markdown",
      "metadata": {
        "id": "y-i_zt8GZqI7"
      },
      "source": [
        "---"
      ]
    },
    {
      "cell_type": "markdown",
      "metadata": {
        "id": "CBeb8DvkZqI7"
      },
      "source": [
        "# Lab 5-4 Comparing runtime operations between ArrayStack vs LinkedStack"
      ]
    },
    {
      "cell_type": "code",
      "execution_count": 14,
      "metadata": {
        "id": "xSlmfT7iZqI7"
      },
      "outputs": [],
      "source": [
        "import timeit\n",
        "import numpy as np\n",
        "import matplotlib.pyplot as plt"
      ]
    },
    {
      "cell_type": "markdown",
      "metadata": {
        "id": "ur0LiUmbZqI8"
      },
      "source": [
        "Given input size (n) that grows from 10 to 10,000"
      ]
    },
    {
      "cell_type": "code",
      "execution_count": 15,
      "metadata": {
        "colab": {
          "base_uri": "https://localhost:8080/"
        },
        "id": "mipWUXBeZqI8",
        "outputId": "f0534b49-fe14-498e-b0cb-5975c75d5ddf"
      },
      "outputs": [
        {
          "output_type": "execute_result",
          "data": {
            "text/plain": [
              "array([   10,   213,   417,   621,   825,  1029,  1233,  1437,  1641,\n",
              "        1844,  2048,  2252,  2456,  2660,  2864,  3068,  3272,  3475,\n",
              "        3679,  3883,  4087,  4291,  4495,  4699,  4903,  5106,  5310,\n",
              "        5514,  5718,  5922,  6126,  6330,  6534,  6737,  6941,  7145,\n",
              "        7349,  7553,  7757,  7961,  8165,  8368,  8572,  8776,  8980,\n",
              "        9184,  9388,  9592,  9796, 10000])"
            ]
          },
          "metadata": {},
          "execution_count": 15
        }
      ],
      "source": [
        "ns = np.linspace(10, 10000, 50, dtype=int)\n",
        "ns"
      ]
    },
    {
      "cell_type": "markdown",
      "metadata": {
        "id": "4SgB0DbyZqI8"
      },
      "source": [
        "## Pre-requisites\n",
        "\n",
        "Copy and paste your ArrayStack implementation here (without any print functions inside the class)  "
      ]
    },
    {
      "cell_type": "code",
      "execution_count": 16,
      "metadata": {
        "id": "yZNnb5AqZqI8"
      },
      "outputs": [],
      "source": [
        "class ArrayStack:\n",
        "\n",
        "\n",
        "    def __init__(self):\n",
        "        \"\"\"Create an empty stack.\"\"\"\n",
        "        self._data = []\n",
        "\n",
        "    def push(self, e):\n",
        "        \"\"\"Add element e to the top of the stack.\"\"\"\n",
        "        self._data.append(e)\n",
        "\n",
        "    def pop(self):\n",
        "        \"\"\"Remove and return the element from the top of the stack.\"\"\"\n",
        "        if self.is_empty():\n",
        "            raise Empty(\"Stack is empty\")\n",
        "        return self._data.pop()\n",
        "\n",
        "    def top(self):\n",
        "        \"\"\"Return (but do not remove) the element at the top of the stack.\"\"\"\n",
        "        if self.is_empty():\n",
        "            raise Empty(\"Stack is empty\")\n",
        "        return self._data[-1]\n",
        "\n",
        "    def is_empty(self):\n",
        "        \"\"\"Return True if the stack is empty.\"\"\"\n",
        "        return len(self._data) == 0\n",
        "\n",
        "    def __len__(self):\n",
        "        \"\"\"Return the number of elements in the stack.\"\"\"\n",
        "        return len(self._data)\n",
        "\n",
        "\n",
        "class Empty(Exception):\n",
        "  \"\"\" Error attempting to access an element from an empty container. \"\"\"\n",
        "  pass"
      ]
    },
    {
      "cell_type": "markdown",
      "metadata": {
        "id": "EXJOvPVFZqI8"
      },
      "source": [
        "### 4.1 What is the runtime behaviour of adding element method in a stack between ArrayStack and LinkedStack classes? Plot the graph to answer this.\n",
        "* Each test should run push method `n` times and each test of `n` should execute 10 rounds\n"
      ]
    },
    {
      "cell_type": "code",
      "execution_count": 27,
      "metadata": {
        "id": "5bv2F6zBZqI8"
      },
      "outputs": [],
      "source": [
        "ts7 = [timeit.timeit(stmt=f'for i in range({n}): ars.push(i)',\n",
        "                     setup='ars = ArrayStack()',\n",
        "                     globals=globals(),\n",
        "                     number=10)\n",
        "       for n in ns]"
      ]
    },
    {
      "cell_type": "code",
      "execution_count": 28,
      "metadata": {
        "id": "WyFo1DXbZqI8"
      },
      "outputs": [],
      "source": [
        "ts8 = [timeit.timeit(stmt=f'for i in range({n}): ls.push(i)',\n",
        "                     setup='ls = LinkedStack()',\n",
        "                     globals=globals(),\n",
        "                     number=10)\n",
        "       for n in ns]"
      ]
    },
    {
      "cell_type": "code",
      "execution_count": 29,
      "metadata": {
        "colab": {
          "base_uri": "https://localhost:8080/",
          "height": 641
        },
        "id": "tOsma7eBZqI9",
        "outputId": "fccb01b7-ac73-45e6-d20f-7fc05417e508"
      },
      "outputs": [
        {
          "output_type": "display_data",
          "data": {
            "text/plain": [
              "<Figure size 1000x700 with 1 Axes>"
            ],
            "image/png": "[encoded data removed]"
          },
          "metadata": {}
        }
      ],
      "source": [
        "plt.figure(figsize=(10,7))\n",
        "plt.plot(ns, ts7, 'ob')\n",
        "plt.plot(ns, ts8, 'or');\n",
        "plt.xlabel('Input Size (n)');\n",
        "plt.ylabel('Time Executed (in seconds)');\n",
        "plt.title('Running time of adding an element in a stack on 10 rounds');\n",
        "plt.legend(['ArrayStack', 'LinkedStack']);"
      ]
    },
    {
      "cell_type": "markdown",
      "metadata": {
        "id": "8CC8L0aAZqI9"
      },
      "source": [
        "### 4.2 What is the runtime behaviour of removing element method in a stack between ArrayStack and LinkedStack classes? Plot the graph to answer this.\n",
        "* Each test should run pop method `n` times and each test of `n` should execute 10 rounds\n",
        "* The setup should provide 100000 elements in a stack/queue before recording running time."
      ]
    },
    {
      "cell_type": "code",
      "execution_count": 22,
      "metadata": {
        "id": "Fb3Ox2QLZqI9"
      },
      "outputs": [],
      "source": [
        "ts9 = [timeit.timeit(stmt=f'for _ in range ({n}): ars.pop()',\n",
        "                     setup='ars = ArrayStack(); [ars.push(1) for _ in range(100000)]',\n",
        "                     globals=globals(),\n",
        "                     number=10)\n",
        "       for n in ns]\n",
        "\n",
        "ts10 = [timeit.timeit(stmt=f'for _ in range ({n}): ls.pop()',\n",
        "                     setup='ls = LinkedStack(); [ls.push(1) for _ in range(100000)]',\n",
        "                     globals=globals(),\n",
        "                     number=10)\n",
        "       for n in ns]"
      ]
    },
    {
      "cell_type": "code",
      "execution_count": 23,
      "metadata": {
        "colab": {
          "base_uri": "https://localhost:8080/",
          "height": 641
        },
        "id": "GAhSDCzdZqI9",
        "outputId": "467e7448-119b-4b73-f207-abc7b9a043c9"
      },
      "outputs": [
        {
          "output_type": "display_data",
          "data": {
            "text/plain": [
              "<Figure size 1000x700 with 1 Axes>"
            ],
            "image/png": "[encoded data removed]"
          },
          "metadata": {}
        }
      ],
      "source": [
        "plt.figure(figsize=(10,7))\n",
        "plt.plot(ns, ts9, 'ob')\n",
        "plt.plot(ns, ts10, 'or');\n",
        "plt.xlabel('Input Size (n)');\n",
        "plt.ylabel('Time Executed (in seconds)');\n",
        "plt.title('Running time of removing an element in a stack on 10 rounds');\n",
        "plt.legend(['ArrayStack', 'LinkedStack']);"
      ]
    },
    {
      "cell_type": "markdown",
      "metadata": {
        "id": "mdwhHEZSZqI9"
      },
      "source": [
        "---"
      ]
    }
  ],
  "metadata": {
    "kernelspec": {
      "display_name": "Python 3",
      "language": "python",
      "name": "python3"
    },
    "language_info": {
      "codemirror_mode": {
        "name": "ipython",
        "version": 3
      },
      "file_extension": ".py",
      "mimetype": "text/x-python",
      "name": "python",
      "nbconvert_exporter": "python",
      "pygments_lexer": "ipython3",
      "version": "3.10.2"
    },
    "orig_nbformat": 4,
    "colab": {
      "provenance": []
    }
  },
  "nbformat": 4,
  "nbformat_minor": 0
}