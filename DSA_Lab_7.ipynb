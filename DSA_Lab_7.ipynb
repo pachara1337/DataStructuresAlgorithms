{
  "cells": [
    {
      "cell_type": "markdown",
      "metadata": {
        "id": "FMoCl1k-DsI-"
      },
      "source": [
        "# Lab 7: Sorting"
      ]
    },
    {
      "cell_type": "markdown",
      "metadata": {
        "id": "2g670bVpDsJB"
      },
      "source": [
        "Lecturer: <code>Sirasit Lochanachit</code>\n",
        "\n",
        "Course:\n",
        "\n",
        "<code>01526121 Data Structures and Algorithms [SIIE]\n",
        "</code>\n",
        "\n",
        "Term: <code>02/2024</code>\n",
        "\n",
        "---"
      ]
    },
    {
      "cell_type": "markdown",
      "metadata": {
        "id": "KlmSzYxVDsJC"
      },
      "source": [
        "## Gentle reminder of Big-O of sorting operations\n",
        "\n",
        "- Bubble Sort: $O(N^2)$\n",
        "- Selection Sort: $O(N^2)$\n",
        "- Insertion Sort: $O(N^2)$"
      ]
    },
    {
      "cell_type": "markdown",
      "metadata": {
        "id": "p7Q6VFhtDsJC"
      },
      "source": [
        "# Lab 7-1: Basic Sorting\n",
        "\n",
        "## Problem Description\n",
        "\n",
        "Your task is to implement Bubble, Selection, and Insertion Sort that takes a list `alist` and return a list of elements (e.g. numbers, characters or strings) in ascending order (from lower numbers to higher numbers)"
      ]
    },
    {
      "cell_type": "markdown",
      "metadata": {
        "id": "7c1F0V7XDsJD"
      },
      "source": [
        "## 1.1 Write a bubbleSort on an input list\n",
        "\n",
        "### Requirements\n",
        "- Print round number for each round\n",
        "- Print current list after each round has finished\n",
        "- Print number of comparisons and exchanges after the last round has finished"
      ]
    },
    {
      "cell_type": "code",
      "execution_count": null,
      "metadata": {
        "id": "M6nkpTnMDsJD"
      },
      "outputs": [],
      "source": [
        "def bubbleSort(alist):\n",
        "    print(\"Original list: \", alist, \"\\n\")\n",
        "    no_compare = 0\n",
        "    no_exchange = 0\n",
        "\n",
        "    n = len(alist)\n",
        "    for round_num in range(n - 1):\n",
        "        swapped = False\n",
        "        print(\"Round:\", round_num + 1)\n",
        "        for i in range(n - 1 - round_num):\n",
        "            no_compare += 1\n",
        "            if alist[i] > alist[i + 1]:\n",
        "                alist[i], alist[i + 1] = alist[i + 1], alist[i]\n",
        "                no_exchange += 1\n",
        "                swapped = True\n",
        "        print(\"Current List:\", alist, \"\\n\")\n",
        "        if not swapped:\n",
        "            break\n",
        "\n",
        "    print(\"Number of Comparisons: \", no_compare)\n",
        "    print(\"Number of Exchanges: \", no_exchange)"
      ]
    },
    {
      "cell_type": "markdown",
      "metadata": {
        "id": "SdEgwzAYDsJF"
      },
      "source": [
        "### Testing Codes"
      ]
    },
    {
      "cell_type": "code",
      "execution_count": null,
      "metadata": {
        "colab": {
          "base_uri": "https://localhost:8080/"
        },
        "id": "swZ8v1aDDsJF",
        "outputId": "3d33216c-48b3-4c09-9e1d-014d01bfe685"
      },
      "outputs": [
        {
          "output_type": "stream",
          "name": "stdout",
          "text": [
            "Original list:  [54, 26, 93, 17, 77, 31, 44, 55, 20] \n",
            "\n",
            "Round: 1\n",
            "Current List: [26, 54, 17, 77, 31, 44, 55, 20, 93] \n",
            "\n",
            "Round: 2\n",
            "Current List: [26, 17, 54, 31, 44, 55, 20, 77, 93] \n",
            "\n",
            "Round: 3\n",
            "Current List: [17, 26, 31, 44, 54, 20, 55, 77, 93] \n",
            "\n",
            "Round: 4\n",
            "Current List: [17, 26, 31, 44, 20, 54, 55, 77, 93] \n",
            "\n",
            "Round: 5\n",
            "Current List: [17, 26, 31, 20, 44, 54, 55, 77, 93] \n",
            "\n",
            "Round: 6\n",
            "Current List: [17, 26, 20, 31, 44, 54, 55, 77, 93] \n",
            "\n",
            "Round: 7\n",
            "Current List: [17, 20, 26, 31, 44, 54, 55, 77, 93] \n",
            "\n",
            "Round: 8\n",
            "Current List: [17, 20, 26, 31, 44, 54, 55, 77, 93] \n",
            "\n",
            "Number of Comparisons:  36\n",
            "Number of Exchanges:  20\n",
            "[17, 20, 26, 31, 44, 54, 55, 77, 93]\n"
          ]
        }
      ],
      "source": [
        "inputList = [54,26,93,17,77,31,44,55,20]\n",
        "bubbleSort(inputList)\n",
        "print(inputList)"
      ]
    },
    {
      "cell_type": "code",
      "execution_count": null,
      "metadata": {
        "colab": {
          "base_uri": "https://localhost:8080/"
        },
        "id": "y-jpeOzNDsJH",
        "outputId": "8e5fdfb2-b2a4-4ff0-bb89-9ccf73574574"
      },
      "outputs": [
        {
          "output_type": "stream",
          "name": "stdout",
          "text": [
            "Original list:  [12, 90, 53, 63, 76, 1, 38, 42] \n",
            "\n",
            "Round: 1\n",
            "Current List: [12, 53, 63, 76, 1, 38, 42, 90] \n",
            "\n",
            "Round: 2\n",
            "Current List: [12, 53, 63, 1, 38, 42, 76, 90] \n",
            "\n",
            "Round: 3\n",
            "Current List: [12, 53, 1, 38, 42, 63, 76, 90] \n",
            "\n",
            "Round: 4\n",
            "Current List: [12, 1, 38, 42, 53, 63, 76, 90] \n",
            "\n",
            "Round: 5\n",
            "Current List: [1, 12, 38, 42, 53, 63, 76, 90] \n",
            "\n",
            "Round: 6\n",
            "Current List: [1, 12, 38, 42, 53, 63, 76, 90] \n",
            "\n",
            "Number of Comparisons:  27\n",
            "Number of Exchanges:  16\n",
            "[1, 12, 38, 42, 53, 63, 76, 90]\n"
          ]
        }
      ],
      "source": [
        "inputList = [12, 90, 53, 63, 76, 1, 38, 42]\n",
        "bubbleSort(inputList)\n",
        "print(inputList)"
      ]
    },
    {
      "cell_type": "markdown",
      "metadata": {
        "id": "ntalFoteDsJH"
      },
      "source": [
        "---"
      ]
    },
    {
      "cell_type": "markdown",
      "metadata": {
        "id": "vo9X-YqoDsJH"
      },
      "source": [
        "## 1.2 Write a selectionSort on an input list\n",
        "\n",
        "### Requirements\n",
        "- Print round number for each round\n",
        "- Print a position to insert the selected item in sorted area\n",
        "- Print a position of the selected item from the unsorted area\n",
        "- Print current list after each round has finished\n",
        "- Print number of comparisons and exchanges after the last round has finished"
      ]
    },
    {
      "cell_type": "code",
      "execution_count": null,
      "metadata": {
        "id": "vtqrh7L0DsJI"
      },
      "outputs": [],
      "source": [
        "def selectionSort(alist):\n",
        "    print(\"Original list: \", alist, \"\\n\")\n",
        "    no_compare = 0\n",
        "    no_exchange = 0\n",
        "\n",
        "    for i in range(len(alist) - 1):\n",
        "        min_index = i\n",
        "        for j in range(i + 1, len(alist)):\n",
        "            no_compare += 1\n",
        "            if alist[j] < alist[min_index]:\n",
        "                min_index = j\n",
        "        if min_index != i:\n",
        "            alist[i], alist[min_index] = alist[min_index], alist[i]\n",
        "            no_exchange += 1\n",
        "        print(f\"Round: {i+1}\")\n",
        "        print(f\"Position to insert: {i}\")\n",
        "        print(f\"Position of min value: {min_index}\")\n",
        "        print(\"Current List:\", alist, \"\\n\")\n",
        "\n",
        "    print(\"Number of Comparisons: \", no_compare)\n",
        "    print(\"Number of Exchanges: \", no_exchange)"
      ]
    },
    {
      "cell_type": "markdown",
      "metadata": {
        "id": "U6wZ6G0ODsJI"
      },
      "source": [
        "### Testing Codes"
      ]
    },
    {
      "cell_type": "code",
      "execution_count": null,
      "metadata": {
        "colab": {
          "base_uri": "https://localhost:8080/"
        },
        "id": "OElDusGLDsJI",
        "outputId": "d2386988-1c26-4d8a-f85a-7aefeea2450f"
      },
      "outputs": [
        {
          "output_type": "stream",
          "name": "stdout",
          "text": [
            "Original list:  [54, 26, 93, 17, 77, 31, 44, 55, 20] \n",
            "\n",
            "Round: 1\n",
            "Position to insert: 0\n",
            "Position of min value: 3\n",
            "Current List: [17, 26, 93, 54, 77, 31, 44, 55, 20] \n",
            "\n",
            "Round: 2\n",
            "Position to insert: 1\n",
            "Position of min value: 8\n",
            "Current List: [17, 20, 93, 54, 77, 31, 44, 55, 26] \n",
            "\n",
            "Round: 3\n",
            "Position to insert: 2\n",
            "Position of min value: 8\n",
            "Current List: [17, 20, 26, 54, 77, 31, 44, 55, 93] \n",
            "\n",
            "Round: 4\n",
            "Position to insert: 3\n",
            "Position of min value: 5\n",
            "Current List: [17, 20, 26, 31, 77, 54, 44, 55, 93] \n",
            "\n",
            "Round: 5\n",
            "Position to insert: 4\n",
            "Position of min value: 6\n",
            "Current List: [17, 20, 26, 31, 44, 54, 77, 55, 93] \n",
            "\n",
            "Round: 6\n",
            "Position to insert: 5\n",
            "Position of min value: 5\n",
            "Current List: [17, 20, 26, 31, 44, 54, 77, 55, 93] \n",
            "\n",
            "Round: 7\n",
            "Position to insert: 6\n",
            "Position of min value: 7\n",
            "Current List: [17, 20, 26, 31, 44, 54, 55, 77, 93] \n",
            "\n",
            "Round: 8\n",
            "Position to insert: 7\n",
            "Position of min value: 7\n",
            "Current List: [17, 20, 26, 31, 44, 54, 55, 77, 93] \n",
            "\n",
            "Number of Comparisons:  36\n",
            "Number of Exchanges:  6\n",
            "[17, 20, 26, 31, 44, 54, 55, 77, 93]\n"
          ]
        }
      ],
      "source": [
        "inputList = [54,26,93,17,77,31,44,55,20]\n",
        "selectionSort(inputList)\n",
        "print(inputList)"
      ]
    },
    {
      "cell_type": "code",
      "execution_count": null,
      "metadata": {
        "colab": {
          "base_uri": "https://localhost:8080/"
        },
        "id": "yu4okfryDsJJ",
        "outputId": "8c0a9433-fbb3-47fc-ffe9-d96705b64d09"
      },
      "outputs": [
        {
          "output_type": "stream",
          "name": "stdout",
          "text": [
            "Original list:  [12, 90, 53, 63, 76, 1, 38, 42] \n",
            "\n",
            "Round: 1\n",
            "Position to insert: 0\n",
            "Position of min value: 5\n",
            "Current List: [1, 90, 53, 63, 76, 12, 38, 42] \n",
            "\n",
            "Round: 2\n",
            "Position to insert: 1\n",
            "Position of min value: 5\n",
            "Current List: [1, 12, 53, 63, 76, 90, 38, 42] \n",
            "\n",
            "Round: 3\n",
            "Position to insert: 2\n",
            "Position of min value: 6\n",
            "Current List: [1, 12, 38, 63, 76, 90, 53, 42] \n",
            "\n",
            "Round: 4\n",
            "Position to insert: 3\n",
            "Position of min value: 7\n",
            "Current List: [1, 12, 38, 42, 76, 90, 53, 63] \n",
            "\n",
            "Round: 5\n",
            "Position to insert: 4\n",
            "Position of min value: 6\n",
            "Current List: [1, 12, 38, 42, 53, 90, 76, 63] \n",
            "\n",
            "Round: 6\n",
            "Position to insert: 5\n",
            "Position of min value: 7\n",
            "Current List: [1, 12, 38, 42, 53, 63, 76, 90] \n",
            "\n",
            "Round: 7\n",
            "Position to insert: 6\n",
            "Position of min value: 6\n",
            "Current List: [1, 12, 38, 42, 53, 63, 76, 90] \n",
            "\n",
            "Number of Comparisons:  28\n",
            "Number of Exchanges:  6\n",
            "[1, 12, 38, 42, 53, 63, 76, 90]\n"
          ]
        }
      ],
      "source": [
        "inputList = [12, 90, 53, 63, 76, 1, 38, 42]\n",
        "selectionSort(inputList)\n",
        "print(inputList)"
      ]
    },
    {
      "cell_type": "markdown",
      "metadata": {
        "id": "gskONT21DsJJ"
      },
      "source": [
        "---"
      ]
    },
    {
      "cell_type": "markdown",
      "metadata": {
        "id": "GUtwwWxwDsJJ"
      },
      "source": [
        "## 1.3 Write a insertionSort on an input list\n",
        "\n",
        "### Requirements\n",
        "- Print round number for each round\n",
        "- Print a current selected/drew value in an unsorted area\n",
        "- Print a position of the current selected/drew value in an unsorted area\n",
        "- Print a position of the inserted item into the sorted area\n",
        "- Print current list after each round has finished\n",
        "- Print number of comparisons and exchanges after the last round has finished"
      ]
    },
    {
      "cell_type": "code",
      "execution_count": null,
      "metadata": {
        "id": "GSppi_r1DsJJ"
      },
      "outputs": [],
      "source": [
        "def insertionSort(alist):\n",
        "    print(\"Original list: \", alist, \"\\n\")\n",
        "    no_compare = 0\n",
        "    no_exchange = 0\n",
        "\n",
        "    for i in range(1, len(alist)):\n",
        "        current_value = alist[i]\n",
        "        position = i\n",
        "        print(\"Round:\", i)\n",
        "        print(\"Current Value:\", current_value)\n",
        "        print(\"Position of the current value:\", position)\n",
        "        while position > 0 and alist[position - 1] > current_value:\n",
        "            no_compare += 1\n",
        "            alist[position] = alist[position - 1]\n",
        "            position -= 1\n",
        "            no_exchange += 1\n",
        "        alist[position] = current_value\n",
        "        print(\"Position to insert:\", position)\n",
        "        print(\"Current List:\", alist, \"\\n\")\n",
        "\n",
        "    print(\"Number of Comparisons: \", no_compare)\n",
        "    print(\"Number of Exchanges: \", no_exchange)"
      ]
    },
    {
      "cell_type": "markdown",
      "metadata": {
        "id": "KJc8CxbHDsJK"
      },
      "source": [
        "### Testing Codes"
      ]
    },
    {
      "cell_type": "code",
      "execution_count": null,
      "metadata": {
        "colab": {
          "base_uri": "https://localhost:8080/"
        },
        "id": "68m02zBWDsJK",
        "outputId": "6b168a1b-68b3-4e1c-f067-0b0cd2c162f7"
      },
      "outputs": [
        {
          "output_type": "stream",
          "name": "stdout",
          "text": [
            "Original list:  [54, 26, 93, 17, 77, 31, 44, 55, 20] \n",
            "\n",
            "Round: 1\n",
            "Current Value: 26\n",
            "Position of the current value: 1\n",
            "Position to insert: 0\n",
            "Current List: [26, 54, 93, 17, 77, 31, 44, 55, 20] \n",
            "\n",
            "Round: 2\n",
            "Current Value: 93\n",
            "Position of the current value: 2\n",
            "Position to insert: 2\n",
            "Current List: [26, 54, 93, 17, 77, 31, 44, 55, 20] \n",
            "\n",
            "Round: 3\n",
            "Current Value: 17\n",
            "Position of the current value: 3\n",
            "Position to insert: 0\n",
            "Current List: [17, 26, 54, 93, 77, 31, 44, 55, 20] \n",
            "\n",
            "Round: 4\n",
            "Current Value: 77\n",
            "Position of the current value: 4\n",
            "Position to insert: 3\n",
            "Current List: [17, 26, 54, 77, 93, 31, 44, 55, 20] \n",
            "\n",
            "Round: 5\n",
            "Current Value: 31\n",
            "Position of the current value: 5\n",
            "Position to insert: 2\n",
            "Current List: [17, 26, 31, 54, 77, 93, 44, 55, 20] \n",
            "\n",
            "Round: 6\n",
            "Current Value: 44\n",
            "Position of the current value: 6\n",
            "Position to insert: 3\n",
            "Current List: [17, 26, 31, 44, 54, 77, 93, 55, 20] \n",
            "\n",
            "Round: 7\n",
            "Current Value: 55\n",
            "Position of the current value: 7\n",
            "Position to insert: 5\n",
            "Current List: [17, 26, 31, 44, 54, 55, 77, 93, 20] \n",
            "\n",
            "Round: 8\n",
            "Current Value: 20\n",
            "Position of the current value: 8\n",
            "Position to insert: 1\n",
            "Current List: [17, 20, 26, 31, 44, 54, 55, 77, 93] \n",
            "\n",
            "Number of Comparisons:  20\n",
            "Number of Exchanges:  20\n",
            "[17, 20, 26, 31, 44, 54, 55, 77, 93]\n"
          ]
        }
      ],
      "source": [
        "inputList = [54,26,93,17,77,31,44,55,20]\n",
        "insertionSort(inputList)\n",
        "print(inputList)"
      ]
    },
    {
      "cell_type": "code",
      "execution_count": null,
      "metadata": {
        "colab": {
          "base_uri": "https://localhost:8080/"
        },
        "id": "180JkEG0DsJK",
        "outputId": "23390f9f-96c4-457d-d86e-382e619ad6b5"
      },
      "outputs": [
        {
          "output_type": "stream",
          "name": "stdout",
          "text": [
            "Original list:  [12, 90, 53, 63, 76, 1, 38, 42] \n",
            "\n",
            "Round: 1\n",
            "Current Value: 90\n",
            "Position of the current value: 1\n",
            "Position to insert: 1\n",
            "Current List: [12, 90, 53, 63, 76, 1, 38, 42] \n",
            "\n",
            "Round: 2\n",
            "Current Value: 53\n",
            "Position of the current value: 2\n",
            "Position to insert: 1\n",
            "Current List: [12, 53, 90, 63, 76, 1, 38, 42] \n",
            "\n",
            "Round: 3\n",
            "Current Value: 63\n",
            "Position of the current value: 3\n",
            "Position to insert: 2\n",
            "Current List: [12, 53, 63, 90, 76, 1, 38, 42] \n",
            "\n",
            "Round: 4\n",
            "Current Value: 76\n",
            "Position of the current value: 4\n",
            "Position to insert: 3\n",
            "Current List: [12, 53, 63, 76, 90, 1, 38, 42] \n",
            "\n",
            "Round: 5\n",
            "Current Value: 1\n",
            "Position of the current value: 5\n",
            "Position to insert: 0\n",
            "Current List: [1, 12, 53, 63, 76, 90, 38, 42] \n",
            "\n",
            "Round: 6\n",
            "Current Value: 38\n",
            "Position of the current value: 6\n",
            "Position to insert: 2\n",
            "Current List: [1, 12, 38, 53, 63, 76, 90, 42] \n",
            "\n",
            "Round: 7\n",
            "Current Value: 42\n",
            "Position of the current value: 7\n",
            "Position to insert: 3\n",
            "Current List: [1, 12, 38, 42, 53, 63, 76, 90] \n",
            "\n",
            "Number of Comparisons:  16\n",
            "Number of Exchanges:  16\n",
            "[1, 12, 38, 42, 53, 63, 76, 90]\n"
          ]
        }
      ],
      "source": [
        "inputList = [12, 90, 53, 63, 76, 1, 38, 42]\n",
        "insertionSort(inputList)\n",
        "print(inputList)"
      ]
    },
    {
      "cell_type": "markdown",
      "metadata": {
        "id": "fS-ZQuRYDsJK"
      },
      "source": [
        "## 1.4 What is the runtime behaviour of sorting element method between bubbleSort, SelectionSort, and insertionSort?\n",
        "\n",
        "### Requirements\n",
        "\n",
        "Plot the graph of running time, number of exchanges, and number of comparisons to answer this.\n",
        "\n",
        "* Each test of `n` should execute 1 round\n",
        "* For each random_list, it should record the number of exchanges and number of comparisons.\n"
      ]
    },
    {
      "cell_type": "markdown",
      "metadata": {
        "id": "xIHhwCWCDsJK"
      },
      "source": [
        "Generate a list of random numbers with different lengths"
      ]
    },
    {
      "cell_type": "code",
      "execution_count": null,
      "metadata": {
        "id": "THqhL6mPDsJK"
      },
      "outputs": [],
      "source": [
        "import random\n",
        "\n",
        "# Function to generate a list of unique random numbers\n",
        "def generate_random_list(length):\n",
        "    return random.sample(range(1, length * 10), length)\n",
        "\n",
        "# Generate a list of random numbers with different lengths\n",
        "lengths = [10, 50, 100, 500, 1000, 5000, 10000, 15000, 20000]\n",
        "random_lists = [generate_random_list(length) for length in lengths]"
      ]
    },
    {
      "cell_type": "markdown",
      "metadata": {
        "id": "JeG2wXPMDsJL"
      },
      "source": [
        "Check if all elements in the list are unique"
      ]
    },
    {
      "cell_type": "code",
      "execution_count": null,
      "metadata": {
        "colab": {
          "base_uri": "https://localhost:8080/"
        },
        "id": "APoCQn2EDsJL",
        "outputId": "2e9e58a5-f249-4bfc-b409-b9063894eaa0"
      },
      "outputs": [
        {
          "output_type": "execute_result",
          "data": {
            "text/plain": [
              "1000"
            ]
          },
          "metadata": {},
          "execution_count": 27
        }
      ],
      "source": [
        "len(set(random_lists[4]))"
      ]
    },
    {
      "cell_type": "markdown",
      "metadata": {
        "id": "RVP06Vo0DsJL"
      },
      "source": [
        "- Copy sorting method codes from 1.1 to 1.3 but remove the print function to reduce the number of printed output."
      ]
    },
    {
      "cell_type": "markdown",
      "metadata": {
        "id": "Zqy-DMAbDsJM"
      },
      "source": [
        "Plotting codes (you can simply run the following codes)"
      ]
    },
    {
      "cell_type": "code",
      "execution_count": null,
      "metadata": {
        "id": "180aGaBbDsJL"
      },
      "outputs": [],
      "source": [
        "import timeit\n",
        "\n",
        "import matplotlib.pyplot as plt\n",
        "\n",
        "# Initialize lists to store the running times, number of exchanges, and number of comparisons\n",
        "bubble_times = []\n",
        "bubble_exchanges = []\n",
        "bubble_comparisons = []\n",
        "selection_times = []\n",
        "selection_exchanges = []\n",
        "selection_comparisons = []\n",
        "insertion_times = []\n",
        "insertion_exchanges = []\n",
        "insertion_comparisons = []\n",
        "\n",
        "def bubbleSort(alist):\n",
        "    no_compare = 0\n",
        "    no_exchange = 0\n",
        "\n",
        "    n = len(alist)\n",
        "    for round_num in range(n - 1):\n",
        "        swapped = False\n",
        "        for i in range(n - 1 - round_num):\n",
        "            no_compare += 1\n",
        "            if alist[i] > alist[i + 1]:\n",
        "                alist[i], alist[i + 1] = alist[i + 1], alist[i]\n",
        "                no_exchange += 1\n",
        "                swapped = True\n",
        "        if not swapped:\n",
        "            break\n",
        "    return no_exchange, no_compare\n",
        "\n",
        "def selectionSort(alist):\n",
        "    no_compare = 0\n",
        "    no_exchange = 0\n",
        "\n",
        "    for i in range(len(alist) - 1):\n",
        "        min_index = i\n",
        "        for j in range(i + 1, len(alist)):\n",
        "            no_compare += 1\n",
        "            if alist[j] < alist[min_index]:\n",
        "                min_index = j\n",
        "        if min_index != i:\n",
        "            alist[i], alist[min_index] = alist[min_index], alist[i]\n",
        "            no_exchange += 1\n",
        "    return no_exchange, no_compare\n",
        "\n",
        "def insertionSort(alist):\n",
        "    no_compare = 0\n",
        "    no_exchange = 0\n",
        "\n",
        "    for i in range(1, len(alist)):\n",
        "        current_value = alist[i]\n",
        "        position = i\n",
        "        while position > 0 and alist[position - 1] > current_value:\n",
        "            no_compare += 1\n",
        "            alist[position] = alist[position - 1]\n",
        "            position -= 1\n",
        "            no_exchange += 1\n",
        "        alist[position] = current_value\n",
        "    return no_exchange, no_compare\n",
        "\n",
        "# Measure the running time, number of exchanges, and number of comparisons for each random list\n",
        "for random_list in random_lists:\n",
        "    # Measure the running time, number of exchanges, and number of comparisons for bubble sort\n",
        "    bubble_exchanges.append([])\n",
        "    bubble_comparisons.append([])\n",
        "    bubble_time = timeit.timeit(lambda: bubbleSort(random_list.copy()), number=1)\n",
        "    bubble_times.append(bubble_time)\n",
        "    bubble_exchanges[-1].append(bubbleSort(random_list.copy())[0])\n",
        "    bubble_comparisons[-1].append(bubbleSort(random_list.copy())[1])\n",
        "\n",
        "    # Measure the running time, number of exchanges, and number of comparisons for selection sort\n",
        "    selection_exchanges.append([])\n",
        "    selection_comparisons.append([])\n",
        "    selection_time = timeit.timeit(lambda: selectionSort(random_list.copy()), number=1)\n",
        "    selection_times.append(selection_time)\n",
        "    selection_exchanges[-1].append(selectionSort(random_list.copy())[0])\n",
        "    selection_comparisons[-1].append(selectionSort(random_list.copy())[1])\n",
        "\n",
        "    # Measure the running time, number of exchanges, and number of comparisons for insertion sort\n",
        "    insertion_exchanges.append([])\n",
        "    insertion_comparisons.append([])\n",
        "    insertion_time = timeit.timeit(lambda: insertionSort(random_list.copy()), number=1)\n",
        "    insertion_times.append(insertion_time)\n",
        "    insertion_exchanges[-1].append(insertionSort(random_list.copy())[0])\n",
        "    insertion_comparisons[-1].append(insertionSort(random_list.copy())[1])\n"
      ]
    },
    {
      "cell_type": "code",
      "execution_count": null,
      "metadata": {
        "colab": {
          "base_uri": "https://localhost:8080/",
          "height": 1000
        },
        "id": "EpoQPHW2DsJM",
        "outputId": "32c80d51-781b-427d-b467-ef86a5a15439"
      },
      "outputs": [
        {
          "output_type": "display_data",
          "data": {
            "text/plain": [
              "<Figure size 1000x700 with 1 Axes>"
            ],
            "image/png": "[encoded data removed]"
          },
          "metadata": {}
        },
        {
          "output_type": "display_data",
          "data": {
            "text/plain": [
              "<Figure size 1000x700 with 1 Axes>"
            ],
            "image/png": "[encoded data removed]"
          },
          "metadata": {}
        },
        {
          "output_type": "display_data",
          "data": {
            "text/plain": [
              "<Figure size 1000x700 with 1 Axes>"
            ],
            "image/png": "[encoded data removed]"
          },
          "metadata": {}
        }
      ],
      "source": [
        "# Plot the graph for running time\n",
        "plt.figure(figsize=(10,7))\n",
        "plt.plot(lengths, bubble_times, 'ob', label='Bubble Sort')\n",
        "plt.plot(lengths, selection_times, 'or', label='Selection Sort')\n",
        "plt.plot(lengths, insertion_times, 'og', label='Insertion Sort')\n",
        "plt.xlabel('List Length')\n",
        "plt.ylabel('Running Time (seconds)')\n",
        "plt.title('Running Time of Sorting Algorithms')\n",
        "plt.legend()\n",
        "plt.show()\n",
        "\n",
        "# Plot the graph for number of exchanges\n",
        "plt.figure(figsize=(10,7))\n",
        "plt.plot(lengths, bubble_exchanges, 'ob', label='Bubble Sort')\n",
        "plt.plot(lengths, selection_exchanges, 'or', label='Selection Sort')\n",
        "plt.plot(lengths, insertion_exchanges, 'og', label='Insertion Sort')\n",
        "plt.xlabel('List Length')\n",
        "plt.ylabel('Number of Exchanges')\n",
        "plt.title('Number of Exchanges in Sorting Algorithms')\n",
        "plt.legend()\n",
        "plt.show()\n",
        "\n",
        "# Plot the graph for number of comparisons\n",
        "plt.figure(figsize=(10,7))\n",
        "plt.plot(lengths, bubble_comparisons, 'ob', label='Bubble Sort')\n",
        "plt.plot(lengths, selection_comparisons, 'or', label='Selection Sort')\n",
        "plt.plot(lengths, insertion_comparisons, 'og', label='Insertion Sort')\n",
        "plt.xlabel('List Length')\n",
        "plt.ylabel('Number of Comparisons')\n",
        "plt.title('Number of Comparisons in Sorting Algorithms')\n",
        "plt.legend()\n",
        "plt.show()"
      ]
    },
    {
      "cell_type": "markdown",
      "metadata": {
        "id": "mMjf7glpDsJM"
      },
      "source": [
        "---"
      ]
    },
    {
      "cell_type": "markdown",
      "metadata": {
        "id": "9N5-oU3RDsJM"
      },
      "source": [
        "# Challenge 7: Sorting Playing Cards"
      ]
    },
    {
      "cell_type": "markdown",
      "metadata": {
        "id": "3cogFTtWDsJN"
      },
      "source": [
        "## Problem Description\n",
        "\n",
        "Modify bubbleSort, SelectionSort, and insertSort function to sort a deck of French-suited playing cards [[More info about playing cards]](https://en.wikipedia.org/wiki/French-suited_playing_cards)\n",
        "\n",
        "## Requirements\n",
        "\n",
        "- Sort by numbers from lower numbers to higher numbers ('A' is the lowest number, 'K' is the highest number)\n",
        "- If two cards have the same number, sort them by suit as follows: clubs (♣) < diamonds (♦) < hearts (♥) < spades (♠)\n",
        "\n",
        "### Hint\n",
        "\n",
        "- Use a dictionary to list all possible cards and numbers and another dictinary for card suit."
      ]
    },
    {
      "cell_type": "code",
      "execution_count": null,
      "metadata": {
        "id": "_34xE4_lDsJN"
      },
      "outputs": [],
      "source": [
        "card_values = {'A': 1, '2': 2, '3': 3, '4': 4, '5': 5, '6': 6, '7': 7, '8': 8, '9': 9, '10': 10, 'J': 11, 'Q': 12, 'K': 13}\n",
        "suit_values = {'♣': 1, '♦': 2, '♥': 3, '♠': 4}\n",
        "def card_key(card):\n",
        "    number = ''.join(filter(str.isdigit, card)) or card[0]\n",
        "    suit = card[-1]\n",
        "    return (card_values[number], suit_values[suit])"
      ]
    },
    {
      "cell_type": "code",
      "execution_count": null,
      "metadata": {
        "id": "sOvhMeDVDsJN"
      },
      "outputs": [],
      "source": [
        "def bubbleSort_card(alist):\n",
        "    print(\"Original list:\", alist, \"\\n\")\n",
        "    no_compare = 0\n",
        "    no_exchange = 0\n",
        "\n",
        "    n = len(alist)\n",
        "    for i in range(n - 1):\n",
        "        swapped = False\n",
        "        print(\"Round:\", i + 1)\n",
        "        for j in range(n - 1 - i):\n",
        "            no_compare += 1\n",
        "            if card_key(alist[j]) > card_key(alist[j + 1]):\n",
        "                alist[j], alist[j + 1] = alist[j + 1], alist[j]\n",
        "                no_exchange += 1\n",
        "                swapped = True\n",
        "        print(\"Current List:\", alist, \"\\n\")\n",
        "        if not swapped:\n",
        "            break\n",
        "\n",
        "    print(\"Number of Comparisons:\", no_compare)\n",
        "    print(\"Number of Exchanges:\", no_exchange)"
      ]
    },
    {
      "cell_type": "markdown",
      "metadata": {
        "id": "nfFysQYmDsJN"
      },
      "source": [
        "### Testing Codes"
      ]
    },
    {
      "cell_type": "code",
      "execution_count": null,
      "metadata": {
        "id": "tRP1fOzeDsJO",
        "outputId": "06fddc50-5df1-40fb-d008-5c167b623817",
        "colab": {
          "base_uri": "https://localhost:8080/"
        }
      },
      "outputs": [
        {
          "output_type": "stream",
          "name": "stdout",
          "text": [
            "Original list: ['4♣', 'A♣', '10♥', 'K♦', '4♠', '10♣', '3♦', '7♥', '4♦'] \n",
            "\n",
            "Round: 1\n",
            "Current List: ['A♣', '4♣', '10♥', '4♠', '10♣', '3♦', '7♥', '4♦', 'K♦'] \n",
            "\n",
            "Round: 2\n",
            "Current List: ['A♣', '4♣', '4♠', '10♣', '3♦', '7♥', '4♦', '10♥', 'K♦'] \n",
            "\n",
            "Round: 3\n",
            "Current List: ['A♣', '4♣', '4♠', '3♦', '7♥', '4♦', '10♣', '10♥', 'K♦'] \n",
            "\n",
            "Round: 4\n",
            "Current List: ['A♣', '4♣', '3♦', '4♠', '4♦', '7♥', '10♣', '10♥', 'K♦'] \n",
            "\n",
            "Round: 5\n",
            "Current List: ['A♣', '3♦', '4♣', '4♦', '4♠', '7♥', '10♣', '10♥', 'K♦'] \n",
            "\n",
            "Round: 6\n",
            "Current List: ['A♣', '3♦', '4♣', '4♦', '4♠', '7♥', '10♣', '10♥', 'K♦'] \n",
            "\n",
            "Number of Comparisons: 33\n",
            "Number of Exchanges: 18\n",
            "['A♣', '3♦', '4♣', '4♦', '4♠', '7♥', '10♣', '10♥', 'K♦']\n"
          ]
        }
      ],
      "source": [
        "inputList = ['4♣','A♣','10♥','K♦','4♠','10♣','3♦','7♥','4♦']\n",
        "bubbleSort_card(inputList)\n",
        "print(inputList)"
      ]
    },
    {
      "cell_type": "code",
      "execution_count": null,
      "metadata": {
        "id": "fHyeYEgHDsJO"
      },
      "outputs": [],
      "source": [
        "def selectionSort_card(alist):\n",
        "    print(\"Original list: \", alist, \"\\n\")\n",
        "    no_compare = 0\n",
        "    no_exchange = 0\n",
        "\n",
        "    for i in range(len(alist)):\n",
        "        min_index = i\n",
        "        for j in range(i + 1, len(alist)):\n",
        "            no_compare += 1\n",
        "            if card_key(alist[j]) < card_key(alist[min_index]):\n",
        "                min_index = j\n",
        "        if min_index != i:\n",
        "            alist[i], alist[min_index] = alist[min_index], alist[i]\n",
        "            no_exchange += 1\n",
        "        print(f\"Round: {i+1}\\nPosition to insert: {i}\\nPosition of min value: {min_index}\\nCurrent List: {alist}\\n\")\n",
        "\n",
        "    print(\"Number of Comparisons: \", no_compare)\n",
        "    print(\"Number of Exchanges: \", no_exchange)"
      ]
    },
    {
      "cell_type": "markdown",
      "metadata": {
        "id": "dChfV2wbDsJO"
      },
      "source": [
        "### Testing Codes"
      ]
    },
    {
      "cell_type": "code",
      "execution_count": null,
      "metadata": {
        "id": "C73Fnv6_DsJY",
        "outputId": "126ae54f-9bb2-41fc-814e-5cb24d3f2f0c",
        "colab": {
          "base_uri": "https://localhost:8080/"
        }
      },
      "outputs": [
        {
          "output_type": "stream",
          "name": "stdout",
          "text": [
            "Original list:  ['4♣', 'A♣', '10♥', 'K♦', '4♠', '10♣', '3♦', '7♥', '4♦'] \n",
            "\n",
            "Round: 1\n",
            "Position to insert: 0\n",
            "Position of min value: 1\n",
            "Current List: ['A♣', '4♣', '10♥', 'K♦', '4♠', '10♣', '3♦', '7♥', '4♦']\n",
            "\n",
            "Round: 2\n",
            "Position to insert: 1\n",
            "Position of min value: 6\n",
            "Current List: ['A♣', '3♦', '10♥', 'K♦', '4♠', '10♣', '4♣', '7♥', '4♦']\n",
            "\n",
            "Round: 3\n",
            "Position to insert: 2\n",
            "Position of min value: 6\n",
            "Current List: ['A♣', '3♦', '4♣', 'K♦', '4♠', '10♣', '10♥', '7♥', '4♦']\n",
            "\n",
            "Round: 4\n",
            "Position to insert: 3\n",
            "Position of min value: 8\n",
            "Current List: ['A♣', '3♦', '4♣', '4♦', '4♠', '10♣', '10♥', '7♥', 'K♦']\n",
            "\n",
            "Round: 5\n",
            "Position to insert: 4\n",
            "Position of min value: 4\n",
            "Current List: ['A♣', '3♦', '4♣', '4♦', '4♠', '10♣', '10♥', '7♥', 'K♦']\n",
            "\n",
            "Round: 6\n",
            "Position to insert: 5\n",
            "Position of min value: 7\n",
            "Current List: ['A♣', '3♦', '4♣', '4♦', '4♠', '7♥', '10♥', '10♣', 'K♦']\n",
            "\n",
            "Round: 7\n",
            "Position to insert: 6\n",
            "Position of min value: 7\n",
            "Current List: ['A♣', '3♦', '4♣', '4♦', '4♠', '7♥', '10♣', '10♥', 'K♦']\n",
            "\n",
            "Round: 8\n",
            "Position to insert: 7\n",
            "Position of min value: 7\n",
            "Current List: ['A♣', '3♦', '4♣', '4♦', '4♠', '7♥', '10♣', '10♥', 'K♦']\n",
            "\n",
            "Round: 9\n",
            "Position to insert: 8\n",
            "Position of min value: 8\n",
            "Current List: ['A♣', '3♦', '4♣', '4♦', '4♠', '7♥', '10♣', '10♥', 'K♦']\n",
            "\n",
            "Number of Comparisons:  36\n",
            "Number of Exchanges:  6\n",
            "['A♣', '3♦', '4♣', '4♦', '4♠', '7♥', '10♣', '10♥', 'K♦']\n"
          ]
        }
      ],
      "source": [
        "inputList = ['4♣','A♣','10♥','K♦','4♠','10♣','3♦','7♥','4♦']\n",
        "selectionSort_card(inputList)\n",
        "print(inputList)"
      ]
    },
    {
      "cell_type": "code",
      "execution_count": null,
      "metadata": {
        "id": "vJrKO8ECDsJZ"
      },
      "outputs": [],
      "source": [
        "def insertionSort_card(alist):\n",
        "    print(\"Original list: \", alist, \"\\n\")\n",
        "    no_compare = 0\n",
        "    no_exchange = 0\n",
        "\n",
        "    for i in range(1, len(alist)):\n",
        "        key_card = alist[i]\n",
        "        j = i - 1\n",
        "        while j >= 0 and card_key(alist[j]) > card_key(key_card):\n",
        "            no_compare += 1\n",
        "            alist[j + 1] = alist[j]\n",
        "            j -= 1\n",
        "            no_exchange += 1\n",
        "        alist[j + 1] = key_card\n",
        "        print(f\"Round: {i}\\nCurrent Value: {key_card}\\nPosition of the current value: {i}\\nPosition to insert: {j+1}\\nCurrent List: {alist}\\n\")\n",
        "\n",
        "    print(\"Number of Comparisons: \", no_compare)\n",
        "    print(\"Number of Exchanges: \", no_exchange)"
      ]
    },
    {
      "cell_type": "markdown",
      "metadata": {
        "id": "cg6lbDJfDsJZ"
      },
      "source": [
        "### Testing Codes"
      ]
    },
    {
      "cell_type": "code",
      "execution_count": null,
      "metadata": {
        "id": "zGP-1PvPDsJZ",
        "outputId": "bbc3715f-28e1-4bb8-8dcc-4923d3f606ae",
        "colab": {
          "base_uri": "https://localhost:8080/"
        }
      },
      "outputs": [
        {
          "output_type": "stream",
          "name": "stdout",
          "text": [
            "Original list:  ['4♣', 'A♣', '10♥', 'K♦', '4♠', '10♣', '3♦', '7♥', '4♦'] \n",
            "\n",
            "Round: 1\n",
            "Current Value: A♣\n",
            "Position of the current value: 1\n",
            "Position to insert: 0\n",
            "Current List: ['A♣', '4♣', '10♥', 'K♦', '4♠', '10♣', '3♦', '7♥', '4♦']\n",
            "\n",
            "Round: 2\n",
            "Current Value: 10♥\n",
            "Position of the current value: 2\n",
            "Position to insert: 2\n",
            "Current List: ['A♣', '4♣', '10♥', 'K♦', '4♠', '10♣', '3♦', '7♥', '4♦']\n",
            "\n",
            "Round: 3\n",
            "Current Value: K♦\n",
            "Position of the current value: 3\n",
            "Position to insert: 3\n",
            "Current List: ['A♣', '4♣', '10♥', 'K♦', '4♠', '10♣', '3♦', '7♥', '4♦']\n",
            "\n",
            "Round: 4\n",
            "Current Value: 4♠\n",
            "Position of the current value: 4\n",
            "Position to insert: 2\n",
            "Current List: ['A♣', '4♣', '4♠', '10♥', 'K♦', '10♣', '3♦', '7♥', '4♦']\n",
            "\n",
            "Round: 5\n",
            "Current Value: 10♣\n",
            "Position of the current value: 5\n",
            "Position to insert: 3\n",
            "Current List: ['A♣', '4♣', '4♠', '10♣', '10♥', 'K♦', '3♦', '7♥', '4♦']\n",
            "\n",
            "Round: 6\n",
            "Current Value: 3♦\n",
            "Position of the current value: 6\n",
            "Position to insert: 1\n",
            "Current List: ['A♣', '3♦', '4♣', '4♠', '10♣', '10♥', 'K♦', '7♥', '4♦']\n",
            "\n",
            "Round: 7\n",
            "Current Value: 7♥\n",
            "Position of the current value: 7\n",
            "Position to insert: 4\n",
            "Current List: ['A♣', '3♦', '4♣', '4♠', '7♥', '10♣', '10♥', 'K♦', '4♦']\n",
            "\n",
            "Round: 8\n",
            "Current Value: 4♦\n",
            "Position of the current value: 8\n",
            "Position to insert: 3\n",
            "Current List: ['A♣', '3♦', '4♣', '4♦', '4♠', '7♥', '10♣', '10♥', 'K♦']\n",
            "\n",
            "Number of Comparisons:  18\n",
            "Number of Exchanges:  18\n",
            "['A♣', '3♦', '4♣', '4♦', '4♠', '7♥', '10♣', '10♥', 'K♦']\n"
          ]
        }
      ],
      "source": [
        "inputList = ['4♣','A♣','10♥','K♦','4♠','10♣','3♦','7♥','4♦']\n",
        "insertionSort_card(inputList)\n",
        "print(inputList)"
      ]
    },
    {
      "cell_type": "markdown",
      "metadata": {
        "id": "7JA0hhWJDsJZ"
      },
      "source": [
        "---"
      ]
    },
    {
      "cell_type": "markdown",
      "metadata": {
        "id": "OUSs19uXDsJa"
      },
      "source": []
    }
  ],
  "metadata": {
    "colab": {
      "provenance": []
    },
    "kernelspec": {
      "display_name": "Python 3",
      "language": "python",
      "name": "python3"
    },
    "language_info": {
      "codemirror_mode": {
        "name": "ipython",
        "version": 3
      },
      "file_extension": ".py",
      "mimetype": "text/x-python",
      "name": "python",
      "nbconvert_exporter": "python",
      "pygments_lexer": "ipython3",
      "version": "3.10.2"
    }
  },
  "nbformat": 4,
  "nbformat_minor": 0
}