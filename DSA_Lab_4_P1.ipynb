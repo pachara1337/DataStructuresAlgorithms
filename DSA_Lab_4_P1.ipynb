{
  "cells": [
    {
      "cell_type": "markdown",
      "metadata": {
        "id": "Lht2yMX9U-LS"
      },
      "source": [
        "# Lab 4 Part 1: Stacks"
      ]
    },
    {
      "cell_type": "markdown",
      "metadata": {
        "id": "lsMIkVIHU-LU"
      },
      "source": [
        "Lecturer: <code>Sirasit Lochanachit</code>\n",
        "\n",
        "Course:\n",
        "\n",
        "<code>01526102 Data Sturctures and Algorithms [SIIE]\n",
        "</code>\n",
        "\n",
        "Term: <code>02/2024</code>\n",
        "\n",
        "---"
      ]
    },
    {
      "cell_type": "markdown",
      "metadata": {
        "id": "pdjY6UxwU-LU"
      },
      "source": [
        "### **What is a Stack?**\n",
        "\n",
        "> A **Stack** is a data structure that follows the **Last In, First Out (LIFO)** rule. Think of it as a stack of plates: you can only add or remove the plate on top\n"
      ]
    },
    {
      "cell_type": "code",
      "execution_count": 12,
      "metadata": {
        "id": "vw2_SnuIU-LU"
      },
      "outputs": [],
      "source": [
        "class Stack:\n",
        "  def __init__(self):\n",
        "    self.stack = []"
      ]
    },
    {
      "cell_type": "markdown",
      "metadata": {
        "id": "Pc6Mn80kU-LV"
      },
      "source": [
        "# Implementing a Stack using a Python list"
      ]
    },
    {
      "cell_type": "markdown",
      "metadata": {
        "id": "YaNVhlyGU-LV"
      },
      "source": [
        "Given an ArrayStack class and its operations/methods"
      ]
    },
    {
      "cell_type": "markdown",
      "metadata": {
        "id": "sWLFPaj5U-LV"
      },
      "source": [
        "### Objective:\n",
        "- Understand and implement a stack data structure using arrays (Python lists).\n",
        "- Restrict the use of direct list operations to promote understanding of stack functionality.\n",
        "### Requirements:\n",
        "1. Class Name: `ArrayStack`.\n",
        "2. Internal Storage: Use a Python list (`self._data`) for storing stack elements.\n",
        "3. Allowed List Operations: Direct use of list operations is only permitted for implementing:\n",
        "    - `push(element)`\n",
        "    - `top()`\n",
        "    - `pop()`.\n",
        "4. Implement other stack-related operations (like \\_\\_len\\_\\_, is_empty) without using any additional direct list operations."
      ]
    },
    {
      "cell_type": "code",
      "execution_count": 1,
      "metadata": {
        "id": "s8SPmOY1U-LV"
      },
      "outputs": [],
      "source": [
        "class ArrayStack:\n",
        "  def __init__(self):\n",
        "    \"\"\" Create an empty stack. \"\"\"\n",
        "    self._data = []   # Initiate a nonpublic list instance to store stack elements\n",
        "\n",
        "  def __len__(self):\n",
        "    \"\"\" Return the number of elements in the stack. \"\"\"\n",
        "    return len(self._data)\n",
        "\n",
        "  def is_empty(self):\n",
        "    \"\"\" Return True if the stack is empty. \"\"\"\n",
        "    return len(self._data) == 0\n",
        "\n",
        "  def push(self, element):\n",
        "    \"\"\" Add an element to the top of the stack. \"\"\"\n",
        "    self._data.append(element) # new item stored at end of list\n",
        "    print(f\"Stack after push '{element}':\", self._data)\n",
        "\n",
        "  def top(self):\n",
        "    \"\"\" Return (but do not remove) the element at the top of the stack.\n",
        "    Raise an exception if the stack is empty. \"\"\"\n",
        "    if self.is_empty():\n",
        "      print('Stack is empty')\n",
        "      raise Empty('Stack is empty') # Calling subclass Empty\n",
        "    return self._data[-1] # the last item in the list\n",
        "\n",
        "  def pop(self):\n",
        "    \"\"\" Remove and return the element from the top of the stack.\n",
        "    Raise an exception if the stack is empty. \"\"\"\n",
        "    if self.is_empty():\n",
        "      print('Stack is empty')\n",
        "      raise Exception('Stack is empty') # Alternate way to call subclass Empty\n",
        "    pop_item = self._data.pop() # remove last item from the list\n",
        "    print(f\"Stack after pop '{pop_item}':\", self._data)\n",
        "    return pop_item\n"
      ]
    },
    {
      "cell_type": "markdown",
      "metadata": {
        "id": "Qax20UTVU-LV"
      },
      "source": [
        "Empty class for error exception"
      ]
    },
    {
      "cell_type": "code",
      "execution_count": null,
      "metadata": {
        "id": "CzxvnMWwU-LV"
      },
      "outputs": [],
      "source": [
        "class Empty(Exception):\n",
        "  \"\"\" Error attempting to access an element from an empty container. \"\"\"\n",
        "  pass"
      ]
    },
    {
      "cell_type": "markdown",
      "metadata": {
        "id": "rmVNfHCPU-LW"
      },
      "source": [
        "## Sample Stack Operations"
      ]
    },
    {
      "cell_type": "code",
      "execution_count": 2,
      "metadata": {
        "id": "PVaB2WQUU-LW"
      },
      "outputs": [],
      "source": [
        "S = ArrayStack()  # contents: []"
      ]
    },
    {
      "cell_type": "markdown",
      "metadata": {
        "id": "BqYTd0XkU-LW"
      },
      "source": [
        "### Push operations"
      ]
    },
    {
      "cell_type": "markdown",
      "metadata": {
        "id": "aYo7xa9PU-LW"
      },
      "source": [
        "> The method `push(item)` is used to add an item to the top of the stack. Think of it as placing a new plate on top of a stack of plates."
      ]
    },
    {
      "cell_type": "code",
      "execution_count": null,
      "metadata": {
        "id": "hvp-sm1LU-LW"
      },
      "outputs": [],
      "source": [
        "S.push(4)         # contents: [4]\n",
        "S.push('car')         # contents: [4, 'car]\n",
        "\n",
        "print('Number of elements: {}'.format(len(S)))"
      ]
    },
    {
      "cell_type": "markdown",
      "metadata": {
        "id": "0VZI2Pa5U-LW"
      },
      "source": [
        "> The  method `top()` is used to view the top item without removing it. This lets you check what's on top without disturbing the stack."
      ]
    },
    {
      "cell_type": "code",
      "execution_count": null,
      "metadata": {
        "id": "Ly3zWQGYU-LW"
      },
      "outputs": [],
      "source": [
        "S.top()          # contents: [4, 'car']\n",
        "print('Retrieve top item: {}'.format(S.top()))"
      ]
    },
    {
      "cell_type": "code",
      "execution_count": null,
      "metadata": {
        "id": "56UwglKwU-LW"
      },
      "outputs": [],
      "source": [
        "S.push(7.5)      # contents: [4, 'car', 7.5]\n",
        "print('Number of elements: {}'.format(len(S)))"
      ]
    },
    {
      "cell_type": "code",
      "execution_count": null,
      "metadata": {
        "id": "lLdPiIz7U-LX"
      },
      "outputs": [],
      "source": [
        "S.is_empty()    # contents: [4, 'car', 7.5]\n",
        "print('Is stack empty?: {}'.format(S.is_empty()))"
      ]
    },
    {
      "cell_type": "markdown",
      "metadata": {
        "id": "-InxjjaiU-LX"
      },
      "source": [
        "### Pop operations"
      ]
    },
    {
      "cell_type": "markdown",
      "metadata": {
        "id": "BtOvWL1JU-LX"
      },
      "source": [
        "> The method`pop()` is used to remove and return the top item from the stack. Think of it as taking the top plate off the stack."
      ]
    },
    {
      "cell_type": "code",
      "execution_count": null,
      "metadata": {
        "id": "TbZarfYHU-LX"
      },
      "outputs": [],
      "source": [
        "print('Remove item: {}'.format(S.pop()))\n",
        "print('Number of elements: {}'.format(len(S)))"
      ]
    },
    {
      "cell_type": "code",
      "execution_count": null,
      "metadata": {
        "id": "fw7VxyE8U-LX"
      },
      "outputs": [],
      "source": [
        "print('Remove item: {}'.format(S.pop()))\n",
        "print('Number of elements: {}'.format(len(S)))"
      ]
    },
    {
      "cell_type": "markdown",
      "metadata": {
        "id": "4U7rd9qRU-LX"
      },
      "source": [
        "# Lab 4-1 Pop all"
      ]
    },
    {
      "cell_type": "markdown",
      "metadata": {
        "id": "tNrQzaNKU-LX"
      },
      "source": [
        "## 1.1 Problem Description\n",
        "Given a Stack class as defined below,\n",
        "\n",
        "1. implement a **pop_all** method that removes all items in a stack using `pop()` operation\n",
        "    - Constraints: List operations are not allowed\n",
        "2. implement a **printStack** method to print all data in the stack from bottom-to-top of the stack\n",
        "    - Constraints: Recent items are stored at the back of the list (or most right-handed)"
      ]
    },
    {
      "cell_type": "code",
      "execution_count": 3,
      "metadata": {
        "id": "g9r-5lFuU-LX"
      },
      "outputs": [],
      "source": [
        "class ArrayStack:\n",
        "  def __init__(self):\n",
        "    \"\"\" Create an empty stack. \"\"\"\n",
        "    self._data = []   # Initiate a nonpublic list instance to store stack elements\n",
        "\n",
        "  def __len__(self):\n",
        "    \"\"\" Return the number of elements in the stack. \"\"\"\n",
        "    return len(self._data)\n",
        "\n",
        "  def is_empty(self):\n",
        "    \"\"\" Return True if the stack is empty. \"\"\"\n",
        "    return len(self._data) == 0\n",
        "\n",
        "  def push(self, element):\n",
        "    \"\"\" Add an element to the top of the stack. \"\"\"\n",
        "    self._data.append(element) # new item stored at end of list\n",
        "    print(f\"Stack after push '{element}':\", self._data)\n",
        "\n",
        "  def top(self):\n",
        "    \"\"\" Return (but do not remove) the element at the top of the stack.\n",
        "    Raise an exception if the stack is empty. \"\"\"\n",
        "    if self.is_empty():\n",
        "      print('Stack is empty')\n",
        "      raise Empty('Stack is empty') # Calling subclass Empty\n",
        "    return self._data[-1] # the last item in the list\n",
        "\n",
        "  def pop(self):\n",
        "    \"\"\" Remove and return the element from the top of the stack.\n",
        "    Raise an exception if the stack is empty. \"\"\"\n",
        "    if self.is_empty():\n",
        "      print('Stack is empty')\n",
        "      raise Exception('Stack is empty') # Alternate way to call subclass Empty\n",
        "    pop_item = self._data.pop() # remove last item from the list\n",
        "    print(f\"Stack after pop '{pop_item}':\", self._data)\n",
        "    return pop_item\n",
        "\n",
        "\n",
        "  def pop_all(self):\n",
        "    while not self.is_empty():\n",
        "      self.pop()\n",
        "\n",
        "  def printStack(self):\n",
        "    if self.is_empty():\n",
        "      print(\"Stack is empty\")\n",
        "    else:\n",
        "      for item in self._data:\n",
        "        print(item, end = \" \")\n",
        "\n"
      ]
    },
    {
      "cell_type": "markdown",
      "metadata": {
        "id": "_rVcSMgOU-LX"
      },
      "source": [
        "You can verify your code by pushing some items then call `pop_all()` method, then call a method that check if a stack is really empty."
      ]
    },
    {
      "cell_type": "code",
      "execution_count": null,
      "metadata": {
        "id": "IXejeIE_U-LY"
      },
      "outputs": [],
      "source": [
        "# Your Test code here"
      ]
    },
    {
      "cell_type": "markdown",
      "metadata": {
        "id": "Mv7_FNvhU-LY"
      },
      "source": [
        "Another way to test the method by pushing `n` items by user input"
      ]
    },
    {
      "cell_type": "code",
      "execution_count": 4,
      "metadata": {
        "colab": {
          "base_uri": "https://localhost:8080/"
        },
        "id": "ykfET0vcU-LY",
        "outputId": "7c292b3e-ebc2-45dd-fddd-47b91a463c9a"
      },
      "outputs": [
        {
          "output_type": "stream",
          "name": "stdout",
          "text": [
            "5\n",
            "5\n",
            "Stack after push '5': ['5']\n",
            "4\n",
            "Stack after push '4': ['5', '4']\n",
            "3\n",
            "Stack after push '3': ['5', '4', '3']\n",
            "2\n",
            "Stack after push '2': ['5', '4', '3', '2']\n",
            "1\n",
            "Stack after push '1': ['5', '4', '3', '2', '1']\n",
            "5 4 3 2 1 Stack after pop '1': ['5', '4', '3', '2']\n",
            "Stack after pop '2': ['5', '4', '3']\n",
            "Stack after pop '3': ['5', '4']\n",
            "Stack after pop '4': ['5']\n",
            "Stack after pop '5': []\n",
            "True\n",
            "Stack is empty\n"
          ]
        }
      ],
      "source": [
        "if __name__ == \"__main__\":\n",
        "    S = ArrayStack()\n",
        "    n = int(input())\n",
        "    for i in range(n):\n",
        "        S.push(str(input()))\n",
        "    S.printStack()\n",
        "    S.pop_all()\n",
        "    print(S.is_empty())\n",
        "    S.printStack()"
      ]
    },
    {
      "cell_type": "markdown",
      "metadata": {
        "id": "iKTSJTxdU-LY"
      },
      "source": [
        "---"
      ]
    },
    {
      "cell_type": "markdown",
      "metadata": {
        "id": "KjXaX4QEU-LY"
      },
      "source": [
        "# Lab 4-2 Balanced Grouping Symbols"
      ]
    },
    {
      "cell_type": "markdown",
      "metadata": {
        "id": "UEbvephNU-LY"
      },
      "source": [
        "## 2.1 Problem Description\n",
        "\n",
        "Based on 4-1 and your `ArrayStack` class, add a Python method to solve a balanced grouping symbols problem (e.g. (), {}, and []) by using a __stack approach__ only\n",
        "\n",
        "### Constraints:\n",
        "* String manipulation are not allowed\n",
        "* If the given expression (string of symbols) is balanced, return True.\n",
        "  * Otherwise, return False\n",
        "* Example expression: ((]])) or ((A+B)*C)"
      ]
    },
    {
      "cell_type": "code",
      "source": [
        "class ArrayStack:\n",
        "  def __init__(self):\n",
        "    \"\"\" Create an empty stack. \"\"\"\n",
        "    self._data = []   # Initiate a nonpublic list instance to store stack elements\n",
        "\n",
        "  def __len__(self):\n",
        "    \"\"\" Return the number of elements in the stack. \"\"\"\n",
        "    return len(self._data)\n",
        "\n",
        "  def is_empty(self):\n",
        "    \"\"\" Return True if the stack is empty. \"\"\"\n",
        "    return len(self._data) == 0\n",
        "\n",
        "  def push(self, element):\n",
        "    \"\"\" Add an element to the top of the stack. \"\"\"\n",
        "    self._data.append(element) # new item stored at end of list\n",
        "    print(f\"Stack after push '{element}':\", self._data)\n",
        "\n",
        "  def top(self):\n",
        "    \"\"\" Return (but do not remove) the element at the top of the stack.\n",
        "    Raise an exception if the stack is empty. \"\"\"\n",
        "    if self.is_empty():\n",
        "      print('Stack is empty')\n",
        "      raise Empty('Stack is empty') # Calling subclass Empty\n",
        "    return self._data[-1] # the last item in the list\n",
        "\n",
        "  def pop(self):\n",
        "    \"\"\" Remove and return the element from the top of the stack.\n",
        "    Raise an exception if the stack is empty. \"\"\"\n",
        "    if self.is_empty():\n",
        "      print('Stack is empty')\n",
        "      raise Exception('Stack is empty') # Alternate way to call subclass Empty\n",
        "    pop_item = self._data.pop() # remove last item from the list\n",
        "    print(f\"Stack after pop '{pop_item}':\", self._data)\n",
        "    return pop_item\n",
        "\n",
        "\n",
        "  def pop_all(self):\n",
        "    while not self.is_empty():\n",
        "      self.pop()\n",
        "\n",
        "  def printStack(self):\n",
        "    if self.is_empty():\n",
        "      print(\"Stack is empty\")\n",
        "    else:\n",
        "      for item in self._data:\n",
        "        print(item, end = \" \")\n",
        "\n",
        "  def is_balanced(self, expression):\n",
        "   \"\"\" Return True if all delimiters are properly match; False otherwise.\"\"\"\n",
        "   lefty = '({['                                   # opening delimiters\n",
        "   righty = ')}]'                                  # respective closing delims\n",
        "\n",
        "   for dlm in expression:\n",
        "      if dlm in lefty:\n",
        "         self.push(dlm)\n",
        "      elif dlm in righty:\n",
        "         if self.is_empty():\n",
        "            return False   #if symbol in righty is empty then no match\n",
        "         if lefty.index(self.pop()) != righty.index(dlm):\n",
        "            return False #mismatch\n",
        "   return self.is_empty()  #empty = matched\n",
        "\n",
        "\n"
      ],
      "metadata": {
        "id": "SDuTRiKal8QL"
      },
      "execution_count": 22,
      "outputs": []
    },
    {
      "cell_type": "code",
      "source": [
        "S = ArrayStack()\n",
        "print(S.is_balanced('('))\n",
        "print(S.is_balanced('(([]))'))\n",
        "\n",
        "\n"
      ],
      "metadata": {
        "colab": {
          "base_uri": "https://localhost:8080/"
        },
        "id": "eA-L9hBmkco7",
        "outputId": "7e97384f-c689-4090-a744-a5a3c7e39dcd"
      },
      "execution_count": 23,
      "outputs": [
        {
          "output_type": "stream",
          "name": "stdout",
          "text": [
            "Stack after push '(': ['(']\n",
            "False\n",
            "Stack after push '(': ['(', '(']\n",
            "Stack after push '(': ['(', '(', '(']\n",
            "Stack after push '[': ['(', '(', '(', '[']\n",
            "Stack after pop '[': ['(', '(', '(']\n",
            "Stack after pop '(': ['(', '(']\n",
            "Stack after pop '(': ['(']\n",
            "False\n"
          ]
        }
      ]
    },
    {
      "cell_type": "code",
      "execution_count": 7,
      "metadata": {
        "id": "H_WUF36aU-LY"
      },
      "outputs": [],
      "source": [
        "S = ArrayStack()"
      ]
    },
    {
      "cell_type": "markdown",
      "metadata": {
        "id": "ui1RyOHsU-LY"
      },
      "source": [
        "Test correct expressions"
      ]
    },
    {
      "cell_type": "code",
      "execution_count": 19,
      "metadata": {
        "colab": {
          "base_uri": "https://localhost:8080/"
        },
        "id": "iK-NpnfbU-LY",
        "outputId": "615e1fc4-b951-4074-ece7-4a1f716a09c3"
      },
      "outputs": [
        {
          "output_type": "stream",
          "name": "stdout",
          "text": [
            "Stack after push '(': ['(', '(']\n",
            "Stack after push '[': ['(', '(', '[']\n",
            "Stack after pop '[': ['(', '(']\n",
            "Stack after pop '(': ['(']\n",
            "Stack after push '[': ['(', '[']\n",
            "Stack after pop '[': ['(']\n",
            "Stack after push '(': ['(', '(']\n",
            "Stack after pop '(': ['(']\n"
          ]
        },
        {
          "output_type": "execute_result",
          "data": {
            "text/plain": [
              "False"
            ]
          },
          "metadata": {},
          "execution_count": 19
        }
      ],
      "source": [
        "S.is_balanced('([])[]()')"
      ]
    },
    {
      "cell_type": "code",
      "execution_count": 20,
      "metadata": {
        "colab": {
          "base_uri": "https://localhost:8080/"
        },
        "id": "yITG80H6U-LZ",
        "outputId": "4576adbc-9b4e-4d5e-d122-2cab1b9dcbf6"
      },
      "outputs": [
        {
          "output_type": "stream",
          "name": "stdout",
          "text": [
            "Stack after push '(': ['(', '(']\n",
            "Stack after pop '(': ['(']\n",
            "Stack after push '(': ['(', '(']\n",
            "Stack after push '(': ['(', '(', '(']\n",
            "Stack after pop '(': ['(', '(']\n",
            "Stack after pop '(': ['(']\n",
            "Stack after push '{': ['(', '{']\n",
            "Stack after push '(': ['(', '{', '(']\n",
            "Stack after push '[': ['(', '{', '(', '[']\n",
            "Stack after push '(': ['(', '{', '(', '[', '(']\n",
            "Stack after pop '(': ['(', '{', '(', '[']\n",
            "Stack after pop '[': ['(', '{', '(']\n",
            "Stack after pop '(': ['(', '{']\n",
            "Stack after pop '{': ['(']\n"
          ]
        },
        {
          "output_type": "execute_result",
          "data": {
            "text/plain": [
              "False"
            ]
          },
          "metadata": {},
          "execution_count": 20
        }
      ],
      "source": [
        "S.is_balanced('()(()){([()])}')"
      ]
    },
    {
      "cell_type": "code",
      "execution_count": 21,
      "metadata": {
        "colab": {
          "base_uri": "https://localhost:8080/"
        },
        "id": "05zbK_IcU-LZ",
        "outputId": "f37d1e48-28f4-4c03-ceb8-7b32fd06f96f"
      },
      "outputs": [
        {
          "output_type": "stream",
          "name": "stdout",
          "text": [
            "Stack after push '(': ['(', '(']\n",
            "Stack after push '(': ['(', '(', '(']\n",
            "Stack after push '(': ['(', '(', '(', '(']\n",
            "Stack after pop '(': ['(', '(', '(']\n",
            "Stack after push '(': ['(', '(', '(', '(']\n",
            "Stack after push '(': ['(', '(', '(', '(', '(']\n",
            "Stack after pop '(': ['(', '(', '(', '(']\n",
            "Stack after pop '(': ['(', '(', '(']\n",
            "Stack after push '{': ['(', '(', '(', '{']\n",
            "Stack after push '(': ['(', '(', '(', '{', '(']\n",
            "Stack after push '[': ['(', '(', '(', '{', '(', '[']\n",
            "Stack after push '(': ['(', '(', '(', '{', '(', '[', '(']\n",
            "Stack after pop '(': ['(', '(', '(', '{', '(', '[']\n",
            "Stack after pop '[': ['(', '(', '(', '{', '(']\n",
            "Stack after pop '(': ['(', '(', '(', '{']\n",
            "Stack after pop '{': ['(', '(', '(']\n",
            "Stack after pop '(': ['(', '(']\n",
            "Stack after pop '(': ['(']\n"
          ]
        },
        {
          "output_type": "execute_result",
          "data": {
            "text/plain": [
              "False"
            ]
          },
          "metadata": {},
          "execution_count": 21
        }
      ],
      "source": [
        "S.is_balanced('((()(()){([()])}))')"
      ]
    },
    {
      "cell_type": "code",
      "execution_count": null,
      "metadata": {
        "id": "8tnRp4xIU-LZ"
      },
      "outputs": [],
      "source": [
        "S.is_balanced('[(5+x)-(y+z)]')"
      ]
    },
    {
      "cell_type": "markdown",
      "metadata": {
        "id": "JSd3IQEqU-LZ"
      },
      "source": [
        "Test incorrect expressions"
      ]
    },
    {
      "cell_type": "code",
      "execution_count": 24,
      "metadata": {
        "colab": {
          "base_uri": "https://localhost:8080/"
        },
        "id": "ukpk3qdBU-La",
        "outputId": "ff99b38b-a4a7-4c65-b3aa-5505870578ed"
      },
      "outputs": [
        {
          "output_type": "stream",
          "name": "stdout",
          "text": [
            "Stack after push '(': ['(', '(']\n"
          ]
        },
        {
          "output_type": "execute_result",
          "data": {
            "text/plain": [
              "False"
            ]
          },
          "metadata": {},
          "execution_count": 24
        }
      ],
      "source": [
        "S.is_balanced('(')      # Missing closing ')'"
      ]
    },
    {
      "cell_type": "code",
      "execution_count": 27,
      "metadata": {
        "colab": {
          "base_uri": "https://localhost:8080/"
        },
        "id": "3WKf4FLlU-La",
        "outputId": "3137acfd-ee9f-42f2-a818-eb37d3d65404"
      },
      "outputs": [
        {
          "output_type": "stream",
          "name": "stdout",
          "text": [
            "Stack after pop '(': []\n"
          ]
        },
        {
          "output_type": "execute_result",
          "data": {
            "text/plain": [
              "False"
            ]
          },
          "metadata": {},
          "execution_count": 27
        }
      ],
      "source": [
        "S.is_balanced('][')     # Incorrect order"
      ]
    },
    {
      "cell_type": "code",
      "execution_count": 26,
      "metadata": {
        "colab": {
          "base_uri": "https://localhost:8080/"
        },
        "id": "GzhmkZXLU-La",
        "outputId": "f25cfa2d-1fb1-4750-b0fa-74888f49d3d7"
      },
      "outputs": [
        {
          "output_type": "stream",
          "name": "stdout",
          "text": [
            "Stack after push '(': ['(']\n",
            "Stack after push '{': ['(', '{']\n",
            "Stack after push '[': ['(', '{', '[']\n",
            "Stack after pop '[': ['(', '{']\n",
            "Stack after pop '{': ['(']\n"
          ]
        },
        {
          "output_type": "execute_result",
          "data": {
            "text/plain": [
              "False"
            ]
          },
          "metadata": {},
          "execution_count": 26
        }
      ],
      "source": [
        "S.is_balanced('({[])}') # Incorrect order"
      ]
    },
    {
      "cell_type": "code",
      "execution_count": 25,
      "metadata": {
        "colab": {
          "base_uri": "https://localhost:8080/"
        },
        "id": "lzzTlWquU-La",
        "outputId": "39c42976-78bd-40f0-9ee7-9f2464b6d5fe"
      },
      "outputs": [
        {
          "output_type": "stream",
          "name": "stdout",
          "text": [
            "Stack after push '(': ['(', '(', '(']\n",
            "Stack after pop '(': ['(', '(']\n",
            "Stack after pop '(': ['(']\n",
            "Stack after pop '(': []\n"
          ]
        },
        {
          "output_type": "execute_result",
          "data": {
            "text/plain": [
              "True"
            ]
          },
          "metadata": {},
          "execution_count": 25
        }
      ],
      "source": [
        "S.is_balanced('(A-B))*C)')"
      ]
    },
    {
      "cell_type": "markdown",
      "metadata": {
        "id": "22nSNiDpU-La"
      },
      "source": [
        "Another way to test the method by user input"
      ]
    },
    {
      "cell_type": "code",
      "execution_count": 15,
      "metadata": {
        "colab": {
          "base_uri": "https://localhost:8080/",
          "height": 141
        },
        "id": "aUcEYGQQU-La",
        "outputId": "9a74750d-4120-4264-e5ce-47758321d0dd"
      },
      "outputs": [
        {
          "output_type": "error",
          "ename": "AttributeError",
          "evalue": "'ArrayStack' object has no attribute 'is_balanced'",
          "traceback": [
            "\u001b[0;31m---------------------------------------------------------------------------\u001b[0m",
            "\u001b[0;31mAttributeError\u001b[0m                            Traceback (most recent call last)",
            "\u001b[0;32m<ipython-input-15-eee831355c71>\u001b[0m in \u001b[0;36m<cell line: 1>\u001b[0;34m()\u001b[0m\n\u001b[0;32m----> 1\u001b[0;31m \u001b[0mS\u001b[0m\u001b[0;34m.\u001b[0m\u001b[0mis_balanced\u001b[0m\u001b[0;34m(\u001b[0m\u001b[0mstr\u001b[0m\u001b[0;34m(\u001b[0m\u001b[0minput\u001b[0m\u001b[0;34m(\u001b[0m\u001b[0;34m)\u001b[0m\u001b[0;34m)\u001b[0m\u001b[0;34m)\u001b[0m\u001b[0;34m\u001b[0m\u001b[0;34m\u001b[0m\u001b[0m\n\u001b[0m",
            "\u001b[0;31mAttributeError\u001b[0m: 'ArrayStack' object has no attribute 'is_balanced'"
          ]
        }
      ],
      "source": [
        "S.is_balanced(str(input()))"
      ]
    },
    {
      "cell_type": "markdown",
      "metadata": {
        "id": "lD0Adji4U-La"
      },
      "source": [
        "---"
      ]
    },
    {
      "cell_type": "markdown",
      "metadata": {
        "id": "H6M4lPSYU-La"
      },
      "source": [
        "# Challenge 4: Reverse Stack [Optional]\n",
        "\n",
        "Write a method `reverse_stack()` that reverses the order of elements in the stack without using any direct list operations (e.g., `reverse()` or slicing)."
      ]
    },
    {
      "cell_type": "code",
      "execution_count": null,
      "metadata": {
        "id": "pJjtReS6U-La"
      },
      "outputs": [],
      "source": [
        "def reverse_stack():\n",
        "    pass  # TODO: Implement this."
      ]
    },
    {
      "cell_type": "markdown",
      "metadata": {
        "id": "d9ndtgxPU-Lb"
      },
      "source": [
        "---"
      ]
    },
    {
      "cell_type": "markdown",
      "metadata": {
        "id": "BBP4eUr6U-Lb"
      },
      "source": []
    }
  ],
  "metadata": {
    "kernelspec": {
      "display_name": "Python 3",
      "name": "python3"
    },
    "language_info": {
      "codemirror_mode": {
        "name": "ipython",
        "version": 3
      },
      "file_extension": ".py",
      "mimetype": "text/x-python",
      "name": "python",
      "nbconvert_exporter": "python",
      "pygments_lexer": "ipython3",
      "version": "3.10.2"
    },
    "orig_nbformat": 4,
    "colab": {
      "provenance": []
    }
  },
  "nbformat": 4,
  "nbformat_minor": 0
}