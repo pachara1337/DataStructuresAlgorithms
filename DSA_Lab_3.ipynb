{
  "cells": [
    {
      "cell_type": "markdown",
      "source": [
        "# Lab 3: OOP Revision and Arrays"
      ],
      "metadata": {
        "id": "c0wjI87ZaG4r"
      }
    },
    {
      "cell_type": "markdown",
      "source": [
        "Lecturer: <code>Sirasit Lochanachit</code>\n",
        "\n",
        "Course:\n",
        "\n",
        "<code>01526102 Data Sturctures and Algorithms [SIIE]\\\n",
        "    06036120 Data Structures and Algorithms Principles [BIT]\n",
        "</code>\n",
        "\n",
        "Term: <code>01/2024</code>\n",
        "\n",
        "---"
      ],
      "metadata": {
        "id": "T9XQ87WvaNWW"
      }
    },
    {
      "cell_type": "markdown",
      "source": [
        "# Required Libraries"
      ],
      "metadata": {
        "id": "yyk1qw1ZaTSm"
      }
    },
    {
      "cell_type": "code",
      "source": [
        "import numpy as np\n",
        "import timeit\n",
        "import matplotlib.pyplot as plt"
      ],
      "outputs": [],
      "execution_count": 1,
      "metadata": {
        "id": "-Wtbh5U6Z4Sb"
      }
    },
    {
      "cell_type": "markdown",
      "source": [
        "---"
      ],
      "metadata": {
        "id": "UFTA0x5qeYwc"
      }
    },
    {
      "cell_type": "markdown",
      "source": [
        "# Basic OOP"
      ],
      "metadata": {
        "id": "XeoWM2HyaYUr"
      }
    },
    {
      "cell_type": "markdown",
      "source": [
        "## Define a Class\n",
        "\n"
      ],
      "metadata": {
        "id": "ZcMivTkLap1U"
      }
    },
    {
      "cell_type": "code",
      "source": [
        "class Foo:\n",
        "  pass"
      ],
      "outputs": [],
      "execution_count": 2,
      "metadata": {
        "id": "kY7RT83QaWre"
      }
    },
    {
      "cell_type": "code",
      "source": [
        "type(Foo)"
      ],
      "outputs": [
        {
          "output_type": "execute_result",
          "execution_count": 4,
          "data": {
            "text/plain": "type"
          },
          "metadata": {}
        }
      ],
      "execution_count": 3,
      "metadata": {
        "id": "ryXE3ksWaXkp",
        "colab": {
          "base_uri": "https://localhost:8080/"
        },
        "outputId": "aa6b2697-8a9e-436b-9402-072a7c0faa59"
      }
    },
    {
      "cell_type": "code",
      "source": [
        "type(1)"
      ],
      "outputs": [
        {
          "output_type": "execute_result",
          "execution_count": 5,
          "data": {
            "text/plain": "int"
          },
          "metadata": {}
        }
      ],
      "execution_count": 4,
      "metadata": {
        "id": "yr71NaDraySt",
        "colab": {
          "base_uri": "https://localhost:8080/"
        },
        "outputId": "91ff97de-f353-4860-91fa-f38bb48f20df"
      }
    },
    {
      "cell_type": "code",
      "source": [
        "type(Foo())"
      ],
      "outputs": [
        {
          "output_type": "execute_result",
          "execution_count": 6,
          "data": {
            "text/plain": "__main__.Foo"
          },
          "metadata": {}
        }
      ],
      "execution_count": 5,
      "metadata": {
        "id": "Fgb5M2QYay7o",
        "colab": {
          "base_uri": "https://localhost:8080/"
        },
        "outputId": "49a24073-61d0-4728-9673-b86e30bb3e9d"
      }
    },
    {
      "cell_type": "code",
      "source": [
        "__name__ # name of the current \"module\" (for this notebook)"
      ],
      "outputs": [
        {
          "output_type": "execute_result",
          "execution_count": 7,
          "data": {
            "text/plain": "'__main__'"
          },
          "metadata": {}
        }
      ],
      "execution_count": 6,
      "metadata": {
        "id": "cN1EhAy1a062",
        "colab": {
          "base_uri": "https://localhost:8080/",
          "height": 34
        },
        "outputId": "aef28c09-d256-46e8-c9d4-f3b4535024b7"
      }
    },
    {
      "cell_type": "markdown",
      "source": [
        "Can you find Foo() in this global variables and symbols list of the current module/program?"
      ],
      "metadata": {
        "id": "KBbbRBSYa5Qb"
      }
    },
    {
      "cell_type": "code",
      "source": [
        "globals().keys() # symbol table of the current module"
      ],
      "outputs": [
        {
          "output_type": "execute_result",
          "execution_count": 8,
          "data": {
            "text/plain": "dict_keys(['__name__', '__builtin__', '__builtins__', '_ih', '_oh', '_dh', 'In', 'Out', 'get_ipython', 'exit', 'quit', 'open', '_', '__', '___', '_i', '_ii', '_iii', '_i1', 'json', '_i2', 'np', 'timeit', 'plt', '_i3', 'Foo', '_i4', '_4', '_i5', '_5', '_i6', '_6', '_i7', '_7', '_i8'])"
          },
          "metadata": {}
        }
      ],
      "execution_count": 7,
      "metadata": {
        "id": "zjj7U3IMa1hh",
        "colab": {
          "base_uri": "https://localhost:8080/"
        },
        "outputId": "e72e3295-3c65-40a6-cd00-9489e8909b26"
      }
    },
    {
      "cell_type": "code",
      "source": [
        "Foo()"
      ],
      "outputs": [
        {
          "output_type": "execute_result",
          "execution_count": 9,
          "data": {
            "text/plain": "<__main__.Foo at 0x324fd98>"
          },
          "metadata": {}
        }
      ],
      "execution_count": 8,
      "metadata": {
        "id": "H08GRj9nbNKq",
        "colab": {
          "base_uri": "https://localhost:8080/"
        },
        "outputId": "f0a22f71-ebe5-4996-a0ad-c6c0a52430f3"
      }
    },
    {
      "cell_type": "markdown",
      "source": [
        "## Create an Instance of a class"
      ],
      "metadata": {
        "id": "odRr32dDa3YA"
      }
    },
    {
      "cell_type": "code",
      "source": [
        "f = Foo()"
      ],
      "outputs": [],
      "execution_count": 9,
      "metadata": {
        "id": "aVJcswwibPfV"
      }
    },
    {
      "cell_type": "code",
      "source": [
        "f.x = 100\n",
        "f.y = 50\n",
        "f.x + f.y"
      ],
      "outputs": [
        {
          "output_type": "execute_result",
          "execution_count": 11,
          "data": {
            "text/plain": "150"
          },
          "metadata": {}
        }
      ],
      "execution_count": 10,
      "metadata": {
        "id": "fHQGcmqGbP_L",
        "colab": {
          "base_uri": "https://localhost:8080/"
        },
        "outputId": "620e8ff0-83ef-4aca-afa9-93d1f8c88203"
      }
    },
    {
      "cell_type": "code",
      "source": [
        "g = Foo()"
      ],
      "outputs": [],
      "execution_count": 11,
      "metadata": {
        "id": "x0KEQ-iqbRuw"
      }
    },
    {
      "cell_type": "code",
      "source": [
        "g.x"
      ],
      "outputs": [
        {
          "output_type": "error",
          "ename": "<class 'AttributeError'>",
          "evalue": "'Foo' object has no attribute 'x'",
          "traceback": [
            "\u001b[0;31m---------------------------------------------------------------------------\u001b[0m",
            "\u001b[0;31mAttributeError\u001b[0m                            Traceback (most recent call last)",
            "Cell \u001b[0;32mIn[13], line 1\u001b[0m\n\u001b[0;32m----> 1\u001b[0m \u001b[43mg\u001b[49m\u001b[38;5;241;43m.\u001b[39;49m\u001b[43mx\u001b[49m\n",
            "\u001b[0;31mAttributeError\u001b[0m: 'Foo' object has no attribute 'x'"
          ]
        }
      ],
      "execution_count": 12,
      "metadata": {
        "id": "zFrsD7vIbSSl",
        "colab": {
          "base_uri": "https://localhost:8080/",
          "height": 141
        },
        "outputId": "ab7f747f-ee15-4055-e634-997e0affca0a"
      }
    },
    {
      "cell_type": "markdown",
      "source": [
        "We defined `x` & `y` variables for `f` instance only"
      ],
      "metadata": {
        "id": "rxVGJReTbUL_"
      }
    },
    {
      "cell_type": "markdown",
      "source": [
        "## Instance namespace"
      ],
      "metadata": {
        "id": "UOfYT7iqbkmp"
      }
    },
    {
      "cell_type": "markdown",
      "source": [
        "Attributes/Data that are shared by all instances of a class"
      ],
      "metadata": {
        "id": "FnpPPGPqblpH"
      }
    },
    {
      "cell_type": "code",
      "source": [
        "class Foo:\n",
        "  bar = 100"
      ],
      "outputs": [],
      "execution_count": null,
      "metadata": {
        "id": "vf_j4VOSbaRn"
      }
    },
    {
      "cell_type": "code",
      "source": [
        "Foo.bar"
      ],
      "outputs": [],
      "execution_count": null,
      "metadata": {
        "id": "tcrsNjOubnEl"
      }
    },
    {
      "cell_type": "code",
      "source": [
        "f = Foo()\n",
        "f.bar"
      ],
      "outputs": [],
      "execution_count": null,
      "metadata": {
        "id": "ei8Qu5Z9bn9m"
      }
    },
    {
      "cell_type": "code",
      "source": [
        "Foo.bar = 50\n",
        "f.bar"
      ],
      "outputs": [],
      "execution_count": null,
      "metadata": {
        "id": "9NvR-xj2bpf1"
      }
    },
    {
      "cell_type": "code",
      "source": [
        "g = Foo()\n",
        "g.bar"
      ],
      "outputs": [],
      "execution_count": null,
      "metadata": {
        "id": "tpfU4mvAbqCb"
      }
    },
    {
      "cell_type": "markdown",
      "source": [
        "Currently,\n",
        "\n",
        "Foo.bar = 50\n",
        "\n",
        "f.bar = 50\n",
        "\n",
        "g.bar = 50"
      ],
      "metadata": {
        "id": "PNaZO2-nbq5E"
      }
    },
    {
      "cell_type": "code",
      "source": [
        "f.bar = 20\n",
        "g.bar = 30"
      ],
      "outputs": [],
      "execution_count": null,
      "metadata": {
        "id": "UgCYdbOmbrsT"
      }
    },
    {
      "cell_type": "code",
      "source": [
        "f.bar, g.bar, Foo.bar"
      ],
      "outputs": [],
      "execution_count": null,
      "metadata": {
        "id": "9vm7lBOubu1l"
      }
    },
    {
      "cell_type": "markdown",
      "source": [
        "## Class Namespace"
      ],
      "metadata": {
        "id": "Wkah2fx1bvsd"
      }
    },
    {
      "cell_type": "markdown",
      "source": [
        "Method that are shared by all instances of a class"
      ],
      "metadata": {
        "id": "iFR9_3K8bwrA"
      }
    },
    {
      "cell_type": "code",
      "source": [
        "class Foo:\n",
        "    def bar():\n",
        "        print('Bar called')"
      ],
      "outputs": [],
      "execution_count": null,
      "metadata": {
        "id": "TC0EsoChbxNz"
      }
    },
    {
      "cell_type": "code",
      "source": [
        "type(Foo.bar)"
      ],
      "outputs": [],
      "execution_count": null,
      "metadata": {
        "id": "CM9Dl0CTbxxF"
      }
    },
    {
      "cell_type": "code",
      "source": [
        "f = Foo()"
      ],
      "outputs": [],
      "execution_count": null,
      "metadata": {
        "id": "oXTiu70ZbyOx"
      }
    },
    {
      "cell_type": "code",
      "source": [
        "type(f.bar)"
      ],
      "outputs": [],
      "execution_count": null,
      "metadata": {
        "id": "04QOkfQTbyyt"
      }
    },
    {
      "cell_type": "code",
      "source": [
        "Foo.bar()"
      ],
      "outputs": [],
      "execution_count": null,
      "metadata": {
        "id": "eHj46eWmbzgk"
      }
    },
    {
      "cell_type": "markdown",
      "source": [
        "A method expect at least 1 argument"
      ],
      "metadata": {
        "id": "YCQm_uSeb9BX"
      }
    },
    {
      "cell_type": "code",
      "source": [
        "f.bar()"
      ],
      "outputs": [],
      "execution_count": null,
      "metadata": {
        "id": "draYjuhlb0UL"
      }
    },
    {
      "cell_type": "code",
      "source": [
        "class Foo:\n",
        "    def bar(x):\n",
        "        print('Bar called with', x)"
      ],
      "outputs": [],
      "execution_count": null,
      "metadata": {
        "id": "jvQoXPohb4EQ"
      }
    },
    {
      "cell_type": "code",
      "source": [
        "Foo.bar()"
      ],
      "outputs": [],
      "execution_count": null,
      "metadata": {
        "id": "0HR-6yDWb4p2"
      }
    },
    {
      "cell_type": "code",
      "source": [
        "f = Foo()\n",
        "f.bar()"
      ],
      "outputs": [],
      "execution_count": null,
      "metadata": {
        "id": "ngeI7wAdb5bm"
      }
    },
    {
      "cell_type": "markdown",
      "source": [
        "When a method is called, a special parameter (`self`) identify the particular instance upon which a member is invoked."
      ],
      "metadata": {
        "id": "L6QaIvumcqNj"
      }
    },
    {
      "cell_type": "code",
      "source": [
        "class Foo:\n",
        "    def bar(self):\n",
        "        self.x = 'Some value'"
      ],
      "outputs": [],
      "execution_count": null,
      "metadata": {
        "id": "EUliI-Ogb6MK"
      }
    },
    {
      "cell_type": "markdown",
      "source": [
        "## Abstract Base Class"
      ],
      "metadata": {
        "id": "A9-nJHXMctAe"
      }
    },
    {
      "cell_type": "code",
      "source": [
        "class Shape:\n",
        "    def __init__(self, name):\n",
        "        self.name = name\n",
        "\n",
        "    def __repr__(self):\n",
        "        return self.name\n",
        "\n",
        "    def __str__(self):\n",
        "        return self.name.upper() #uppercase\n",
        "\n",
        "    def area(self):\n",
        "        raise NotImplementedError()"
      ],
      "outputs": [],
      "execution_count": null,
      "metadata": {
        "id": "TTkOFQpzctUv"
      }
    },
    {
      "cell_type": "markdown",
      "source": [
        "Create an instance of the Shape class by calling `__init__` method that serves as the **constructor** of the class\n",
        "\n",
        "`__init__` method establish the state of a newly created shape object with instance variables (in this case, `name` variable)\n",
        "\n"
      ],
      "metadata": {
        "id": "EwTe0Z4cc0wH"
      }
    },
    {
      "cell_type": "code",
      "source": [
        "s = Shape('circle')"
      ],
      "outputs": [],
      "execution_count": null,
      "metadata": {
        "id": "1soDmCAqcvRX"
      }
    },
    {
      "cell_type": "code",
      "source": [
        "s"
      ],
      "outputs": [],
      "execution_count": null,
      "metadata": {
        "id": "BLzRQZp6cv65"
      }
    },
    {
      "cell_type": "code",
      "source": [
        "s.name"
      ],
      "outputs": [],
      "execution_count": null,
      "metadata": {
        "id": "u0ai-SkrcwtU"
      }
    },
    {
      "cell_type": "code",
      "source": [
        "str(s)"
      ],
      "outputs": [],
      "execution_count": null,
      "metadata": {
        "id": "XAz-LgrAdS-t"
      }
    },
    {
      "cell_type": "code",
      "source": [
        "s.area()"
      ],
      "outputs": [],
      "execution_count": null,
      "metadata": {
        "id": "xXdxcEZXdTnr"
      }
    },
    {
      "cell_type": "markdown",
      "source": [
        "## Inheritance"
      ],
      "metadata": {
        "id": "On6ECoVsdUpg"
      }
    },
    {
      "cell_type": "code",
      "source": [
        "class Circle(Shape):\n",
        "    def __init__(self, radius):\n",
        "        super().__init__('circle')\n",
        "        self.radius = radius\n",
        "\n",
        "    def area(self):\n",
        "        return 3.14 * self.radius ** 2"
      ],
      "outputs": [],
      "execution_count": null,
      "metadata": {
        "id": "ccGR1c4NdVRr"
      }
    },
    {
      "cell_type": "code",
      "source": [
        "c = Circle(5.0)\n",
        "c"
      ],
      "outputs": [],
      "execution_count": null,
      "metadata": {
        "id": "HV0IVbRXdV-9"
      }
    },
    {
      "cell_type": "code",
      "source": [
        "c.name"
      ],
      "outputs": [],
      "execution_count": null,
      "metadata": {
        "id": "WzI9yBcGdWqx"
      }
    },
    {
      "cell_type": "code",
      "source": [
        "c.area()"
      ],
      "outputs": [],
      "execution_count": null,
      "metadata": {
        "id": "XuKEuJT6dXET"
      }
    },
    {
      "cell_type": "markdown",
      "source": [
        "---"
      ],
      "metadata": {
        "id": "HTzOVdoyeYwk"
      }
    },
    {
      "cell_type": "markdown",
      "source": [
        "# Lab 3-1 Inserting at Different Positions of a List\n",
        "\n",
        "## 1.1 Problem Description"
      ],
      "metadata": {
        "id": "RxW77__OdZny"
      }
    },
    {
      "cell_type": "markdown",
      "source": [
        "Given an empty list `data = []`, record the **average** running time of insert(k, 20) in seconds with three different inserting patterns for each of the `N` calls:\n",
        "\n",
        "*   Repeatedly insert at the beginning of a list\n",
        "*   Repeatedly insert near the middle of a list\n",
        "*   Repeatedly insert at the end of the list\n",
        "\n",
        "**This could run very long, so brace yourself** and make sure to limit `number` argument in `timeit()` to 200,000 times (default is 1,000,000 times)\n",
        "\n",
        "### Note ###\n",
        "<code> timeit.Timer.timeit(number=1000000): </code>\n",
        "\n",
        "Time number executions of the main statement. This executes the setup statement once, and then returns **the time it takes to execute the main statement a number of times**, measured in seconds as a float.\n",
        "\n",
        "Please note that the default value of <code>number</code> argument is 1 million times throught the loop."
      ],
      "metadata": {
        "id": "ADFbjDmqkUjv"
      }
    },
    {
      "cell_type": "code",
      "source": [
        "ns = [10,20,50,100,200,1000]"
      ],
      "outputs": [],
      "execution_count": 2,
      "metadata": {
        "id": "RSU9eVqZeYwl"
      }
    },
    {
      "cell_type": "code",
      "source": [
        "# Beginning of a list\n",
        "data = []\n",
        "[timeit.timeit(f'''for _ in range ({n}):\n",
        "                      data.insert(0,20)''',setup=f'data=[]',globals=globals(),number=1000) for n in ns]"
      ],
      "outputs": [],
      "execution_count": null,
      "metadata": {
        "id": "zyVwnqDlda0f"
      }
    },
    {
      "cell_type": "code",
      "source": [
        "# Middle of a list\n",
        "data = []\n",
        "[timeit.timeit(f'''for _ in range ({n}):\n",
        "                      data.insert(len(data)//2,20)''',setup=f'data=[]',globals=globals(),number=1000) for n in ns]"
      ],
      "outputs": [],
      "execution_count": null,
      "metadata": {
        "id": "n0NULyZrsUOI"
      }
    },
    {
      "cell_type": "code",
      "source": [
        "# End of the list\n",
        "data = []\n",
        "[timeit.timeit(f'''for _ in range ({n}):\n",
        "                      data.insert(len(data),20)''',setup=f'data=[]',globals=globals(),number=1000) for n in ns]"
      ],
      "outputs": [],
      "execution_count": null,
      "metadata": {
        "id": "uCWS31QSsYU-"
      }
    },
    {
      "cell_type": "markdown",
      "source": [
        "### Edit table and fill your answer here\n",
        "\n",
        "| Patterns / N    | 10 | 20 | 50 | 100 | 200 | 1000 |\n",
        "| ----------- | ----------- | ----------- | ----------- | ----------- | ----------- | ----------- |\n",
        "|  Beginning of a list    |   0.0267   | 0.095|0.594| 2.334| 11.393 |339.504|\n",
        "| Middle of a list  |   0.0182     |  0.054|0.294 | 1.195| 5.002 | 150.976 |\n",
        "| End of a list | 0.0028 |  0.0047|0.0130 | 0.0275| 0.05602 | 0.2648 |"
      ],
      "metadata": {
        "id": "c9DKpsQokwhL"
      }
    },
    {
      "cell_type": "markdown",
      "source": [
        "### 1.2 What do you learn from this result? Discuss amongst your friends and write an answer below."
      ],
      "metadata": {
        "id": "7NIjb0RfyUCR"
      }
    },
    {
      "cell_type": "markdown",
      "source": [
        "###Beginning\n",
        "\n",
        "\n",
        "*   Inserting at the beginning of the list is the slowest because every insertion shifts all existing elements one position to the right.\n",
        "*  As N increases, the time grows rapidly due to this shifting process, making this an O(N) operation.\n",
        "\n",
        "\n",
        "###Mid\n",
        "\n",
        "\n",
        "*   Inserting in the middle also involves shifting half of the list elements on average\n",
        "*   The operation becomes slower as the list size increases, following an O(N) complexity, but it’s typically faster than inserting at the beginning unless the list is very small.\n",
        "\n",
        "\n",
        "###End\n",
        "\n",
        "\n",
        "*   Inserting at the end is the fastest because it doesn’t require shifting any elements.\n",
        "*   This is an O(1) operation, meaning the time taken stays almost constant regardless of the list size.\n",
        "\n",
        "\n",
        "\n"
      ],
      "metadata": {
        "id": "5gIrDSQNylp_"
      }
    },
    {
      "cell_type": "markdown",
      "source": [
        "---"
      ],
      "metadata": {
        "id": "yXqQqFtheYwl"
      }
    },
    {
      "cell_type": "markdown",
      "source": [
        "# Lab 3-2 Append in a Dynamic Array"
      ],
      "metadata": {
        "id": "KG-6bwnxdbU3"
      }
    },
    {
      "cell_type": "markdown",
      "source": [
        "## 2.1 Problem Description\n",
        "\n",
        "Given an incomplete implementation of a Dynamic Array using NumPy library\n",
        "\n",
        "This array will have a fixed initial size of 1, but as elements are added to the list it may become necessary to create a new, larger backing array and copy our elements over. Each time we create a new backing array, we will **double** the capacity of the original."
      ],
      "metadata": {
        "id": "NmULfZR-doS7"
      }
    },
    {
      "cell_type": "markdown",
      "source": [
        "Your task is to implement the `append()` method\n",
        "* It should check first whether the current array is full of elements\n",
        "  * If yes, then create a new array with a double capacity\n",
        "    * Use np.empty(x, dtpe=object) to create a new array where x is equals to length of an array\n",
        "    * Copy elements from old array to new array\n",
        "    * Reassign `self.data` to a new array\n",
        "  * Append the value\n",
        "  * Increase the size counter by 1"
      ],
      "metadata": {
        "id": "R2hlmmoWeC3y"
      }
    },
    {
      "cell_type": "code",
      "source": [
        "import numpy as np\n",
        "\n",
        "class ArrayList:\n",
        "    def __init__(self):\n",
        "        self.data = np.empty(1, dtype=object)\n",
        "        self.size = 0\n",
        "\n",
        "\n",
        "    def append(self, value):\n",
        "        ##################\n",
        "        if self.size == len(self.data):\n",
        "            new_data = np.empty(len(self.data) * 2, dtype=object)\n",
        "            for i in range(self.size):\n",
        "                new_data[i] = self.data[i]\n",
        "            self.data = new_data\n",
        "\n",
        "        self.data[self.size] = value\n",
        "        self.size += 1\n",
        "\n",
        "\n",
        "\n",
        "\n",
        "    def __getitem__(self, idx):\n",
        "        \"\"\"Implements `x = self[idx]`\"\"\"\n",
        "        assert isinstance(idx, int), 'Index must be an integer'\n",
        "        if idx < 0:\n",
        "            idx += self.size\n",
        "        if idx < 0 or idx >= self.size:\n",
        "            raise IndexError('list index out of range')\n",
        "        return self.data[idx]\n",
        "\n",
        "\n",
        "    def __setitem__(self, idx, value):\n",
        "        \"\"\"Implements `self[idx] = x`\"\"\"\n",
        "        assert isinstance(idx, int), 'Index must be an integer'\n",
        "        if idx < 0:\n",
        "            idx += self.size\n",
        "        if idx < 0 or idx >= self.size:\n",
        "            raise IndexError('list index out of range')\n",
        "        self.data[idx] = value\n",
        "\n",
        "\n",
        "    def __delitem__(self, idx):\n",
        "        \"\"\"Implements `del self[idx]`\"\"\"\n",
        "        assert isinstance(idx, int), 'Index must be an integer'\n",
        "        if idx < 0:\n",
        "            idx += self.size\n",
        "        if idx < 0 or idx >= self.size:\n",
        "            raise IndexError('list index out of range')\n",
        "        for i in range(idx, self.size-1):\n",
        "            self.data[i] = self.data[i+1]\n",
        "        self.size -= 1\n",
        "\n",
        "\n",
        "    def __len__(self):\n",
        "        \"\"\"Implements `len(self)`\"\"\"\n",
        "        return self.size\n",
        "\n",
        "\n",
        "    def __repr__(self):\n",
        "        \"\"\"Supports inspection\"\"\"\n",
        "        return '[' + ','.join(repr(self.data[i]) for i in range(self.size)) + ']'"
      ],
      "outputs": [],
      "execution_count": 17,
      "metadata": {
        "id": "W_HBjT3LdcDf"
      }
    },
    {
      "cell_type": "markdown",
      "source": [
        "### 2.2 Test your code by executing the following commands:"
      ],
      "metadata": {
        "id": "N0Hq_VVB18aW"
      }
    },
    {
      "cell_type": "code",
      "source": [
        "l1 = ArrayList()\n",
        "for x in range(10):\n",
        "    l1.append(x)\n",
        "    print(l1.data)\n"
      ],
      "outputs": [
        {
          "output_type": "stream",
          "name": "stdout",
          "text": "[0]\n[0 1]\n[0 1 2 None]\n[0 1 2 3]\n[0 1 2 3 4 None None None]\n[0 1 2 3 4 5 None None]\n[0 1 2 3 4 5 6 None]\n[0 1 2 3 4 5 6 7]\n[0 1 2 3 4 5 6 7 8 None None None None None None None]\n[0 1 2 3 4 5 6 7 8 9 None None None None None None]\n"
        }
      ],
      "execution_count": 18,
      "metadata": {
        "id": "eMfi_DCf2AzH"
      }
    },
    {
      "cell_type": "markdown",
      "source": [
        "---"
      ],
      "metadata": {
        "id": "E1URHf7leYwm"
      }
    },
    {
      "cell_type": "markdown",
      "source": [
        "# Lab 3-3 Amortized Time on Enlarging Dynamic Array Size"
      ],
      "metadata": {
        "id": "IS3q1ia6dcfX"
      }
    },
    {
      "cell_type": "markdown",
      "source": [
        "## 3.1 Problem Description\n",
        "\n",
        "Your task is to update the append() method so that it can allocate memory by either a double or fixed size."
      ],
      "metadata": {
        "id": "YzXT0f0Q5H4x"
      }
    },
    {
      "cell_type": "markdown",
      "source": [
        "Re-write append() method so that it accepts one more argument `doubling` which can only accept True or False\n",
        "\n",
        "If `doubling` is True, incrase an array size by double\n",
        "\n",
        "If `doubling` is False, increse an array size by 1000\n"
      ],
      "metadata": {
        "id": "8IN5HHUJoLdq"
      }
    },
    {
      "cell_type": "code",
      "source": [
        "import numpy as np\n",
        "\n",
        "class ArrayList:\n",
        "    def __init__(self):\n",
        "        self.data = np.empty(1, dtype=object)\n",
        "        self.size = 0\n",
        "\n",
        "\n",
        "    def append(self, value, doubling=True):\n",
        "        if self.size==len(self.data):\n",
        "          if doubling==True:\n",
        "            new_array=np.empty(self.size*2,dtype=object)\n",
        "          else:\n",
        "            new_array=np.empty(self.size+1000,dtype=object)\n",
        "\n",
        "          for i in range(self.size):\n",
        "            new_array[i]=self.data[i]\n",
        "          self.data=new_array\n",
        "        self.data[self.size]=value\n",
        "        self.size+=1\n",
        "\n",
        "    def __getitem__(self, idx):\n",
        "        \"\"\"Implements `x = self[idx]`\"\"\"\n",
        "        assert isinstance(idx, int), 'Index must be an integer'\n",
        "        if idx < 0:\n",
        "            idx += self.size\n",
        "        if idx < 0 or idx >= self.size:\n",
        "            raise IndexError('list index out of range')\n",
        "        return self.data[idx]\n",
        "\n",
        "\n",
        "    def __setitem__(self, idx, value):\n",
        "        \"\"\"Implements `self[idx] = x`\"\"\"\n",
        "        assert isinstance(idx, int), 'Index must be an integer'\n",
        "        if idx < 0:\n",
        "            idx += self.size\n",
        "        if idx < 0 or idx >= self.size:\n",
        "            raise IndexError('list index out of range')\n",
        "        self.data[idx] = value\n",
        "\n",
        "\n",
        "    def __delitem__(self, idx):\n",
        "        \"\"\"Implements `del self[idx]`\"\"\"\n",
        "        assert isinstance(idx, int), 'Index must be an integer'\n",
        "        if idx < 0:\n",
        "            idx += self.size\n",
        "        if idx < 0 or idx >= self.size:\n",
        "            raise IndexError('list index out of range')\n",
        "        for i in range(idx, self.size-1):\n",
        "            self.data[i] = self.data[i+1]\n",
        "        self.size -= 1\n",
        "\n",
        "\n",
        "    def __len__(self):\n",
        "        \"\"\"Implements `len(self)`\"\"\"\n",
        "        return self.size\n",
        "\n",
        "\n",
        "    def __repr__(self):\n",
        "        \"\"\"Supports inspection\"\"\"\n",
        "        return '[' + ','.join(repr(self.data[i]) for i in range(self.size)) + ']'"
      ],
      "outputs": [],
      "execution_count": 20,
      "metadata": {
        "id": "ByWU_awuddhn"
      }
    },
    {
      "cell_type": "markdown",
      "source": [
        "Test your code by executing the following commands:"
      ],
      "metadata": {
        "id": "OJsEigC92INn"
      }
    },
    {
      "cell_type": "code",
      "source": [
        "l1 = ArrayList()\n",
        "for x in range(10):\n",
        "    l1.append(x, doubling=True)\n",
        "    print(l1.data)"
      ],
      "outputs": [
        {
          "output_type": "stream",
          "name": "stdout",
          "text": "[0]\n[0 1]\n[0 1 2 None]\n[0 1 2 3]\n[0 1 2 3 4 None None None]\n[0 1 2 3 4 5 None None]\n[0 1 2 3 4 5 6 None]\n[0 1 2 3 4 5 6 7]\n[0 1 2 3 4 5 6 7 8 None None None None None None None]\n[0 1 2 3 4 5 6 7 8 9 None None None None None None]\n"
        }
      ],
      "execution_count": 21,
      "metadata": {
        "id": "fZGs8VK72F6a"
      }
    },
    {
      "cell_type": "code",
      "source": [
        "l2 = ArrayList()\n",
        "for x in range(10):\n",
        "    l2.append(x, doubling=False)\n",
        "    print(l2.data)"
      ],
      "outputs": [
        {
          "output_type": "stream",
          "name": "stdout",
          "text": "[0]\n[0 1 None ... None None None]\n[0 1 2 ... None None None]\n[0 1 2 ... None None None]\n[0 1 2 ... None None None]\n[0 1 2 ... None None None]\n[0 1 2 ... None None None]\n[0 1 2 ... None None None]\n[0 1 2 ... None None None]\n[0 1 2 ... None None None]\n"
        }
      ],
      "execution_count": 22,
      "metadata": {
        "id": "asSOygSv2Sg2"
      }
    },
    {
      "cell_type": "markdown",
      "source": [
        "## 3.2 Comparing Runtime"
      ],
      "metadata": {
        "id": "GvoxQcTD5JwO"
      }
    },
    {
      "cell_type": "markdown",
      "source": [
        "Given input size (n) that grows from 10 to 10,000"
      ],
      "metadata": {
        "id": "OrmorNClpqPA"
      }
    },
    {
      "cell_type": "code",
      "source": [
        "ns = np.linspace(10, 10000, 50, dtype=int)"
      ],
      "outputs": [],
      "execution_count": 23,
      "metadata": {
        "id": "Vk_8IvJUp1sm"
      }
    },
    {
      "cell_type": "markdown",
      "source": [
        "### 3.2.1 What is the runtime behaviour of append method with a double capacity when an array is full? Plot the graph to answer this.\n",
        "* Each test of `n` should execute `10` rounds\n",
        "* Uses methods from ArrayList class only"
      ],
      "metadata": {
        "id": "1wf7mLRxotFu"
      }
    },
    {
      "cell_type": "code",
      "source": [
        "ts1 = [timeit.timeit(f'''for x in range({n}):\n",
        "                            l1.append(x,doubling=True)''',setup=f'l1=ArrayList()',globals=globals(),number=10)\n",
        "      for n in ns]"
      ],
      "outputs": [],
      "execution_count": 24,
      "metadata": {
        "id": "Klci_GNtqO0g"
      }
    },
    {
      "cell_type": "markdown",
      "source": [
        "### 3.2.2 What is the runtime behaviour of append method with a fixed increase capacity of 100 when an array is full? Plot the graph to answer this.\n",
        "* Each test of `n` should execute `10` rounds\n",
        "* Uses methods from ArrayList class only"
      ],
      "metadata": {
        "id": "fIwfVpCSpSrB"
      }
    },
    {
      "cell_type": "code",
      "source": [
        "ts2 = [timeit.timeit(f'''for x in range({n}):\n",
        "                            l2.append(x,doubling=False)''',setup=f'l2=ArrayList()',globals=globals(),number=10)\n",
        "      for n in ns]"
      ],
      "outputs": [],
      "execution_count": 25,
      "metadata": {
        "id": "0Z3zjmoEqP3I"
      }
    },
    {
      "cell_type": "markdown",
      "source": [
        "### 3.2.3 Combine both plot to compare running time\n",
        "\n",
        "*   Your plot should include x and y label and a title and a legend\n",
        "\n"
      ],
      "metadata": {
        "id": "ApCnqka6pb7z"
      }
    },
    {
      "cell_type": "code",
      "source": [
        "plt.figure(figsize=(16,9))\n",
        "plt.plot(ns,ts1,color='green')\n",
        "plt.plot(ns,ts2,color='red')\n",
        "plt.xlabel(\"Input size(n)\")\n",
        "plt.ylabel(\"Time executed (in second)\")\n",
        "plt.title(\"Double capacity vs. Fixed increase by 1000\")\n",
        "plt.legend(['Doubling','Fixed amount'])\n",
        "\n",
        "plt.show()\n"
      ],
      "outputs": [
        {
          "output_type": "display_data",
          "data": {
            "text/plain": "<pyolite.display.Image at 0x33a9a78>",
            "image/png": "[encoded data removed]"
          },
          "metadata": {}
        }
      ],
      "execution_count": 32,
      "metadata": {
        "id": "ByU_xKKp1Nhu"
      }
    },
    {
      "cell_type": "markdown",
      "source": [
        "### 3.2.4 Why growing a new array by a constant amount has a slower runtime than by a double capacity? Discuss amongst your friends and write your answer below."
      ],
      "metadata": {
        "id": "L3_Af7zbyp2I"
      }
    },
    {
      "cell_type": "markdown",
      "source": [
        "Growing an array by a constant amount is slower because it requires frequent resizing and copying, causing higher overhead. Doubling the capacity reduces the number of resizes due to exponential growth, making it more efficient with an amortized time complexity of\n",
        "𝑂\n",
        "(\n",
        "1\n",
        ")\n",
        "O(1) compared to\n",
        "𝑂\n",
        "(\n",
        "𝑛\n",
        ")\n",
        "O(n) for fixed-size increases."
      ],
      "metadata": {
        "id": "im1U-K2HzwR8"
      }
    },
    {
      "cell_type": "markdown",
      "source": [
        "---"
      ],
      "metadata": {
        "id": "uN07TUUqeYwp"
      }
    },
    {
      "cell_type": "markdown",
      "source": [],
      "metadata": {
        "id": "mNFxT9kSeYwp"
      }
    }
  ],
  "metadata": {
    "colab": {
      "provenance": [],
      "toc_visible": true
    },
    "kernelspec": {
      "name": "python",
      "language": "python",
      "display_name": "Pyolite (preview)"
    },
    "language_info": {
      "codemirror_mode": {
        "name": "python",
        "version": 3
      },
      "file_extension": ".py",
      "mimetype": "text/x-python",
      "name": "python",
      "nbconvert_exporter": "python",
      "pygments_lexer": "ipython3",
      "version": "3.8"
    },
    "kernel_info": {
      "name": "python"
    },
    "nteract": {
      "version": "nteract-front-end@1.0.0"
    }
  },
  "nbformat": 4,
  "nbformat_minor": 0
}