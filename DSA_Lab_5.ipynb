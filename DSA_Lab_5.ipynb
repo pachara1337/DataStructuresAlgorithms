{
  "cells": [
    {
      "cell_type": "markdown",
      "metadata": {
        "id": "ELu7ddeNP7CO"
      },
      "source": [
        "# Lab 5: Singly Linked List"
      ]
    },
    {
      "cell_type": "markdown",
      "metadata": {
        "id": "Yc6Jv2uqP7CP"
      },
      "source": [
        "Lecturer: <code>Sirasit Lochanachit</code>\n",
        "\n",
        "Course:\n",
        "\n",
        "<code>01526102 Data Sturctures and Algorithms [SIIE]\n",
        "</code>\n",
        "\n",
        "Term: <code>02/2024</code>\n",
        "\n",
        "---"
      ]
    },
    {
      "cell_type": "markdown",
      "metadata": {
        "id": "4Mcj-cebP7CQ"
      },
      "source": [
        "# Implementing a Node for Linked Lists (Example)"
      ]
    },
    {
      "cell_type": "markdown",
      "metadata": {
        "id": "fcUD_ojeP7CQ"
      },
      "source": [
        "A node has only two instance variables: `_element` and `_next`.\n",
        "\n",
        "1. The `_element` variable is a reference to values/elements stored.\n",
        "2. The `_next` member points to the subsequent node."
      ]
    },
    {
      "cell_type": "code",
      "execution_count": null,
      "metadata": {
        "id": "ljj5TdcTP7CQ"
      },
      "outputs": [],
      "source": [
        "class _Node:\n",
        "  \"\"\"Lightweight, nonpublic class for storing a singly linked node.\"\"\"\n",
        "  __slots__ = '_element' , '_next'    # streamline memory usage for large number of instances/nodes\n",
        "\n",
        "  def __init__ (self, element, next):   # initialize node’s fields/properties/attributes\n",
        "    self._element = element             # reference to user’s element\n",
        "    self._next = next                   # reference to next node"
      ]
    },
    {
      "cell_type": "markdown",
      "metadata": {
        "id": "C4g8QXR1P7CR"
      },
      "source": [
        "# Singly Linked List"
      ]
    },
    {
      "cell_type": "markdown",
      "metadata": {
        "id": "9keC7TZDP7CR"
      },
      "source": [
        "Given an example of a Singly Linked List below, the root node has two instance variables: `_count` and `_head` whereas a data node has two instance variables: `_name` and `_next`"
      ]
    },
    {
      "cell_type": "markdown",
      "metadata": {
        "id": "VQ7zz2VnP7CR"
      },
      "source": [
        "![image.png](attachment:image.png)"
      ]
    },
    {
      "cell_type": "markdown",
      "metadata": {
        "id": "2dgUYZd4P7CR"
      },
      "source": [
        "Define a Singly Linked List class and DataNode class"
      ]
    },
    {
      "cell_type": "code",
      "execution_count": null,
      "metadata": {
        "id": "1ahuL9SYP7CR"
      },
      "outputs": [],
      "source": [
        "class SinglyLinkedListBase:\n",
        "    def __init__(self):\n",
        "        self._count = 0\n",
        "        self._head = None\n",
        "\n",
        "class DataNode:\n",
        "    def __init__(self, name, next):\n",
        "        self._name = name\n",
        "        self._next = next"
      ]
    },
    {
      "cell_type": "markdown",
      "metadata": {
        "id": "5B_VBKU0P7CS"
      },
      "source": [
        "Example of creating SinglyLinkedList and DataNode instances\n",
        "\n",
        "![image.png](attachment:image.png)"
      ]
    },
    {
      "cell_type": "code",
      "execution_count": null,
      "metadata": {
        "id": "20AV4yQfP7CS"
      },
      "outputs": [],
      "source": [
        "myList = SinglyLinkedListBase()"
      ]
    },
    {
      "cell_type": "markdown",
      "metadata": {
        "id": "xQd9OGhGP7CS"
      },
      "source": [
        "![image.png](attachment:image.png)"
      ]
    },
    {
      "cell_type": "code",
      "execution_count": null,
      "metadata": {
        "id": "WqCM5Se5P7CS"
      },
      "outputs": [],
      "source": [
        "pNew = DataNode(\"John\", None)"
      ]
    },
    {
      "cell_type": "markdown",
      "metadata": {
        "id": "EgTbXsOqP7CS"
      },
      "source": [
        "![image.png](attachment:image.png)"
      ]
    },
    {
      "cell_type": "code",
      "execution_count": null,
      "metadata": {
        "id": "KapRuE_9P7CS"
      },
      "outputs": [],
      "source": [
        "myList._head = pNew\n",
        "myList._count += 1"
      ]
    },
    {
      "cell_type": "code",
      "execution_count": null,
      "metadata": {
        "colab": {
          "base_uri": "https://localhost:8080/"
        },
        "id": "Y4TlNE95P7CS",
        "outputId": "6f6f4146-bbfb-4db4-a6b3-5e0ce1a82fb0"
      },
      "outputs": [
        {
          "output_type": "stream",
          "name": "stdout",
          "text": [
            "Head node is: John\n",
            "Node count: 6\n"
          ]
        }
      ],
      "source": [
        "print(\"Head node is: \" + myList._head._name)\n",
        "print(f\"Node count: {myList._count}\")"
      ]
    },
    {
      "cell_type": "markdown",
      "metadata": {
        "id": "DCpYSjR1P7CT"
      },
      "source": [
        "![image.png](attachment:image.png)"
      ]
    },
    {
      "cell_type": "code",
      "execution_count": null,
      "metadata": {
        "id": "PjMmhRk4P7CT"
      },
      "outputs": [],
      "source": [
        "pNew2 = DataNode(\"Tony\", None)"
      ]
    },
    {
      "cell_type": "markdown",
      "metadata": {
        "id": "cVdXdT6UP7CT"
      },
      "source": [
        "![image.png](attachment:image.png)"
      ]
    },
    {
      "cell_type": "code",
      "execution_count": null,
      "metadata": {
        "id": "sA_xf0QoP7CT"
      },
      "outputs": [],
      "source": [
        "myList._head._next = pNew2\n",
        "myList._count += 1"
      ]
    },
    {
      "cell_type": "code",
      "execution_count": null,
      "metadata": {
        "colab": {
          "base_uri": "https://localhost:8080/"
        },
        "id": "5sPYhDChP7CT",
        "outputId": "aa1fce65-83c8-4bb4-8dc5-60bc12ff2c4e"
      },
      "outputs": [
        {
          "output_type": "stream",
          "name": "stdout",
          "text": [
            "Head node is: John\n",
            "Next node is: Tony\n",
            "Node count: 7\n"
          ]
        }
      ],
      "source": [
        "print(\"Head node is: \" + myList._head._name)\n",
        "print(f\"Next node is: {myList._head._next._name}\")\n",
        "print(f\"Node count: {myList._count}\")"
      ]
    },
    {
      "cell_type": "markdown",
      "metadata": {
        "id": "X6XhbuZ6P7CU"
      },
      "source": [
        "# Lab 5-1 Implement Singly Linked List Operations"
      ]
    },
    {
      "cell_type": "markdown",
      "metadata": {
        "id": "2HLoBq1jP7CU"
      },
      "source": [
        "## 1.1 Problem Description\n",
        "\n",
        "Implement 5 Singly Linked List Operations in a SinglyLinkedList class\n",
        "* traverse(): Print all names in the list in a sequential order\n",
        "  * If a list is empty, print \"This is an empty list\"\n",
        "  * Create `current` pointer to keep track of the current node while traversing\n",
        "* insertFront(data): Create new data node and insert this node at the front of the linked list\n",
        "* insertLast(data): Create new data node and insert this node at the back of the linked list\n",
        "* insertBefore(node_name, data): Create new data node and insert this node before the given node in the linked list\n",
        "  * If a given node is not found in the linked list, print \"Cannot insert, <node_name> does not exist.\"\n",
        "  * Create `prev` and `current` variables to keep track of the node before and the given node.\n",
        "* delete(data): Delete a node correspond to the given data from the linked list\n",
        "  * If a given node is not found in the linked list, print \"Cannot delete, <node_name> does not exists.\"\n",
        "  * Create `prev` pointer to keep track of the node before the deleted node\n",
        "  * Create `current` pointer variable to keep track of the next node after the deleted node.\n",
        "\n",
        "Note: Use `DataNode` class (as defined above) to create a new data node."
      ]
    },
    {
      "cell_type": "code",
      "execution_count": 243,
      "metadata": {
        "id": "XHBpDCBHP7CU"
      },
      "outputs": [],
      "source": [
        "class SinglyLinkedList(SinglyLinkedListBase):       # Extend from SinglyLinkedListBase class defined earlier\n",
        "\n",
        "    #self._count = 0        Inherited from SinglyLinkedListBase class\n",
        "    #self._head = None      Inherited from SinglyLinkedListBase class\n",
        "\n",
        "    def traverse(self):\n",
        "        current = None\n",
        "        if self._head is None:\n",
        "            print(\"This is an empty list.\")\n",
        "\n",
        "        current = self._head\n",
        "        while current is not None:\n",
        "          print(current._name, end=\" -> \" if current._next else \"\\n\")\n",
        "          current = current._next\n",
        "\n",
        "\n",
        "    def insertFront(self, data):\n",
        "        pNew = DataNode(data, None)\n",
        "        pNew._next = self._head\n",
        "        self._head = pNew\n",
        "        self._count += 1\n",
        "        return pNew\n",
        "\n",
        "\n",
        "\n",
        "    def insertLast(self, data):\n",
        "        pNew = DataNode(data, None)\n",
        "        if self._head is None:\n",
        "          self._head = pNew\n",
        "        else:\n",
        "          current = self._head\n",
        "          while current._next is not None:\n",
        "            current = current._next\n",
        "          current._next = pNew\n",
        "        self._count += 1\n",
        "\n",
        "\n",
        "    def insertBefore(self, node_name, data):\n",
        "       pNew = DataNode(data, None)\n",
        "       if self._head is None:\n",
        "        print(f\"Cannot insert, {node_name} doesn't exist.\")\n",
        "        return\n",
        "\n",
        "    # Case 1: If the node to insert before is the head\n",
        "       if self._head._name == node_name:\n",
        "        pNew._next = self._head  # Set the new node's next to the current head\n",
        "        self._head = pNew  # Update the head of the list to the new node\n",
        "       else:\n",
        "        current = self._head\n",
        "        while current._next is not None:  # Traverse through the list\n",
        "            if current._next._name == node_name:  # Found the node\n",
        "                pNew._next = current._next  # Set the new node's next to the next node\n",
        "                current._next = pNew  # Link the current node to the new node\n",
        "                break  # Node found, exit the loop\n",
        "            current = current._next  # Move to the next node\n",
        "\n",
        "        # If the node_name wasn't found\n",
        "        if current._next is None:\n",
        "            print(f\"Cannot insert, {node_name} doesn't exist.\")\n",
        "            return\n",
        "\n",
        "       self._count += 1  # Increment the count of nodes\n",
        "\n",
        "\n",
        "\n",
        "\n",
        "    def delete(self, data):\n",
        "    # Case 1: If the list is empty\n",
        "      if self._head is None:\n",
        "        print(f\"Cannot delete, {data} does not exist.\")\n",
        "        return\n",
        "\n",
        "    # Case 2: If the node to delete is the head node\n",
        "      if self._head._name == data:\n",
        "        self._head = self._head._next  # Update the head to the next node\n",
        "        self._count -= 1  # Decrease the count\n",
        "        return\n",
        "\n",
        "    # Case 3: If the node is not the head, traverse the list to find the node\n",
        "      prev = None\n",
        "      current = self._head\n",
        "      while current is not None:\n",
        "        if current._name == data:\n",
        "          prev._next = current._next  # Remove the current node from the list\n",
        "          self._count -= 1  # Decrease the count\n",
        "          return\n",
        "        prev = current  # Move to the next node\n",
        "        current = current._next\n",
        "\n",
        "    # Case 4: If the node was not found in the list\n",
        "      print(f\"Cannot delete, {data} does not exist.\")\n",
        "\n",
        "\n",
        "\n",
        "\n",
        "    def access(self, index):\n",
        "        # eg., list1.access(2)\n",
        "        current = self._head\n",
        "        count = 0\n",
        "        while current is not None:\n",
        "            if count == index:\n",
        "                return current._name\n",
        "            count += 1\n",
        "            current = current._next\n",
        "        return None\n",
        "\n",
        "    def getSize(self):\n",
        "        # eg., list1.getSize()\n",
        "        return self._count"
      ]
    },
    {
      "cell_type": "markdown",
      "metadata": {
        "id": "stMX0gZGP7CU"
      },
      "source": [
        "## Testing codes"
      ]
    },
    {
      "cell_type": "code",
      "execution_count": 244,
      "metadata": {
        "colab": {
          "base_uri": "https://localhost:8080/"
        },
        "id": "3NlixIxrP7CU",
        "outputId": "bb80a695-e898-4764-f58e-c8bbd209cc27"
      },
      "outputs": [
        {
          "output_type": "stream",
          "name": "stdout",
          "text": [
            "This is an empty list.\n",
            "Cannot insert, Kim doesn't exist.\n",
            "Add John...\n",
            "Head node is: John\n",
            "Node count: 1\n"
          ]
        }
      ],
      "source": [
        "list1 = SinglyLinkedList()\n",
        "\n",
        "list1.traverse()\n",
        "\n",
        "list1.insertBefore(\"Kim\", \"Ko\")\n",
        "\n",
        "print(\"Add John...\")\n",
        "list1._head = DataNode(\"John\", None)\n",
        "list1._count += 1\n",
        "\n",
        "print(\"Head node is: \" + list1._head._name)\n",
        "print(f\"Node count: {list1.getSize()}\")"
      ]
    },
    {
      "cell_type": "code",
      "execution_count": 245,
      "metadata": {
        "colab": {
          "base_uri": "https://localhost:8080/"
        },
        "id": "OcG6xXW0P7CU",
        "outputId": "c977e854-d17c-4bda-8b05-9ac2cccbf692"
      },
      "outputs": [
        {
          "output_type": "stream",
          "name": "stdout",
          "text": [
            "Add Tony...\n",
            "Address of Node-Tony:  0x7d2799501e10\n",
            "Value of list1.head.next:  <__main__.DataNode object at 0x7d2799501e10>\n",
            "Next node is: Tony\n",
            "Node count: 2\n"
          ]
        }
      ],
      "source": [
        "print(\"Add Tony...\")\n",
        "pNew = DataNode(\"Tony\", None)\n",
        "print(\"Address of Node-Tony: \", hex(id(pNew)))\n",
        "list1._head._next = pNew\n",
        "print(\"Value of list1.head.next: \", list1._head._next)\n",
        "list1._count += 1\n",
        "\n",
        "print(f\"Next node is: {list1._head._next._name}\")\n",
        "print(f\"Node count: {list1.getSize()}\")"
      ]
    },
    {
      "cell_type": "code",
      "execution_count": 246,
      "metadata": {
        "colab": {
          "base_uri": "https://localhost:8080/"
        },
        "id": "iXr7M78bP7CV",
        "outputId": "3cf41a23-0750-48df-a433-048209c9305b"
      },
      "outputs": [
        {
          "output_type": "stream",
          "name": "stdout",
          "text": [
            "John -> Tony\n"
          ]
        }
      ],
      "source": [
        "list1.traverse()"
      ]
    },
    {
      "cell_type": "code",
      "execution_count": 247,
      "metadata": {
        "colab": {
          "base_uri": "https://localhost:8080/"
        },
        "id": "l4otCH4oP7CV",
        "outputId": "0b375bf2-2da9-4404-e5f5-518db11cdfb1"
      },
      "outputs": [
        {
          "output_type": "stream",
          "name": "stdout",
          "text": [
            "Add Bill...\n",
            "Next node is: Tony\n",
            "Node count: 3\n"
          ]
        }
      ],
      "source": [
        "print(\"Add Bill...\")\n",
        "pNew = DataNode(\"Bill\", None)\n",
        "list1._head._next._next = pNew\n",
        "list1._count += 1\n",
        "\n",
        "print(f\"Next node is: {list1._head._next._name}\")\n",
        "print(f\"Node count: {list1.getSize()}\")"
      ]
    },
    {
      "cell_type": "code",
      "execution_count": 248,
      "metadata": {
        "colab": {
          "base_uri": "https://localhost:8080/"
        },
        "id": "F6e_Dj7eP7CV",
        "outputId": "10c47a91-2f89-4485-d3d6-0b19801fe3c8"
      },
      "outputs": [
        {
          "output_type": "stream",
          "name": "stdout",
          "text": [
            "John -> Tony -> Bill\n"
          ]
        }
      ],
      "source": [
        "list1.traverse()"
      ]
    },
    {
      "cell_type": "code",
      "execution_count": 249,
      "metadata": {
        "colab": {
          "base_uri": "https://localhost:8080/"
        },
        "id": "WSD5RcozP7CV",
        "outputId": "64afae6d-d0bf-43d1-b635-6742a8776f58"
      },
      "outputs": [
        {
          "output_type": "stream",
          "name": "stdout",
          "text": [
            "Kim -> John -> Tony -> Bill\n"
          ]
        }
      ],
      "source": [
        "list1.insertFront(\"Kim\")\n",
        "list1.traverse()"
      ]
    },
    {
      "cell_type": "code",
      "execution_count": 250,
      "metadata": {
        "colab": {
          "base_uri": "https://localhost:8080/"
        },
        "id": "wMrM9M24P7CV",
        "outputId": "8ed2b254-e008-423f-c89f-eeefdd10e5c2"
      },
      "outputs": [
        {
          "output_type": "stream",
          "name": "stdout",
          "text": [
            "Kim -> John -> Tony -> Bill -> Max\n"
          ]
        }
      ],
      "source": [
        "list1.insertLast(\"Max\")\n",
        "list1.traverse()"
      ]
    },
    {
      "cell_type": "code",
      "execution_count": 251,
      "metadata": {
        "colab": {
          "base_uri": "https://localhost:8080/"
        },
        "id": "mCTIgqoXP7CV",
        "outputId": "a003039c-6add-4a7e-fd32-d92dbe7a6de0"
      },
      "outputs": [
        {
          "output_type": "stream",
          "name": "stdout",
          "text": [
            "Kim -> John -> Andy -> Tony -> Bill -> Max\n"
          ]
        }
      ],
      "source": [
        "list1.insertBefore(\"Tony\", \"Andy\")\n",
        "list1.traverse()"
      ]
    },
    {
      "cell_type": "code",
      "execution_count": 252,
      "metadata": {
        "colab": {
          "base_uri": "https://localhost:8080/"
        },
        "id": "Z2vLv8qIP7CW",
        "outputId": "ad01e30c-5587-443c-acbe-6806e1cf2d91"
      },
      "outputs": [
        {
          "output_type": "stream",
          "name": "stdout",
          "text": [
            "Boyz -> Kim -> John -> Andy -> Tony -> Bill -> Max\n"
          ]
        }
      ],
      "source": [
        "list1.insertBefore(\"Kim\", \"Boyz\")\n",
        "list1.traverse()"
      ]
    },
    {
      "cell_type": "code",
      "execution_count": 213,
      "metadata": {
        "colab": {
          "base_uri": "https://localhost:8080/"
        },
        "id": "ZhMNsoeEP7CW",
        "outputId": "2d7d1e70-97a2-4bcf-90fb-5d4d94a0174b"
      },
      "outputs": [
        {
          "output_type": "stream",
          "name": "stdout",
          "text": [
            "Cannot insert, Kimmy doesn't exist.\n",
            "Boyz -> Boyz -> Kim -> John -> Andy -> Tony -> Bill -> Max\n"
          ]
        }
      ],
      "source": [
        "list1.insertBefore(\"Kimmy\", \"Mike\")\n",
        "list1.traverse()"
      ]
    },
    {
      "cell_type": "code",
      "execution_count": 214,
      "metadata": {
        "id": "qbOulPmwP7CW",
        "outputId": "82969bf7-a547-4d0f-a887-0e6563313c2c",
        "colab": {
          "base_uri": "https://localhost:8080/"
        }
      },
      "outputs": [
        {
          "output_type": "stream",
          "name": "stdout",
          "text": [
            "Boyz -> Boyz -> John -> Andy -> Tony -> Bill -> Max\n"
          ]
        }
      ],
      "source": [
        "list1.delete(\"Kim\")\n",
        "list1.traverse()"
      ]
    },
    {
      "cell_type": "code",
      "execution_count": 216,
      "metadata": {
        "id": "LqaEMUQUP7CW",
        "outputId": "0a8bbcec-b046-4e85-b2d6-144c4a59c130",
        "colab": {
          "base_uri": "https://localhost:8080/"
        }
      },
      "outputs": [
        {
          "output_type": "stream",
          "name": "stdout",
          "text": [
            "John -> Andy -> Tony -> Bill -> Max\n"
          ]
        }
      ],
      "source": [
        "list1.delete(\"Boyz\")\n",
        "list1.traverse()"
      ]
    },
    {
      "cell_type": "code",
      "execution_count": 217,
      "metadata": {
        "id": "Wft78qNDP7CW",
        "outputId": "ffcee594-14e1-473c-93f5-1b608e44c1c0",
        "colab": {
          "base_uri": "https://localhost:8080/"
        }
      },
      "outputs": [
        {
          "output_type": "stream",
          "name": "stdout",
          "text": [
            "Cannot delete, Boy does not exist.\n",
            "John -> Andy -> Tony -> Bill -> Max\n"
          ]
        }
      ],
      "source": [
        "list1.delete(\"Boy\")\n",
        "list1.traverse()"
      ]
    },
    {
      "cell_type": "code",
      "execution_count": 218,
      "metadata": {
        "colab": {
          "base_uri": "https://localhost:8080/"
        },
        "id": "4r0MikgXP7CX",
        "outputId": "d792ac08-96fa-430c-86c5-04bb97e5f492"
      },
      "outputs": [
        {
          "output_type": "stream",
          "name": "stdout",
          "text": [
            "Anna -> John -> Andy -> Tony -> Bill -> Max\n"
          ]
        }
      ],
      "source": [
        "list1.insertFront(\"Anna\")\n",
        "list1.traverse()"
      ]
    },
    {
      "cell_type": "code",
      "execution_count": 220,
      "metadata": {
        "colab": {
          "base_uri": "https://localhost:8080/"
        },
        "id": "59j9iL0UP7CX",
        "outputId": "caf4833c-0cac-4a91-9b17-c2f7310b146e"
      },
      "outputs": [
        {
          "output_type": "stream",
          "name": "stdout",
          "text": [
            "Node count: 5\n"
          ]
        }
      ],
      "source": [
        "print(f\"Node count: {list1.getSize()}\")"
      ]
    },
    {
      "cell_type": "code",
      "execution_count": null,
      "metadata": {
        "id": "HZbqoxu4P7CY",
        "outputId": "b8556d83-70b3-4655-b310-8e30708a7aaf"
      },
      "outputs": [
        {
          "name": "stdout",
          "output_type": "stream",
          "text": [
            "Traverse :  Anna -> John -> Andy -> Tony -> Bill -> Max -> Joe \n"
          ]
        }
      ],
      "source": [
        "list1.insertLast(\"Joe\")\n",
        "list1.traverse()"
      ]
    },
    {
      "cell_type": "code",
      "execution_count": 222,
      "metadata": {
        "colab": {
          "base_uri": "https://localhost:8080/"
        },
        "id": "_YOSr752P7CY",
        "outputId": "236026a7-7463-46f9-a212-1b8843db6eed"
      },
      "outputs": [
        {
          "output_type": "stream",
          "name": "stdout",
          "text": [
            "Node count: 5\n"
          ]
        }
      ],
      "source": [
        "print(f\"Node count: {list1.getSize()}\")"
      ]
    },
    {
      "cell_type": "code",
      "execution_count": null,
      "metadata": {
        "colab": {
          "base_uri": "https://localhost:8080/"
        },
        "id": "MCT9KVOOP7CY",
        "outputId": "c138693a-a991-4228-e449-1627a9a608ab"
      },
      "outputs": [
        {
          "output_type": "execute_result",
          "data": {
            "text/plain": [
              "7"
            ]
          },
          "metadata": {},
          "execution_count": 158
        }
      ],
      "source": [
        "list1.getSize()"
      ]
    },
    {
      "cell_type": "code",
      "execution_count": null,
      "metadata": {
        "colab": {
          "base_uri": "https://localhost:8080/",
          "height": 35
        },
        "id": "yXQ4JXTuP7CY",
        "outputId": "b3c3c378-0465-4329-d211-afecd40ccd16"
      },
      "outputs": [
        {
          "output_type": "execute_result",
          "data": {
            "text/plain": [
              "'John'"
            ],
            "application/vnd.google.colaboratory.intrinsic+json": {
              "type": "string"
            }
          },
          "metadata": {},
          "execution_count": 159
        }
      ],
      "source": [
        "list1.access(list1.getSize()//2)"
      ]
    },
    {
      "cell_type": "markdown",
      "metadata": {
        "id": "XN_mFPeyP7CY"
      },
      "source": [
        "---"
      ]
    },
    {
      "cell_type": "markdown",
      "metadata": {
        "id": "4rt99EezP7CY"
      },
      "source": [
        "# Lab 5-2 Array List vs Singly Linked List"
      ]
    },
    {
      "cell_type": "markdown",
      "metadata": {
        "id": "Wa0V8R7CP7CY"
      },
      "source": [
        "Given an empty list `data = []`, record the **average** running time of different insert methods in seconds with three different inserting patterns for each of the `n` calls:\n",
        "\n",
        "*   Repeatedly insert at the beginning of a list\n",
        "*   Repeatedly insert near the middle of a list\n",
        "*   Repeatedly insert at the end of a list\n",
        "\n",
        "Your task is to compare running time between array list (as defined in Lab 3-1) and singly linked list methods (as defined in Lab 5-1).\n",
        "\n",
        "**This could run very long, so brace yourself** and make sure to limit `number` argument in `timeit()` to 10 times (default is 1,000,000 times)"
      ]
    },
    {
      "cell_type": "markdown",
      "metadata": {
        "id": "qRCTGN60P7CY"
      },
      "source": [
        "## 2.1 Plot the running time of three different inserting patterns comparing between array list and singly linked list methods. Try plotting pairwise for each pattern first.\n",
        "* Each test should run insert method `n` times and each test of `n` should execute 10 rounds"
      ]
    },
    {
      "cell_type": "code",
      "execution_count": null,
      "metadata": {
        "id": "ev23xJPwP7CY"
      },
      "outputs": [],
      "source": [
        "import timeit\n",
        "import numpy as np\n",
        "import matplotlib.pyplot as plt"
      ]
    },
    {
      "cell_type": "markdown",
      "metadata": {
        "id": "OsaBYOfrP7CZ"
      },
      "source": [
        "Given input size (n) that grows from 10 to 1,000"
      ]
    },
    {
      "cell_type": "code",
      "execution_count": null,
      "metadata": {
        "colab": {
          "base_uri": "https://localhost:8080/"
        },
        "id": "HLQKMDtmP7CZ",
        "outputId": "e6ab13ca-5442-48ce-fd2e-4e1d674797b0"
      },
      "outputs": [
        {
          "output_type": "execute_result",
          "data": {
            "text/plain": [
              "array([  10,   30,   50,   70,   90,  111,  131,  151,  171,  191,  212,\n",
              "        232,  252,  272,  292,  313,  333,  353,  373,  393,  414,  434,\n",
              "        454,  474,  494,  515,  535,  555,  575,  595,  616,  636,  656,\n",
              "        676,  696,  717,  737,  757,  777,  797,  818,  838,  858,  878,\n",
              "        898,  919,  939,  959,  979, 1000])"
            ]
          },
          "metadata": {},
          "execution_count": 163
        }
      ],
      "source": [
        "ns = np.linspace(10, 1000, 50, dtype=int)\n",
        "ns"
      ]
    },
    {
      "cell_type": "markdown",
      "metadata": {
        "id": "fyH2W-jTP7CZ"
      },
      "source": [
        "### Beginning of a list"
      ]
    },
    {
      "cell_type": "code",
      "execution_count": null,
      "metadata": {
        "id": "PoyjWKHTP7CZ"
      },
      "outputs": [],
      "source": [
        "\n",
        "ts1 = [timeit.timeit(f'''\n",
        "for i in range({n}):\n",
        "  data.insert(0,{n})''',\n",
        "               setup = 'data = []',\n",
        "               number=10,\n",
        "               globals=globals()) for n in ns]\n",
        "\n",
        "ts2 = [timeit.timeit(f'for i in range({n}):data.insertFront({n})',\n",
        "               setup = 'data = SinglyLinkedList()',\n",
        "               number=10,\n",
        "               globals=globals())\n",
        " for n in ns]"
      ]
    },
    {
      "cell_type": "code",
      "execution_count": null,
      "metadata": {
        "colab": {
          "base_uri": "https://localhost:8080/",
          "height": 641
        },
        "id": "3ynVDEJUP7CZ",
        "outputId": "ab44bb89-7ef2-4903-f251-0357a993ee3b"
      },
      "outputs": [
        {
          "output_type": "display_data",
          "data": {
            "text/plain": [
              "<Figure size 1000x700 with 1 Axes>"
            ],
            "image/png": "[encoded data removed]"
          },
          "metadata": {}
        }
      ],
      "source": [
        "plt.figure(figsize=(10,7))\n",
        "plt.plot(ns, ts1, 'ob')\n",
        "plt.plot(ns, ts2, 'or');\n",
        "plt.xlabel('Input Size (n)');\n",
        "plt.ylabel('Time Executed (in seconds)');\n",
        "plt.title('Running time of adding an element at the begining of a list on 10 rounds');\n",
        "plt.legend(['ArrayList', 'SinglyLinkedList']);"
      ]
    },
    {
      "cell_type": "markdown",
      "metadata": {
        "id": "RnR4GkFsP7CZ"
      },
      "source": [
        "### Near the middle of a list"
      ]
    },
    {
      "cell_type": "code",
      "execution_count": null,
      "metadata": {
        "id": "nzFizkouP7CZ"
      },
      "outputs": [],
      "source": [
        "ts3 = [timeit.timeit(f'for i in range({n}): data.insert(len(data)//2,{n})',\n",
        "               setup = 'data = []',\n",
        "               number=10,\n",
        "               globals=globals())\n",
        " for n in ns]\n",
        "\n",
        "ts4 = [timeit.timeit(f'''\n",
        "for i in range({n}):\n",
        "  node_name=data.access(data.getSize()//2)\n",
        "  if node_name is not None:\n",
        "    data.insertBefore(node_name,i)''',\n",
        "               setup = 'data = SinglyLinkedList()',\n",
        "               number=10,\n",
        "               globals=globals())\n",
        " for n in ns]"
      ]
    },
    {
      "cell_type": "code",
      "execution_count": null,
      "metadata": {
        "colab": {
          "base_uri": "https://localhost:8080/",
          "height": 641
        },
        "id": "X0xg2cb7P7Ca",
        "outputId": "f55f7a67-12e5-407e-c521-f59b14711b59"
      },
      "outputs": [
        {
          "output_type": "display_data",
          "data": {
            "text/plain": [
              "<Figure size 1000x700 with 1 Axes>"
            ],
            "image/png": "[encoded data removed]"
          },
          "metadata": {}
        }
      ],
      "source": [
        "plt.figure(figsize=(10,7))\n",
        "plt.plot(ns, ts3, 'ob')\n",
        "plt.plot(ns, ts4, 'or');\n",
        "plt.xlabel('Input Size (n)');\n",
        "plt.ylabel('Time Executed (in seconds)');\n",
        "plt.title('Running time of adding an element near the middle of a list on 10 rounds');\n",
        "plt.legend(['ArrayList', 'SinglyLinkedList']);"
      ]
    },
    {
      "cell_type": "markdown",
      "metadata": {
        "id": "lcAdcgTlP7Ca"
      },
      "source": [
        "### At the end of a list"
      ]
    },
    {
      "cell_type": "code",
      "execution_count": 169,
      "metadata": {
        "id": "uZQV1hwJP7Ca"
      },
      "outputs": [],
      "source": [
        "ts5 = [timeit.timeit(f'for i in range({n}): data.append({n})',\n",
        "               setup = 'data = []',\n",
        "               number=10,\n",
        "               globals=globals())\n",
        " for n in ns]\n",
        "\n",
        "ts6 = [timeit.timeit(f'for i in range({n}):data.insertLast({n})',\n",
        "               setup = 'data = SinglyLinkedList()',\n",
        "               number=10,\n",
        "               globals=globals())\n",
        " for n in ns]"
      ]
    },
    {
      "cell_type": "code",
      "execution_count": 170,
      "metadata": {
        "id": "-wGxbho6P7Ca",
        "colab": {
          "base_uri": "https://localhost:8080/",
          "height": 641
        },
        "outputId": "c0a3c61e-48ce-4cfd-e26f-824ecf160e5d"
      },
      "outputs": [
        {
          "output_type": "display_data",
          "data": {
            "text/plain": [
              "<Figure size 1000x700 with 1 Axes>"
            ],
            "image/png": "[encoded data removed]"
          },
          "metadata": {}
        }
      ],
      "source": [
        "plt.figure(figsize=(10,7))\n",
        "plt.plot(ns, ts5, 'ob')\n",
        "plt.plot(ns, ts6, 'or');\n",
        "plt.xlabel('Input Size (n)');\n",
        "plt.ylabel('Time Executed (in seconds)');\n",
        "plt.title('Running time of adding an element at the end of a list on 10 rounds');\n",
        "plt.legend(['ArrayList', 'SinglyLinkedList']);"
      ]
    },
    {
      "cell_type": "markdown",
      "metadata": {
        "id": "Z3sI4waiP7Ca"
      },
      "source": [
        "## 2.2 Combine all three plots into one plot"
      ]
    },
    {
      "cell_type": "code",
      "execution_count": 177,
      "metadata": {
        "id": "ZLRX-rIuP7Cd",
        "colab": {
          "base_uri": "https://localhost:8080/",
          "height": 447
        },
        "outputId": "ec69501c-ef8f-4b5b-89f1-37ee6290b0ee"
      },
      "outputs": [
        {
          "output_type": "execute_result",
          "data": {
            "text/plain": [
              "[<matplotlib.lines.Line2D at 0x7d27c422db10>]"
            ]
          },
          "metadata": {},
          "execution_count": 177
        },
        {
          "output_type": "display_data",
          "data": {
            "text/plain": [
              "<Figure size 640x480 with 1 Axes>"
            ],
            "image/png": "[encoded data removed]"
          },
          "metadata": {}
        }
      ],
      "source": [
        "plt.plot(ns, ts1,'c',label=' the front of a list of ArrayList')\n",
        "plt.plot(ns,ts2 , 'r',label='the front of a list if Singly Linked list')\n",
        "plt.plot(ns,ts3, 'b',label='the near of the middle of a list  of ArrayList')\n",
        "plt.plot(ns,ts4,'g',label='the near of the middle of a list of Singly Linked List')\n",
        "plt.plot(ns,ts5,'y',label='the end of a list of ArrayList')\n",
        "plt.plot(ns,ts6,'m',label=' the end of a list of Singly Linked list')\n"
      ]
    },
    {
      "cell_type": "markdown",
      "metadata": {
        "id": "UUiGl3ZwP7Cd"
      },
      "source": [
        "---"
      ]
    },
    {
      "cell_type": "markdown",
      "metadata": {
        "id": "bM2fqFqFP7Cd"
      },
      "source": []
    }
  ],
  "metadata": {
    "kernelspec": {
      "display_name": "Python 3",
      "language": "python",
      "name": "python3"
    },
    "language_info": {
      "codemirror_mode": {
        "name": "ipython",
        "version": 3
      },
      "file_extension": ".py",
      "mimetype": "text/x-python",
      "name": "python",
      "nbconvert_exporter": "python",
      "pygments_lexer": "ipython3",
      "version": "3.10.2"
    },
    "orig_nbformat": 4,
    "colab": {
      "provenance": []
    }
  },
  "nbformat": 4,
  "nbformat_minor": 0
}